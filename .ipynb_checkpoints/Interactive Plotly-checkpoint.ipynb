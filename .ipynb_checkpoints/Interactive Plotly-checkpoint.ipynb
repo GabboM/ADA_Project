{
 "cells": [
  {
   "cell_type": "code",
   "execution_count": 1,
   "metadata": {},
   "outputs": [],
   "source": [
    "%matplotlib inline\n",
    "import pandas as pd\n",
    "import numpy as np\n",
    "import re\n",
    "from matplotlib.ticker import MaxNLocator\n",
    "import matplotlib.pyplot as plt\n",
    "import folium\n",
    "from sklearn import preprocessing\n",
    "import geopandas as gpd\n",
    "import matplotlib.colors as colors\n",
    "import matplotlib.colors as colors\n",
    "from ipywidgets import interact, interactive, fixed, interact_manual\n",
    "import ipywidgets as widgets\n",
    "#from helpers import *\n",
    "from ipywidgets import SelectMultiple, RadioButtons, interact, Layout\n",
    "%load_ext autoreload\n",
    "%autoreload 2"
   ]
  },
  {
   "cell_type": "code",
   "execution_count": 2,
   "metadata": {},
   "outputs": [],
   "source": [
    "import plotly.graph_objects as go\n",
    "import plotly.offline as off"
   ]
  },
  {
   "cell_type": "code",
   "execution_count": 3,
   "metadata": {},
   "outputs": [],
   "source": [
    "import networkx as nx"
   ]
  },
  {
   "cell_type": "markdown",
   "metadata": {},
   "source": [
    "## Interactive Plotly\n",
    "Now we are going to use plotly interactively so that we can choose the country we want to plot."
   ]
  },
  {
   "cell_type": "code",
   "execution_count": 4,
   "metadata": {},
   "outputs": [],
   "source": [
    "# Load the dataset\n",
    "mat = pd.read_pickle(\"pickle/trade_matrix.pkl\")\n",
    "matn = pd.read_pickle(\"pickle/trade_matrix_norm.pkl\")\n",
    "val = pd.read_pickle(\"pickle/value_production.pkl\")"
   ]
  },
  {
   "cell_type": "code",
   "execution_count": 7,
   "metadata": {},
   "outputs": [],
   "source": [
    "# Define the countries list\n",
    "years = ['Y'+str(2000+x) for x in range(0,17)]\n",
    "tot_prod = val[years].mean(axis=1)"
   ]
  },
  {
   "cell_type": "markdown",
   "metadata": {},
   "source": [
    "### Function for retreiveng the data"
   ]
  },
  {
   "cell_type": "code",
   "execution_count": 96,
   "metadata": {},
   "outputs": [],
   "source": [
    "def networkgraph(country, matn, mat, val, n, mode):\n",
    "    # Retreive the total mean production value for the country\n",
    "    years = ['Y'+str(2000+x) for x in range(0,17)]\n",
    "    tot_prod = val[years].mean(axis=1).loc[country]\n",
    "    \n",
    "    if mode == 'export':\n",
    "        # Select the country and do the mean\n",
    "        exportn = matn[(matn.reset_index().From==country).values]\n",
    "        exportn = exportn.mean(axis=1)\n",
    "        exportn = exportn.reset_index().set_index(['From', 'To'])\n",
    "        exportn = exportn.rename(columns={0:\"Value\"})\n",
    "        # Do the same for the absolute values\n",
    "        export = mat[(mat.reset_index().From==country).values]\n",
    "        export = export.mean(axis=1)\n",
    "        export = export.reset_index().set_index(['From', 'To'])\n",
    "        export = export.rename(columns={0:\"Value\"})\n",
    "        \n",
    "\n",
    "        # Select the top n\n",
    "        n = 30\n",
    "        n = n-1\n",
    "        exportn = exportn.sort_values(['Value'], ascending=False)\n",
    "        topnexn = exportn.iloc[:n]\n",
    "        countries = set(topnexn.reset_index().From.values).union(topnexn.reset_index().To.values)\n",
    "\n",
    "        # Retrieve these countries' absolute values\n",
    "        topnex = export.reset_index().set_index('To').loc[list(countries)]\n",
    "\n",
    "        # Add the nodes to the network\n",
    "        G = nx.DiGraph()\n",
    "        G.add_nodes_from(countries)\n",
    "        # Add the edges\n",
    "        G.add_weighted_edges_from(topnexn.reset_index().values)\n",
    "\n",
    "        # Retreive the export values\n",
    "        datan = topnexn.Value.reset_index().drop('From', axis=1).set_index('To')\n",
    "        ton = pd.Series(datan['Value'], index=datan.index)\n",
    "        try:\n",
    "            ton[country]\n",
    "        except:\n",
    "            ton = ton.append(pd.Series([0], index=[country]))\n",
    "        max_ton=max(ton)\n",
    "\n",
    "        # Do the same for the absolute values\n",
    "        data = topnex.Value.reset_index().set_index('To')\n",
    "        to = pd.Series(data['Value'], index=data.index)\n",
    "        try:\n",
    "            to[country]\n",
    "        except:\n",
    "            to = to.append(pd.Series([0], index=[country]))\n",
    "\n",
    "        # Add the import values as attributes to the nodes\n",
    "        nx.set_node_attributes(G, ton, 'To_norm')\n",
    "        nx.set_node_attributes(G, to, 'To')\n",
    "        pos = nx.spring_layout(G)\n",
    "        nx.set_node_attributes(G, pos, 'pos')\n",
    "        \n",
    "        return G, max_ton;\n",
    "        \n",
    "    else:\n",
    "        # Select the country and do the mean\n",
    "        imprtn = matn[(matn.reset_index().To==country).values]\n",
    "        imprtn = imprtn.mean(axis=1)\n",
    "        imprtn = imprtn.reset_index().set_index(['From', 'To'])\n",
    "        imprtn = imprtn.rename(columns={0:\"Value\"})\n",
    "        # Do the same for the absolute values\n",
    "        imprt = mat[(mat.reset_index().To==country).values]\n",
    "        imprt = imprt.mean(axis=1)\n",
    "        imprt = imprt.reset_index().set_index(['From', 'To'])\n",
    "        imprt = imprt.rename(columns={0:\"Value\"})\n",
    "\n",
    "        # Select the top n\n",
    "        imprt = imprt.sort_values(['Value'], ascending=False)\n",
    "        topnim = imprt.iloc[:n]\n",
    "        countries = set(topnim.reset_index().From.values).union(topnim.reset_index().To.values)\n",
    "\n",
    "        # Retrieve these countries' normalized values\n",
    "        topnimn = imprtn.reset_index().set_index('From').loc[list(countries)]\n",
    "\n",
    "        # Add the nodes to the network\n",
    "        G = nx.DiGraph()\n",
    "        G.add_nodes_from(countries)\n",
    "        # Add the edges\n",
    "        G.add_weighted_edges_from(topnim.reset_index()[['To', 'From', 'Value']].values)\n",
    "\n",
    "        # Retreive the import values\n",
    "        data = topnim.Value.reset_index().drop('To', axis=1).set_index('From')\n",
    "        frm = pd.Series(data['Value'], index=data.index)\n",
    "        try:\n",
    "            frm[country]\n",
    "        except:\n",
    "            frm = frm.append(pd.Series([0], index=[country]))\n",
    "        max_frm=max(frm)\n",
    "\n",
    "        # Do the same for the normalized values\n",
    "        datan = topnimn.Value.reset_index().set_index('From')\n",
    "        frmn = pd.Series(datan['Value'], index=datan.index)\n",
    "        try:\n",
    "            frmn[country]\n",
    "        except:\n",
    "            frmn = frmn.append(pd.Series([0], index=[country]))\n",
    "\n",
    "\n",
    "        # Add the import values as attributes to the nodes\n",
    "        nx.set_node_attributes(G, frmn, 'From_norm')\n",
    "        nx.set_node_attributes(G, frm, 'From')\n",
    "        pos = nx.spring_layout(G)\n",
    "        nx.set_node_attributes(G, pos, 'pos')\n",
    "\n",
    "        return G, max_frm;"
   ]
  },
  {
   "cell_type": "markdown",
   "metadata": {},
   "source": [
    "### Export"
   ]
  },
  {
   "cell_type": "code",
   "execution_count": 97,
   "metadata": {},
   "outputs": [
    {
     "name": "stderr",
     "output_type": "stream",
     "text": [
      "C:\\Users\\Francesco\\Anaconda3\\lib\\site-packages\\ipykernel_launcher.py:25: FutureWarning:\n",
      "\n",
      "\n",
      "Passing list-likes to .loc or [] with any missing label will raise\n",
      "KeyError in the future, you can use .reindex() as an alternative.\n",
      "\n",
      "See the documentation here:\n",
      "https://pandas.pydata.org/pandas-docs/stable/user_guide/indexing.html#deprecate-loc-reindex-listlike\n",
      "\n"
     ]
    }
   ],
   "source": [
    "fig = go.Figure()\n",
    "list_countries = ['Italy', 'China']\n",
    "\n",
    "for country in list_countries:\n",
    "    G, max_ton = networkgraph(country, matn, mat, val, 30, 'export')\n",
    "    edge_x = []\n",
    "    edge_y = []\n",
    "    for edge in G.edges():\n",
    "        x0, y0 = G.nodes[edge[0]]['pos']\n",
    "        x1, y1 = G.nodes[edge[1]]['pos']\n",
    "        edge_x.append(x0)\n",
    "        edge_x.append(x1)\n",
    "        edge_x.append(None)\n",
    "        edge_y.append(y0)\n",
    "        edge_y.append(y1)\n",
    "        edge_y.append(None)\n",
    "\n",
    "    edge_trace = go.Scatter(\n",
    "        x=edge_x, y=edge_y,\n",
    "        line=dict(width=0.5, color='#888'),\n",
    "        hoverinfo='none',\n",
    "        mode='lines')\n",
    "\n",
    "    node_x = []\n",
    "    node_y = []\n",
    "    labels = []\n",
    "\n",
    "    for node in G.nodes():\n",
    "        x, y = G.nodes[node]['pos']\n",
    "        node_x.append(x)\n",
    "        node_y.append(y)\n",
    "        labels.append(node)\n",
    "\n",
    "    node_trace = go.Scatter(\n",
    "        x=node_x, y=node_y,\n",
    "        mode='markers + text',\n",
    "        hoverinfo='text',\n",
    "        text = labels,\n",
    "        textfont=dict(\n",
    "            family=\"Arial\",\n",
    "            size=10,\n",
    "            color= 'firebrick'\n",
    "            #'#ff7f0e'\n",
    "        ),\n",
    "        marker=dict(\n",
    "            showscale=True,\n",
    "            # colorscale options\n",
    "            #'Greys' | 'YlGnBu' | 'Greens' | 'YlOrRd' | 'Bluered' | 'RdBu' |\n",
    "            #'Reds' | 'Blues' | 'Picnic' | 'Rainbow' | 'Portland' | 'Jet' |\n",
    "            #'Hot' | 'Blackbody' | 'Earth' | 'Electric' | 'Viridis' |\n",
    "            colorscale='YlGnBu',\n",
    "            reversescale=True,\n",
    "            color=[],\n",
    "            size=[],\n",
    "            colorbar=dict(\n",
    "                thickness=15,\n",
    "                title='Percentage of ' + country + '\\'s total production',\n",
    "                xanchor='left',\n",
    "                titleside='right'\n",
    "            ),\n",
    "            line_width=2))\n",
    "\n",
    "    node_color = []\n",
    "    node_text = []\n",
    "    node_size = []\n",
    "    for node in G.nodes():\n",
    "        if node != country:\n",
    "            node_text.append('Export value: ' + str(round(G.nodes()[node]['To_norm']*100, 4)) +'%<br>'\n",
    "                             + 'Absolute value: ' + str (int(G.nodes()[node]['To']/1000)) + ' mln US$')\n",
    "            node_color.append(G.nodes()[node]['To_norm'])\n",
    "            node_size.append(np.log(1+G.nodes()[node]['To_norm'])*50/np.log(1+max_ton))\n",
    "\n",
    "        else:\n",
    "            node_text.append(country + '\\'s total production: ' + str(int(tot_prod)) + ' mln US$')\n",
    "            node_color.append('lightgray')\n",
    "            node_size.append(50)\n",
    "            node_textposition ='middle center',\n",
    "\n",
    "    textposition=\"middle center\",\n",
    "\n",
    "    node_trace.marker.color = node_color\n",
    "    node_trace.marker.size = node_size\n",
    "    node_trace.hovertext = node_text\n",
    "\n",
    "    fig.add_trace(edge_trace)\n",
    "    fig.add_trace(node_trace)\n",
    "    fig.update_layout(title='<b>Network graph of                       \\'s export',\n",
    "                      titlefont_size=16,\n",
    "                      showlegend=False,\n",
    "                      hovermode='closest',\n",
    "                      margin=dict(b=20,l=5,r=5,t=40),\n",
    "                      plot_bgcolor = 'white',\n",
    "                      xaxis=dict(showgrid=False, zeroline=False, showticklabels=False),\n",
    "                      yaxis=dict(showgrid=False, zeroline=False, showticklabels=False))\n",
    "    "
   ]
  },
  {
   "cell_type": "code",
   "execution_count": 98,
   "metadata": {},
   "outputs": [],
   "source": [
    "buttons = []\n",
    "\n",
    "buttons.append(dict(method='update',\n",
    "                args=[{'visible': [False]*len(list_countries)*2}],\n",
    "                label='Select Country'))\n",
    "\n",
    "for i in range(0, len(list_countries)):\n",
    "    show = [False]*len(list_countries)*2\n",
    "    show[i*2] = True\n",
    "    show[i*2+1] = True\n",
    "    but = dict(method='update',\n",
    "                args=[{'visible': show}],\n",
    "                label=list_countries[i])\n",
    "    buttons.append(but)"
   ]
  },
  {
   "cell_type": "code",
   "execution_count": 99,
   "metadata": {},
   "outputs": [],
   "source": [
    "# Here we create the menu using the buttons created above\n",
    "menus=list([dict(x=0.25, y=1.10, yanchor='top', xanchor='left',  buttons = buttons)])"
   ]
  },
  {
   "cell_type": "code",
   "execution_count": 100,
   "metadata": {},
   "outputs": [
    {
     "data": {
      "application/vnd.plotly.v1+json": {
       "config": {
        "plotlyServerURL": "https://plot.ly"
       },
       "data": [
        {
         "hoverinfo": "none",
         "line": {
          "color": "#888",
          "width": 0.5
         },
         "mode": "lines",
         "type": "scatter",
         "x": [
          0.058219818368737575,
          -0.17781588813800814,
          null,
          0.058219818368737575,
          -0.5506521372260723,
          null,
          0.058219818368737575,
          0.43950761456831666,
          null,
          0.058219818368737575,
          0.22635616158949562,
          null,
          0.058219818368737575,
          0.7140648190846316,
          null,
          0.058219818368737575,
          0.7809766736916596,
          null,
          0.058219818368737575,
          -0.8950919177087188,
          null,
          0.058219818368737575,
          0.47667091347650403,
          null,
          0.058219818368737575,
          0.719860077418022,
          null,
          0.058219818368737575,
          -0.14307433081383875,
          null,
          0.058219818368737575,
          0.887362924684996,
          null,
          0.058219818368737575,
          0.9667374391391552,
          null,
          0.058219818368737575,
          0.8757648112810125,
          null,
          0.058219818368737575,
          -0.9561804955843235,
          null,
          0.058219818368737575,
          0.07188229315425523,
          null,
          0.058219818368737575,
          -0.3729723050194285,
          null,
          0.058219818368737575,
          0.054901365289598346,
          null,
          0.058219818368737575,
          -0.9559622201819344,
          null,
          0.058219818368737575,
          0.9935438466495715,
          null,
          0.058219818368737575,
          0.6967168563381528,
          null,
          0.058219818368737575,
          0.301166992781211,
          null,
          0.058219818368737575,
          -0.7459502481985836,
          null,
          0.058219818368737575,
          0.8627283736077095,
          null,
          0.058219818368737575,
          -1,
          null,
          0.058219818368737575,
          -0.6438860667762794,
          null,
          0.058219818368737575,
          -0.5964922975076707,
          null,
          0.058219818368737575,
          -0.35427389413758686,
          null,
          0.058219818368737575,
          -0.8847111860822209,
          null,
          0.058219818368737575,
          -0.8493979937483633,
          null
         ],
         "y": [
          -0.2083683683880643,
          -0.8669157348393987,
          null,
          -0.2083683683880643,
          -0.7772104237150579,
          null,
          -0.2083683683880643,
          -0.8481522609968065,
          null,
          -0.2083683683880643,
          -0.8246952121509293,
          null,
          -0.2083683683880643,
          0.8336330414482864,
          null,
          -0.2083683683880643,
          0.6317873347049129,
          null,
          -0.2083683683880643,
          -0.05794084073744182,
          null,
          -0.2083683683880643,
          0.7480393042816711,
          null,
          -0.2083683683880643,
          -0.5579149794363734,
          null,
          -0.2083683683880643,
          0.9774259951126572,
          null,
          -0.2083683683880643,
          0.17102655534430986,
          null,
          -0.2083683683880643,
          -0.4668940249513017,
          null,
          -0.2083683683880643,
          0.3992127133436862,
          null,
          -0.2083683683880643,
          0.3437601407950055,
          null,
          -0.2083683683880643,
          0.9319312379359305,
          null,
          -0.2083683683880643,
          0.929561127934341,
          null,
          -0.2083683683880643,
          -0.9588043589497619,
          null,
          -0.2083683683880643,
          -0.2555330148472287,
          null,
          -0.2083683683880643,
          -0.095616122880128,
          null,
          -0.2083683683880643,
          -0.7957212110576207,
          null,
          -0.2083683683880643,
          0.920779557321841,
          null,
          -0.2083683683880643,
          -0.6633820646950259,
          null,
          -0.2083683683880643,
          -0.21468900959842477,
          null,
          -0.2083683683880643,
          0.10660236269028509,
          null,
          -0.2083683683880643,
          0.6230235978293585,
          null,
          -0.2083683683880643,
          0.8231106766915192,
          null,
          -0.2083683683880643,
          -0.9405754182265581,
          null,
          -0.2083683683880643,
          -0.47551664723815096,
          null,
          -0.2083683683880643,
          0.5680360472744687,
          null
         ]
        },
        {
         "hoverinfo": "text",
         "hovertext": [
          "Export value: 1.2138%<br>Absolute value: 778 mln US$",
          "Export value: 10.1546%<br>Absolute value: 6012 mln US$",
          "Export value: 0.3902%<br>Absolute value: 235 mln US$",
          "Export value: 0.2207%<br>Absolute value: 137 mln US$",
          "Export value: 0.4716%<br>Absolute value: 281 mln US$",
          "Export value: 0.3184%<br>Absolute value: 191 mln US$",
          "Export value: 0.3689%<br>Absolute value: 222 mln US$",
          "Italy's total production: 38520 mln US$",
          "Export value: 0.2239%<br>Absolute value: 133 mln US$",
          "Export value: 1.0742%<br>Absolute value: 644 mln US$",
          "Export value: 0.41%<br>Absolute value: 255 mln US$",
          "Export value: 4.7867%<br>Absolute value: 2837 mln US$",
          "Export value: 2.3578%<br>Absolute value: 1395 mln US$",
          "Export value: 1.1106%<br>Absolute value: 648 mln US$",
          "Export value: 1.6533%<br>Absolute value: 988 mln US$",
          "Export value: 1.8601%<br>Absolute value: 1118 mln US$",
          "Export value: 0.2165%<br>Absolute value: 133 mln US$",
          "Export value: 5.4498%<br>Absolute value: 3264 mln US$",
          "Export value: 0.3168%<br>Absolute value: 190 mln US$",
          "Export value: 0.9971%<br>Absolute value: 593 mln US$",
          "Export value: 1.869%<br>Absolute value: 1110 mln US$",
          "Export value: 0.8315%<br>Absolute value: 494 mln US$",
          "Export value: 0.8328%<br>Absolute value: 513 mln US$",
          "Export value: 0.5663%<br>Absolute value: 342 mln US$",
          "Export value: 1.6175%<br>Absolute value: 983 mln US$",
          "Export value: 0.6212%<br>Absolute value: 376 mln US$",
          "Export value: 6.2954%<br>Absolute value: 3740 mln US$",
          "Export value: 0.3402%<br>Absolute value: 218 mln US$",
          "Export value: 0.3943%<br>Absolute value: 236 mln US$",
          "Export value: 0.8259%<br>Absolute value: 497 mln US$"
         ],
         "marker": {
          "color": [
           0.012137646091455246,
           0.10154585000315079,
           0.0039022559091510356,
           0.0022072572077702253,
           0.004715938810086583,
           0.0031843631387646243,
           0.003689072788776455,
           "lightgray",
           0.0022385168666578404,
           0.010741657849473155,
           0.004099757804582633,
           0.047867430821194004,
           0.0235780001644062,
           0.011105606106253357,
           0.016533352965871367,
           0.01860090891535683,
           0.002164619623698126,
           0.05449812159133655,
           0.003168003644596105,
           0.00997055205439964,
           0.01868996960799777,
           0.008314845390945255,
           0.008328426665217624,
           0.005662934556063428,
           0.0161746282153101,
           0.006212065202967813,
           0.0629539535251794,
           0.0034018539894968072,
           0.003942679569071427,
           0.008259077249694805
          ],
          "colorbar": {
           "thickness": 15,
           "title": {
            "side": "right",
            "text": "Percentage of Italy's total production"
           },
           "xanchor": "left"
          },
          "colorscale": [
           [
            0,
            "rgb(255,255,217)"
           ],
           [
            0.125,
            "rgb(237,248,177)"
           ],
           [
            0.25,
            "rgb(199,233,180)"
           ],
           [
            0.375,
            "rgb(127,205,187)"
           ],
           [
            0.5,
            "rgb(65,182,196)"
           ],
           [
            0.625,
            "rgb(29,145,192)"
           ],
           [
            0.75,
            "rgb(34,94,168)"
           ],
           [
            0.875,
            "rgb(37,52,148)"
           ],
           [
            1,
            "rgb(8,29,88)"
           ]
          ],
          "line": {
           "width": 2
          },
          "reversescale": true,
          "showscale": true,
          "size": [
           6.237210610516448,
           50,
           2.013483705583029,
           1.1398624472651564,
           2.4323410922026465,
           1.6436539586292458,
           1.9036878713585803,
           50,
           1.1559873936921814,
           5.523667502378039,
           2.115182424675828,
           24.172732657508273,
           12.048001955590056,
           5.709790338323507,
           8.477613584769799,
           9.528057118427272,
           1.1178675141377357,
           27.433804302577904,
           1.6352231152715024,
           5.129103118663578,
           9.573257425534887,
           4.2808816240074465,
           4.287844999195557,
           2.9193966530535826,
           8.295142223465632,
           3.2016135788489333,
           31.56288546054158,
           1.7557245146356513,
           2.0343004983978012,
           4.2522872640023
          ]
         },
         "mode": "markers+text",
         "text": [
          "Japan",
          "Germany",
          "Norway",
          "Saudi Arabia",
          "Slovenia",
          "Portugal",
          "Croatia",
          "Italy",
          "Finland",
          "Canada",
          "Romania",
          "United Kingdom",
          "Switzerland",
          "Greece",
          "Belgium",
          "Spain",
          "Brazil",
          "United States of America",
          "Turkey",
          "Russia",
          "Austria",
          "Denmark",
          "Poland",
          "Czechia",
          "Netherlands",
          "Australia",
          "France",
          "China",
          "Hungary",
          "Sweden"
         ],
         "textfont": {
          "color": "firebrick",
          "family": "Arial",
          "size": 10
         },
         "type": "scatter",
         "x": [
          -0.14307433081383875,
          -0.17781588813800814,
          -0.7459502481985836,
          -0.8847111860822209,
          0.9935438466495715,
          -0.6438860667762794,
          0.8627283736077095,
          0.058219818368737575,
          -0.35427389413758686,
          0.9667374391391552,
          0.6967168563381528,
          0.22635616158949562,
          0.7140648190846316,
          0.887362924684996,
          0.47667091347650403,
          -0.8950919177087188,
          -0.8493979937483633,
          0.43950761456831666,
          -0.5964922975076707,
          0.8757648112810125,
          0.7809766736916596,
          0.07188229315425523,
          -0.9561804955843235,
          -0.9559622201819344,
          0.719860077418022,
          0.054901365289598346,
          -0.5506521372260723,
          -1,
          0.301166992781211,
          -0.3729723050194285
         ],
         "y": [
          0.9774259951126572,
          -0.8669157348393987,
          -0.6633820646950259,
          -0.47551664723815096,
          -0.095616122880128,
          0.6230235978293585,
          -0.21468900959842477,
          -0.2083683683880643,
          -0.9405754182265581,
          -0.4668940249513017,
          -0.7957212110576207,
          -0.8246952121509293,
          0.8336330414482864,
          0.17102655534430986,
          0.7480393042816711,
          -0.05794084073744182,
          0.5680360472744687,
          -0.8481522609968065,
          0.8231106766915192,
          0.3992127133436862,
          0.6317873347049129,
          0.9319312379359305,
          0.3437601407950055,
          -0.2555330148472287,
          -0.5579149794363734,
          -0.9588043589497619,
          -0.7772104237150579,
          0.10660236269028509,
          0.920779557321841,
          0.929561127934341
         ]
        },
        {
         "hoverinfo": "none",
         "line": {
          "color": "#888",
          "width": 0.5
         },
         "mode": "lines",
         "type": "scatter",
         "x": [
          -0.03212544139810652,
          0.06288851278472864,
          null,
          -0.03212544139810652,
          -0.8025689854822301,
          null,
          -0.03212544139810652,
          0.6105528083969154,
          null,
          -0.03212544139810652,
          0.3863114617111359,
          null,
          -0.03212544139810652,
          -0.1187308422059979,
          null,
          -0.03212544139810652,
          -0.11267279183909365,
          null,
          -0.03212544139810652,
          0.3191856447209128,
          null,
          -0.03212544139810652,
          -0.9390410916885652,
          null,
          -0.03212544139810652,
          0.8223801496563903,
          null,
          -0.03212544139810652,
          -0.9312923094603325,
          null,
          -0.03212544139810652,
          0.6317683971847632,
          null,
          -0.03212544139810652,
          -0.9548544420963672,
          null,
          -0.03212544139810652,
          -0.30056634133599297,
          null,
          -0.03212544139810652,
          0.23834607082145254,
          null,
          -0.03212544139810652,
          0.8653360494102185,
          null,
          -0.03212544139810652,
          0.905083075303451,
          null,
          -0.03212544139810652,
          -0.8821797088858008,
          null,
          -0.03212544139810652,
          -0.29964875273657493,
          null,
          -0.03212544139810652,
          0.7195040357659607,
          null,
          -0.03212544139810652,
          -0.4969380097276235,
          null,
          -0.03212544139810652,
          0.8577228362507743,
          null,
          -0.03212544139810652,
          -0.6871553103168913,
          null,
          -0.03212544139810652,
          -0.4979166144816339,
          null,
          -0.03212544139810652,
          0.06247263904211768,
          null,
          -0.03212544139810652,
          -0.6530304758953823,
          null,
          -0.03212544139810652,
          0.6832142888254571,
          null,
          -0.03212544139810652,
          0.9467217632373329,
          null,
          -0.03212544139810652,
          0.4262305441718353,
          null,
          -0.03212544139810652,
          -0.8289971597328543,
          null
         ],
         "y": [
          0.016418611223768486,
          0.8594934277604538,
          null,
          0.016418611223768486,
          -0.6319517286044338,
          null,
          0.016418611223768486,
          -0.7165723223859406,
          null,
          0.016418611223768486,
          -0.7580083583837806,
          null,
          0.016418611223768486,
          -0.8645856328156133,
          null,
          0.016418611223768486,
          0.9732721515325822,
          null,
          0.016418611223768486,
          -0.9169026472061114,
          null,
          0.016418611223768486,
          0.2969759564520373,
          null,
          0.016418611223768486,
          -0.18480454388682704,
          null,
          0.016418611223768486,
          0.07389041212008947,
          null,
          0.016418611223768486,
          0.7517281508854242,
          null,
          0.016418611223768486,
          -0.15076291574554865,
          null,
          0.016418611223768486,
          0.8585237704815437,
          null,
          0.016418611223768486,
          0.950778342577718,
          null,
          0.016418611223768486,
          0.20523970741005995,
          null,
          0.016418611223768486,
          -0.36531992832221716,
          null,
          0.016418611223768486,
          -0.36530314599897395,
          null,
          0.016418611223768486,
          -0.9566893705248254,
          null,
          0.016418611223768486,
          -0.5228434419158087,
          null,
          0.016418611223768486,
          0.8183584842974676,
          null,
          0.016418611223768486,
          0.42862854531689637,
          null,
          0.016418611223768486,
          0.7401718782887977,
          null,
          0.016418611223768486,
          -0.8102678912856871,
          null,
          0.016418611223768486,
          -1,
          null,
          0.016418611223768486,
          -0.6270022660822382,
          null,
          0.016418611223768486,
          0.5413355886928718,
          null,
          0.016418611223768486,
          0.004846111246910437,
          null,
          0.016418611223768486,
          0.8134738284753806,
          null,
          0.016418611223768486,
          0.5378792263960033,
          null
         ]
        },
        {
         "hoverinfo": "text",
         "hovertext": [
          "Export value: 0.9393%<br>Absolute value: 5459 mln US$",
          "Export value: 0.1601%<br>Absolute value: 976 mln US$",
          "Export value: 0.0725%<br>Absolute value: 472 mln US$",
          "Export value: 0.0269%<br>Absolute value: 166 mln US$",
          "Export value: 0.0615%<br>Absolute value: 356 mln US$",
          "Export value: 0.0241%<br>Absolute value: 149 mln US$",
          "Export value: 0.1631%<br>Absolute value: 1034 mln US$",
          "Export value: 0.025%<br>Absolute value: 157 mln US$",
          "Export value: 0.0687%<br>Absolute value: 427 mln US$",
          "Export value: 0.0162%<br>Absolute value: 105 mln US$",
          "Export value: 0.0769%<br>Absolute value: 473 mln US$",
          "Export value: 0.0344%<br>Absolute value: 215 mln US$",
          "Export value: 0.0168%<br>Absolute value: 103 mln US$",
          "Export value: 0.0168%<br>Absolute value: 115 mln US$",
          "Export value: 0.0482%<br>Absolute value: 304 mln US$",
          "Export value: 0.0368%<br>Absolute value: 236 mln US$",
          "Export value: 0.02%<br>Absolute value: 125 mln US$",
          "Export value: 0.3553%<br>Absolute value: 2105 mln US$",
          "Export value: 0.4522%<br>Absolute value: 2803 mln US$",
          "Export value: 0.1476%<br>Absolute value: 914 mln US$",
          "Export value: 0.0347%<br>Absolute value: 224 mln US$",
          "Export value: 0.032%<br>Absolute value: 197 mln US$",
          "Export value: 0.0244%<br>Absolute value: 144 mln US$",
          "Export value: 0.1536%<br>Absolute value: 939 mln US$",
          "Export value: 0.1181%<br>Absolute value: 727 mln US$",
          "Export value: 0.0676%<br>Absolute value: 425 mln US$",
          "Export value: 0.1147%<br>Absolute value: 755 mln US$",
          "China's total production: 38520 mln US$",
          "Export value: 0.0434%<br>Absolute value: 261 mln US$",
          "Export value: 0.0652%<br>Absolute value: 399 mln US$"
         ],
         "marker": {
          "color": [
           0.009393492973541745,
           0.0016011839852371542,
           0.0007252370935283841,
           0.0002689376709946025,
           0.0006153058494567503,
           0.00024055201029750644,
           0.001630672222199439,
           0.00025031429658567,
           0.0006866009743897695,
           0.00016177114786880924,
           0.0007686620174513879,
           0.0003444864515041501,
           0.00016833311732790952,
           0.00016803291686585253,
           0.0004819268462279947,
           0.0003675412195543537,
           0.0002002766905473528,
           0.003553066141723781,
           0.0045220486987417995,
           0.001476014783097986,
           0.0003466314680881154,
           0.00032009538470298545,
           0.00024411909346956276,
           0.0015357918447959167,
           0.001181455937414749,
           0.0006763789128351759,
           0.0011473570530126226,
           "lightgray",
           0.0004340581420475211,
           0.0006523527878118936
          ],
          "colorbar": {
           "thickness": 15,
           "title": {
            "side": "right",
            "text": "Percentage of China's total production"
           },
           "xanchor": "left"
          },
          "colorscale": [
           [
            0,
            "rgb(255,255,217)"
           ],
           [
            0.125,
            "rgb(237,248,177)"
           ],
           [
            0.25,
            "rgb(199,233,180)"
           ],
           [
            0.375,
            "rgb(127,205,187)"
           ],
           [
            0.5,
            "rgb(65,182,196)"
           ],
           [
            0.625,
            "rgb(29,145,192)"
           ],
           [
            0.75,
            "rgb(34,94,168)"
           ],
           [
            0.875,
            "rgb(37,52,148)"
           ],
           [
            1,
            "rgb(8,29,88)"
           ]
          ],
          "line": {
           "width": 2
          },
          "reversescale": true,
          "showscale": true,
          "size": [
           50,
           8.555955132784582,
           3.8770133351260903,
           1.4380300741337024,
           3.2895173983798,
           1.2862680505601207,
           8.713397752440219,
           1.3384619427447488,
           3.6705410569342702,
           0.8650489095432509,
           4.109067577788373,
           1.8419255582491814,
           0.9001351835867522,
           0.8985300431219834,
           2.576624983073598,
           1.965173845186721,
           1.0709313747017606,
           18.967391791667783,
           24.128473754695626,
           7.8876042677287215,
           1.8533927038676643,
           1.7115304710192847,
           1.3053394571523063,
           8.206799041557503,
           6.314454339914099,
           3.6159127995408973,
           6.132312595658331,
           50,
           2.320750172081478,
           3.4875113224487104
          ]
         },
         "mode": "markers+text",
         "text": [
          "Japan",
          "Germany",
          "Philippines",
          "Saudi Arabia",
          "Italy",
          "Morocco",
          "Indonesia",
          "Pakistan",
          "Canada",
          "Nigeria",
          "United Kingdom",
          "Belgium",
          "Egypt",
          "Bangladesh",
          "Spain",
          "Brazil",
          "Mexico",
          "South Korea",
          "United States of America",
          "Russia",
          "United Arab Emirates",
          "South Africa",
          "Poland",
          "Malaysia",
          "Netherlands",
          "Australia",
          "Thailand",
          "China",
          "France",
          "India"
         ],
         "textfont": {
          "color": "firebrick",
          "family": "Arial",
          "size": 10
         },
         "type": "scatter",
         "x": [
          0.06288851278472864,
          -0.1187308422059979,
          0.6317683971847632,
          -0.6871553103168913,
          0.8653360494102185,
          -0.6530304758953823,
          0.3863114617111359,
          -0.4979166144816339,
          -0.9548544420963672,
          -0.8289971597328543,
          -0.9312923094603325,
          -0.4969380097276235,
          0.9467217632373329,
          0.4262305441718353,
          0.905083075303451,
          -0.29964875273657493,
          0.6832142888254571,
          0.6105528083969154,
          -0.8025689854822301,
          0.3191856447209128,
          0.7195040357659607,
          0.8577228362507743,
          0.06247263904211768,
          -0.11267279183909365,
          -0.9390410916885652,
          -0.30056634133599297,
          0.8223801496563903,
          -0.03212544139810652,
          -0.8821797088858008,
          0.23834607082145254
         ],
         "y": [
          0.8594934277604538,
          -0.8645856328156133,
          0.7517281508854242,
          0.7401718782887977,
          0.20523970741005995,
          -0.6270022660822382,
          -0.7580083583837806,
          -0.8102678912856871,
          -0.15076291574554865,
          0.5378792263960033,
          0.07389041212008947,
          0.8183584842974676,
          0.004846111246910437,
          0.8134738284753806,
          -0.36531992832221716,
          -0.9566893705248254,
          0.5413355886928718,
          -0.7165723223859406,
          -0.6319517286044338,
          -0.9169026472061114,
          -0.5228434419158087,
          0.42862854531689637,
          -1,
          0.9732721515325822,
          0.2969759564520373,
          0.8585237704815437,
          -0.18480454388682704,
          0.016418611223768486,
          -0.36530314599897395,
          0.950778342577718
         ]
        }
       ],
       "layout": {
        "hovermode": "closest",
        "margin": {
         "b": 20,
         "l": 5,
         "r": 5,
         "t": 40
        },
        "plot_bgcolor": "white",
        "showlegend": false,
        "template": {
         "data": {
          "bar": [
           {
            "error_x": {
             "color": "#2a3f5f"
            },
            "error_y": {
             "color": "#2a3f5f"
            },
            "marker": {
             "line": {
              "color": "#E5ECF6",
              "width": 0.5
             }
            },
            "type": "bar"
           }
          ],
          "barpolar": [
           {
            "marker": {
             "line": {
              "color": "#E5ECF6",
              "width": 0.5
             }
            },
            "type": "barpolar"
           }
          ],
          "carpet": [
           {
            "aaxis": {
             "endlinecolor": "#2a3f5f",
             "gridcolor": "white",
             "linecolor": "white",
             "minorgridcolor": "white",
             "startlinecolor": "#2a3f5f"
            },
            "baxis": {
             "endlinecolor": "#2a3f5f",
             "gridcolor": "white",
             "linecolor": "white",
             "minorgridcolor": "white",
             "startlinecolor": "#2a3f5f"
            },
            "type": "carpet"
           }
          ],
          "choropleth": [
           {
            "colorbar": {
             "outlinewidth": 0,
             "ticks": ""
            },
            "type": "choropleth"
           }
          ],
          "contour": [
           {
            "colorbar": {
             "outlinewidth": 0,
             "ticks": ""
            },
            "colorscale": [
             [
              0,
              "#0d0887"
             ],
             [
              0.1111111111111111,
              "#46039f"
             ],
             [
              0.2222222222222222,
              "#7201a8"
             ],
             [
              0.3333333333333333,
              "#9c179e"
             ],
             [
              0.4444444444444444,
              "#bd3786"
             ],
             [
              0.5555555555555556,
              "#d8576b"
             ],
             [
              0.6666666666666666,
              "#ed7953"
             ],
             [
              0.7777777777777778,
              "#fb9f3a"
             ],
             [
              0.8888888888888888,
              "#fdca26"
             ],
             [
              1,
              "#f0f921"
             ]
            ],
            "type": "contour"
           }
          ],
          "contourcarpet": [
           {
            "colorbar": {
             "outlinewidth": 0,
             "ticks": ""
            },
            "type": "contourcarpet"
           }
          ],
          "heatmap": [
           {
            "colorbar": {
             "outlinewidth": 0,
             "ticks": ""
            },
            "colorscale": [
             [
              0,
              "#0d0887"
             ],
             [
              0.1111111111111111,
              "#46039f"
             ],
             [
              0.2222222222222222,
              "#7201a8"
             ],
             [
              0.3333333333333333,
              "#9c179e"
             ],
             [
              0.4444444444444444,
              "#bd3786"
             ],
             [
              0.5555555555555556,
              "#d8576b"
             ],
             [
              0.6666666666666666,
              "#ed7953"
             ],
             [
              0.7777777777777778,
              "#fb9f3a"
             ],
             [
              0.8888888888888888,
              "#fdca26"
             ],
             [
              1,
              "#f0f921"
             ]
            ],
            "type": "heatmap"
           }
          ],
          "heatmapgl": [
           {
            "colorbar": {
             "outlinewidth": 0,
             "ticks": ""
            },
            "colorscale": [
             [
              0,
              "#0d0887"
             ],
             [
              0.1111111111111111,
              "#46039f"
             ],
             [
              0.2222222222222222,
              "#7201a8"
             ],
             [
              0.3333333333333333,
              "#9c179e"
             ],
             [
              0.4444444444444444,
              "#bd3786"
             ],
             [
              0.5555555555555556,
              "#d8576b"
             ],
             [
              0.6666666666666666,
              "#ed7953"
             ],
             [
              0.7777777777777778,
              "#fb9f3a"
             ],
             [
              0.8888888888888888,
              "#fdca26"
             ],
             [
              1,
              "#f0f921"
             ]
            ],
            "type": "heatmapgl"
           }
          ],
          "histogram": [
           {
            "marker": {
             "colorbar": {
              "outlinewidth": 0,
              "ticks": ""
             }
            },
            "type": "histogram"
           }
          ],
          "histogram2d": [
           {
            "colorbar": {
             "outlinewidth": 0,
             "ticks": ""
            },
            "colorscale": [
             [
              0,
              "#0d0887"
             ],
             [
              0.1111111111111111,
              "#46039f"
             ],
             [
              0.2222222222222222,
              "#7201a8"
             ],
             [
              0.3333333333333333,
              "#9c179e"
             ],
             [
              0.4444444444444444,
              "#bd3786"
             ],
             [
              0.5555555555555556,
              "#d8576b"
             ],
             [
              0.6666666666666666,
              "#ed7953"
             ],
             [
              0.7777777777777778,
              "#fb9f3a"
             ],
             [
              0.8888888888888888,
              "#fdca26"
             ],
             [
              1,
              "#f0f921"
             ]
            ],
            "type": "histogram2d"
           }
          ],
          "histogram2dcontour": [
           {
            "colorbar": {
             "outlinewidth": 0,
             "ticks": ""
            },
            "colorscale": [
             [
              0,
              "#0d0887"
             ],
             [
              0.1111111111111111,
              "#46039f"
             ],
             [
              0.2222222222222222,
              "#7201a8"
             ],
             [
              0.3333333333333333,
              "#9c179e"
             ],
             [
              0.4444444444444444,
              "#bd3786"
             ],
             [
              0.5555555555555556,
              "#d8576b"
             ],
             [
              0.6666666666666666,
              "#ed7953"
             ],
             [
              0.7777777777777778,
              "#fb9f3a"
             ],
             [
              0.8888888888888888,
              "#fdca26"
             ],
             [
              1,
              "#f0f921"
             ]
            ],
            "type": "histogram2dcontour"
           }
          ],
          "mesh3d": [
           {
            "colorbar": {
             "outlinewidth": 0,
             "ticks": ""
            },
            "type": "mesh3d"
           }
          ],
          "parcoords": [
           {
            "line": {
             "colorbar": {
              "outlinewidth": 0,
              "ticks": ""
             }
            },
            "type": "parcoords"
           }
          ],
          "pie": [
           {
            "automargin": true,
            "type": "pie"
           }
          ],
          "scatter": [
           {
            "marker": {
             "colorbar": {
              "outlinewidth": 0,
              "ticks": ""
             }
            },
            "type": "scatter"
           }
          ],
          "scatter3d": [
           {
            "line": {
             "colorbar": {
              "outlinewidth": 0,
              "ticks": ""
             }
            },
            "marker": {
             "colorbar": {
              "outlinewidth": 0,
              "ticks": ""
             }
            },
            "type": "scatter3d"
           }
          ],
          "scattercarpet": [
           {
            "marker": {
             "colorbar": {
              "outlinewidth": 0,
              "ticks": ""
             }
            },
            "type": "scattercarpet"
           }
          ],
          "scattergeo": [
           {
            "marker": {
             "colorbar": {
              "outlinewidth": 0,
              "ticks": ""
             }
            },
            "type": "scattergeo"
           }
          ],
          "scattergl": [
           {
            "marker": {
             "colorbar": {
              "outlinewidth": 0,
              "ticks": ""
             }
            },
            "type": "scattergl"
           }
          ],
          "scattermapbox": [
           {
            "marker": {
             "colorbar": {
              "outlinewidth": 0,
              "ticks": ""
             }
            },
            "type": "scattermapbox"
           }
          ],
          "scatterpolar": [
           {
            "marker": {
             "colorbar": {
              "outlinewidth": 0,
              "ticks": ""
             }
            },
            "type": "scatterpolar"
           }
          ],
          "scatterpolargl": [
           {
            "marker": {
             "colorbar": {
              "outlinewidth": 0,
              "ticks": ""
             }
            },
            "type": "scatterpolargl"
           }
          ],
          "scatterternary": [
           {
            "marker": {
             "colorbar": {
              "outlinewidth": 0,
              "ticks": ""
             }
            },
            "type": "scatterternary"
           }
          ],
          "surface": [
           {
            "colorbar": {
             "outlinewidth": 0,
             "ticks": ""
            },
            "colorscale": [
             [
              0,
              "#0d0887"
             ],
             [
              0.1111111111111111,
              "#46039f"
             ],
             [
              0.2222222222222222,
              "#7201a8"
             ],
             [
              0.3333333333333333,
              "#9c179e"
             ],
             [
              0.4444444444444444,
              "#bd3786"
             ],
             [
              0.5555555555555556,
              "#d8576b"
             ],
             [
              0.6666666666666666,
              "#ed7953"
             ],
             [
              0.7777777777777778,
              "#fb9f3a"
             ],
             [
              0.8888888888888888,
              "#fdca26"
             ],
             [
              1,
              "#f0f921"
             ]
            ],
            "type": "surface"
           }
          ],
          "table": [
           {
            "cells": {
             "fill": {
              "color": "#EBF0F8"
             },
             "line": {
              "color": "white"
             }
            },
            "header": {
             "fill": {
              "color": "#C8D4E3"
             },
             "line": {
              "color": "white"
             }
            },
            "type": "table"
           }
          ]
         },
         "layout": {
          "annotationdefaults": {
           "arrowcolor": "#2a3f5f",
           "arrowhead": 0,
           "arrowwidth": 1
          },
          "coloraxis": {
           "colorbar": {
            "outlinewidth": 0,
            "ticks": ""
           }
          },
          "colorscale": {
           "diverging": [
            [
             0,
             "#8e0152"
            ],
            [
             0.1,
             "#c51b7d"
            ],
            [
             0.2,
             "#de77ae"
            ],
            [
             0.3,
             "#f1b6da"
            ],
            [
             0.4,
             "#fde0ef"
            ],
            [
             0.5,
             "#f7f7f7"
            ],
            [
             0.6,
             "#e6f5d0"
            ],
            [
             0.7,
             "#b8e186"
            ],
            [
             0.8,
             "#7fbc41"
            ],
            [
             0.9,
             "#4d9221"
            ],
            [
             1,
             "#276419"
            ]
           ],
           "sequential": [
            [
             0,
             "#0d0887"
            ],
            [
             0.1111111111111111,
             "#46039f"
            ],
            [
             0.2222222222222222,
             "#7201a8"
            ],
            [
             0.3333333333333333,
             "#9c179e"
            ],
            [
             0.4444444444444444,
             "#bd3786"
            ],
            [
             0.5555555555555556,
             "#d8576b"
            ],
            [
             0.6666666666666666,
             "#ed7953"
            ],
            [
             0.7777777777777778,
             "#fb9f3a"
            ],
            [
             0.8888888888888888,
             "#fdca26"
            ],
            [
             1,
             "#f0f921"
            ]
           ],
           "sequentialminus": [
            [
             0,
             "#0d0887"
            ],
            [
             0.1111111111111111,
             "#46039f"
            ],
            [
             0.2222222222222222,
             "#7201a8"
            ],
            [
             0.3333333333333333,
             "#9c179e"
            ],
            [
             0.4444444444444444,
             "#bd3786"
            ],
            [
             0.5555555555555556,
             "#d8576b"
            ],
            [
             0.6666666666666666,
             "#ed7953"
            ],
            [
             0.7777777777777778,
             "#fb9f3a"
            ],
            [
             0.8888888888888888,
             "#fdca26"
            ],
            [
             1,
             "#f0f921"
            ]
           ]
          },
          "colorway": [
           "#636efa",
           "#EF553B",
           "#00cc96",
           "#ab63fa",
           "#FFA15A",
           "#19d3f3",
           "#FF6692",
           "#B6E880",
           "#FF97FF",
           "#FECB52"
          ],
          "font": {
           "color": "#2a3f5f"
          },
          "geo": {
           "bgcolor": "white",
           "lakecolor": "white",
           "landcolor": "#E5ECF6",
           "showlakes": true,
           "showland": true,
           "subunitcolor": "white"
          },
          "hoverlabel": {
           "align": "left"
          },
          "hovermode": "closest",
          "mapbox": {
           "style": "light"
          },
          "paper_bgcolor": "white",
          "plot_bgcolor": "#E5ECF6",
          "polar": {
           "angularaxis": {
            "gridcolor": "white",
            "linecolor": "white",
            "ticks": ""
           },
           "bgcolor": "#E5ECF6",
           "radialaxis": {
            "gridcolor": "white",
            "linecolor": "white",
            "ticks": ""
           }
          },
          "scene": {
           "xaxis": {
            "backgroundcolor": "#E5ECF6",
            "gridcolor": "white",
            "gridwidth": 2,
            "linecolor": "white",
            "showbackground": true,
            "ticks": "",
            "zerolinecolor": "white"
           },
           "yaxis": {
            "backgroundcolor": "#E5ECF6",
            "gridcolor": "white",
            "gridwidth": 2,
            "linecolor": "white",
            "showbackground": true,
            "ticks": "",
            "zerolinecolor": "white"
           },
           "zaxis": {
            "backgroundcolor": "#E5ECF6",
            "gridcolor": "white",
            "gridwidth": 2,
            "linecolor": "white",
            "showbackground": true,
            "ticks": "",
            "zerolinecolor": "white"
           }
          },
          "shapedefaults": {
           "line": {
            "color": "#2a3f5f"
           }
          },
          "ternary": {
           "aaxis": {
            "gridcolor": "white",
            "linecolor": "white",
            "ticks": ""
           },
           "baxis": {
            "gridcolor": "white",
            "linecolor": "white",
            "ticks": ""
           },
           "bgcolor": "#E5ECF6",
           "caxis": {
            "gridcolor": "white",
            "linecolor": "white",
            "ticks": ""
           }
          },
          "title": {
           "x": 0.05
          },
          "xaxis": {
           "automargin": true,
           "gridcolor": "white",
           "linecolor": "white",
           "ticks": "",
           "title": {
            "standoff": 15
           },
           "zerolinecolor": "white",
           "zerolinewidth": 2
          },
          "yaxis": {
           "automargin": true,
           "gridcolor": "white",
           "linecolor": "white",
           "ticks": "",
           "title": {
            "standoff": 15
           },
           "zerolinecolor": "white",
           "zerolinewidth": 2
          }
         }
        },
        "title": {
         "text": "<b>Network graph of                       's export"
        },
        "updatemenus": [
         {
          "buttons": [
           {
            "args": [
             {
              "visible": [
               false,
               false,
               false,
               false
              ]
             }
            ],
            "label": "Select Country",
            "method": "update"
           },
           {
            "args": [
             {
              "visible": [
               true,
               true,
               false,
               false
              ]
             }
            ],
            "label": "Italy",
            "method": "update"
           },
           {
            "args": [
             {
              "visible": [
               false,
               false,
               true,
               true
              ]
             }
            ],
            "label": "China",
            "method": "update"
           }
          ],
          "x": 0.25,
          "xanchor": "left",
          "y": 1.1,
          "yanchor": "top"
         }
        ],
        "xaxis": {
         "showgrid": false,
         "showticklabels": false,
         "zeroline": false
        },
        "yaxis": {
         "showgrid": false,
         "showticklabels": false,
         "zeroline": false
        }
       }
      },
      "text/html": [
       "<div>\n",
       "        \n",
       "        \n",
       "            <div id=\"dffae4ac-b58a-4cc5-a453-3795a93a1494\" class=\"plotly-graph-div\" style=\"height:525px; width:100%;\"></div>\n",
       "            <script type=\"text/javascript\">\n",
       "                require([\"plotly\"], function(Plotly) {\n",
       "                    window.PLOTLYENV=window.PLOTLYENV || {};\n",
       "                    \n",
       "                if (document.getElementById(\"dffae4ac-b58a-4cc5-a453-3795a93a1494\")) {\n",
       "                    Plotly.newPlot(\n",
       "                        'dffae4ac-b58a-4cc5-a453-3795a93a1494',\n",
       "                        [{\"hoverinfo\": \"none\", \"line\": {\"color\": \"#888\", \"width\": 0.5}, \"mode\": \"lines\", \"type\": \"scatter\", \"x\": [0.058219818368737575, -0.17781588813800814, null, 0.058219818368737575, -0.5506521372260723, null, 0.058219818368737575, 0.43950761456831666, null, 0.058219818368737575, 0.22635616158949562, null, 0.058219818368737575, 0.7140648190846316, null, 0.058219818368737575, 0.7809766736916596, null, 0.058219818368737575, -0.8950919177087188, null, 0.058219818368737575, 0.47667091347650403, null, 0.058219818368737575, 0.719860077418022, null, 0.058219818368737575, -0.14307433081383875, null, 0.058219818368737575, 0.887362924684996, null, 0.058219818368737575, 0.9667374391391552, null, 0.058219818368737575, 0.8757648112810125, null, 0.058219818368737575, -0.9561804955843235, null, 0.058219818368737575, 0.07188229315425523, null, 0.058219818368737575, -0.3729723050194285, null, 0.058219818368737575, 0.054901365289598346, null, 0.058219818368737575, -0.9559622201819344, null, 0.058219818368737575, 0.9935438466495715, null, 0.058219818368737575, 0.6967168563381528, null, 0.058219818368737575, 0.301166992781211, null, 0.058219818368737575, -0.7459502481985836, null, 0.058219818368737575, 0.8627283736077095, null, 0.058219818368737575, -1.0, null, 0.058219818368737575, -0.6438860667762794, null, 0.058219818368737575, -0.5964922975076707, null, 0.058219818368737575, -0.35427389413758686, null, 0.058219818368737575, -0.8847111860822209, null, 0.058219818368737575, -0.8493979937483633, null], \"y\": [-0.2083683683880643, -0.8669157348393987, null, -0.2083683683880643, -0.7772104237150579, null, -0.2083683683880643, -0.8481522609968065, null, -0.2083683683880643, -0.8246952121509293, null, -0.2083683683880643, 0.8336330414482864, null, -0.2083683683880643, 0.6317873347049129, null, -0.2083683683880643, -0.05794084073744182, null, -0.2083683683880643, 0.7480393042816711, null, -0.2083683683880643, -0.5579149794363734, null, -0.2083683683880643, 0.9774259951126572, null, -0.2083683683880643, 0.17102655534430986, null, -0.2083683683880643, -0.4668940249513017, null, -0.2083683683880643, 0.3992127133436862, null, -0.2083683683880643, 0.3437601407950055, null, -0.2083683683880643, 0.9319312379359305, null, -0.2083683683880643, 0.929561127934341, null, -0.2083683683880643, -0.9588043589497619, null, -0.2083683683880643, -0.2555330148472287, null, -0.2083683683880643, -0.095616122880128, null, -0.2083683683880643, -0.7957212110576207, null, -0.2083683683880643, 0.920779557321841, null, -0.2083683683880643, -0.6633820646950259, null, -0.2083683683880643, -0.21468900959842477, null, -0.2083683683880643, 0.10660236269028509, null, -0.2083683683880643, 0.6230235978293585, null, -0.2083683683880643, 0.8231106766915192, null, -0.2083683683880643, -0.9405754182265581, null, -0.2083683683880643, -0.47551664723815096, null, -0.2083683683880643, 0.5680360472744687, null]}, {\"hoverinfo\": \"text\", \"hovertext\": [\"Export value: 1.2138%<br>Absolute value: 778 mln US$\", \"Export value: 10.1546%<br>Absolute value: 6012 mln US$\", \"Export value: 0.3902%<br>Absolute value: 235 mln US$\", \"Export value: 0.2207%<br>Absolute value: 137 mln US$\", \"Export value: 0.4716%<br>Absolute value: 281 mln US$\", \"Export value: 0.3184%<br>Absolute value: 191 mln US$\", \"Export value: 0.3689%<br>Absolute value: 222 mln US$\", \"Italy's total production: 38520 mln US$\", \"Export value: 0.2239%<br>Absolute value: 133 mln US$\", \"Export value: 1.0742%<br>Absolute value: 644 mln US$\", \"Export value: 0.41%<br>Absolute value: 255 mln US$\", \"Export value: 4.7867%<br>Absolute value: 2837 mln US$\", \"Export value: 2.3578%<br>Absolute value: 1395 mln US$\", \"Export value: 1.1106%<br>Absolute value: 648 mln US$\", \"Export value: 1.6533%<br>Absolute value: 988 mln US$\", \"Export value: 1.8601%<br>Absolute value: 1118 mln US$\", \"Export value: 0.2165%<br>Absolute value: 133 mln US$\", \"Export value: 5.4498%<br>Absolute value: 3264 mln US$\", \"Export value: 0.3168%<br>Absolute value: 190 mln US$\", \"Export value: 0.9971%<br>Absolute value: 593 mln US$\", \"Export value: 1.869%<br>Absolute value: 1110 mln US$\", \"Export value: 0.8315%<br>Absolute value: 494 mln US$\", \"Export value: 0.8328%<br>Absolute value: 513 mln US$\", \"Export value: 0.5663%<br>Absolute value: 342 mln US$\", \"Export value: 1.6175%<br>Absolute value: 983 mln US$\", \"Export value: 0.6212%<br>Absolute value: 376 mln US$\", \"Export value: 6.2954%<br>Absolute value: 3740 mln US$\", \"Export value: 0.3402%<br>Absolute value: 218 mln US$\", \"Export value: 0.3943%<br>Absolute value: 236 mln US$\", \"Export value: 0.8259%<br>Absolute value: 497 mln US$\"], \"marker\": {\"color\": [0.012137646091455246, 0.10154585000315079, 0.0039022559091510356, 0.0022072572077702253, 0.004715938810086583, 0.0031843631387646243, 0.003689072788776455, \"lightgray\", 0.0022385168666578404, 0.010741657849473155, 0.004099757804582633, 0.047867430821194004, 0.0235780001644062, 0.011105606106253357, 0.016533352965871367, 0.01860090891535683, 0.002164619623698126, 0.05449812159133655, 0.003168003644596105, 0.00997055205439964, 0.01868996960799777, 0.008314845390945255, 0.008328426665217624, 0.005662934556063428, 0.0161746282153101, 0.006212065202967813, 0.0629539535251794, 0.0034018539894968072, 0.003942679569071427, 0.008259077249694805], \"colorbar\": {\"thickness\": 15, \"title\": {\"side\": \"right\", \"text\": \"Percentage of Italy's total production\"}, \"xanchor\": \"left\"}, \"colorscale\": [[0.0, \"rgb(255,255,217)\"], [0.125, \"rgb(237,248,177)\"], [0.25, \"rgb(199,233,180)\"], [0.375, \"rgb(127,205,187)\"], [0.5, \"rgb(65,182,196)\"], [0.625, \"rgb(29,145,192)\"], [0.75, \"rgb(34,94,168)\"], [0.875, \"rgb(37,52,148)\"], [1.0, \"rgb(8,29,88)\"]], \"line\": {\"width\": 2}, \"reversescale\": true, \"showscale\": true, \"size\": [6.237210610516448, 50.0, 2.013483705583029, 1.1398624472651564, 2.4323410922026465, 1.6436539586292458, 1.9036878713585803, 50, 1.1559873936921814, 5.523667502378039, 2.115182424675828, 24.172732657508273, 12.048001955590056, 5.709790338323507, 8.477613584769799, 9.528057118427272, 1.1178675141377357, 27.433804302577904, 1.6352231152715024, 5.129103118663578, 9.573257425534887, 4.2808816240074465, 4.287844999195557, 2.9193966530535826, 8.295142223465632, 3.2016135788489333, 31.56288546054158, 1.7557245146356513, 2.0343004983978012, 4.2522872640023]}, \"mode\": \"markers+text\", \"text\": [\"Japan\", \"Germany\", \"Norway\", \"Saudi Arabia\", \"Slovenia\", \"Portugal\", \"Croatia\", \"Italy\", \"Finland\", \"Canada\", \"Romania\", \"United Kingdom\", \"Switzerland\", \"Greece\", \"Belgium\", \"Spain\", \"Brazil\", \"United States of America\", \"Turkey\", \"Russia\", \"Austria\", \"Denmark\", \"Poland\", \"Czechia\", \"Netherlands\", \"Australia\", \"France\", \"China\", \"Hungary\", \"Sweden\"], \"textfont\": {\"color\": \"firebrick\", \"family\": \"Arial\", \"size\": 10}, \"type\": \"scatter\", \"x\": [-0.14307433081383875, -0.17781588813800814, -0.7459502481985836, -0.8847111860822209, 0.9935438466495715, -0.6438860667762794, 0.8627283736077095, 0.058219818368737575, -0.35427389413758686, 0.9667374391391552, 0.6967168563381528, 0.22635616158949562, 0.7140648190846316, 0.887362924684996, 0.47667091347650403, -0.8950919177087188, -0.8493979937483633, 0.43950761456831666, -0.5964922975076707, 0.8757648112810125, 0.7809766736916596, 0.07188229315425523, -0.9561804955843235, -0.9559622201819344, 0.719860077418022, 0.054901365289598346, -0.5506521372260723, -1.0, 0.301166992781211, -0.3729723050194285], \"y\": [0.9774259951126572, -0.8669157348393987, -0.6633820646950259, -0.47551664723815096, -0.095616122880128, 0.6230235978293585, -0.21468900959842477, -0.2083683683880643, -0.9405754182265581, -0.4668940249513017, -0.7957212110576207, -0.8246952121509293, 0.8336330414482864, 0.17102655534430986, 0.7480393042816711, -0.05794084073744182, 0.5680360472744687, -0.8481522609968065, 0.8231106766915192, 0.3992127133436862, 0.6317873347049129, 0.9319312379359305, 0.3437601407950055, -0.2555330148472287, -0.5579149794363734, -0.9588043589497619, -0.7772104237150579, 0.10660236269028509, 0.920779557321841, 0.929561127934341]}, {\"hoverinfo\": \"none\", \"line\": {\"color\": \"#888\", \"width\": 0.5}, \"mode\": \"lines\", \"type\": \"scatter\", \"x\": [-0.03212544139810652, 0.06288851278472864, null, -0.03212544139810652, -0.8025689854822301, null, -0.03212544139810652, 0.6105528083969154, null, -0.03212544139810652, 0.3863114617111359, null, -0.03212544139810652, -0.1187308422059979, null, -0.03212544139810652, -0.11267279183909365, null, -0.03212544139810652, 0.3191856447209128, null, -0.03212544139810652, -0.9390410916885652, null, -0.03212544139810652, 0.8223801496563903, null, -0.03212544139810652, -0.9312923094603325, null, -0.03212544139810652, 0.6317683971847632, null, -0.03212544139810652, -0.9548544420963672, null, -0.03212544139810652, -0.30056634133599297, null, -0.03212544139810652, 0.23834607082145254, null, -0.03212544139810652, 0.8653360494102185, null, -0.03212544139810652, 0.905083075303451, null, -0.03212544139810652, -0.8821797088858008, null, -0.03212544139810652, -0.29964875273657493, null, -0.03212544139810652, 0.7195040357659607, null, -0.03212544139810652, -0.4969380097276235, null, -0.03212544139810652, 0.8577228362507743, null, -0.03212544139810652, -0.6871553103168913, null, -0.03212544139810652, -0.4979166144816339, null, -0.03212544139810652, 0.06247263904211768, null, -0.03212544139810652, -0.6530304758953823, null, -0.03212544139810652, 0.6832142888254571, null, -0.03212544139810652, 0.9467217632373329, null, -0.03212544139810652, 0.4262305441718353, null, -0.03212544139810652, -0.8289971597328543, null], \"y\": [0.016418611223768486, 0.8594934277604538, null, 0.016418611223768486, -0.6319517286044338, null, 0.016418611223768486, -0.7165723223859406, null, 0.016418611223768486, -0.7580083583837806, null, 0.016418611223768486, -0.8645856328156133, null, 0.016418611223768486, 0.9732721515325822, null, 0.016418611223768486, -0.9169026472061114, null, 0.016418611223768486, 0.2969759564520373, null, 0.016418611223768486, -0.18480454388682704, null, 0.016418611223768486, 0.07389041212008947, null, 0.016418611223768486, 0.7517281508854242, null, 0.016418611223768486, -0.15076291574554865, null, 0.016418611223768486, 0.8585237704815437, null, 0.016418611223768486, 0.950778342577718, null, 0.016418611223768486, 0.20523970741005995, null, 0.016418611223768486, -0.36531992832221716, null, 0.016418611223768486, -0.36530314599897395, null, 0.016418611223768486, -0.9566893705248254, null, 0.016418611223768486, -0.5228434419158087, null, 0.016418611223768486, 0.8183584842974676, null, 0.016418611223768486, 0.42862854531689637, null, 0.016418611223768486, 0.7401718782887977, null, 0.016418611223768486, -0.8102678912856871, null, 0.016418611223768486, -1.0, null, 0.016418611223768486, -0.6270022660822382, null, 0.016418611223768486, 0.5413355886928718, null, 0.016418611223768486, 0.004846111246910437, null, 0.016418611223768486, 0.8134738284753806, null, 0.016418611223768486, 0.5378792263960033, null]}, {\"hoverinfo\": \"text\", \"hovertext\": [\"Export value: 0.9393%<br>Absolute value: 5459 mln US$\", \"Export value: 0.1601%<br>Absolute value: 976 mln US$\", \"Export value: 0.0725%<br>Absolute value: 472 mln US$\", \"Export value: 0.0269%<br>Absolute value: 166 mln US$\", \"Export value: 0.0615%<br>Absolute value: 356 mln US$\", \"Export value: 0.0241%<br>Absolute value: 149 mln US$\", \"Export value: 0.1631%<br>Absolute value: 1034 mln US$\", \"Export value: 0.025%<br>Absolute value: 157 mln US$\", \"Export value: 0.0687%<br>Absolute value: 427 mln US$\", \"Export value: 0.0162%<br>Absolute value: 105 mln US$\", \"Export value: 0.0769%<br>Absolute value: 473 mln US$\", \"Export value: 0.0344%<br>Absolute value: 215 mln US$\", \"Export value: 0.0168%<br>Absolute value: 103 mln US$\", \"Export value: 0.0168%<br>Absolute value: 115 mln US$\", \"Export value: 0.0482%<br>Absolute value: 304 mln US$\", \"Export value: 0.0368%<br>Absolute value: 236 mln US$\", \"Export value: 0.02%<br>Absolute value: 125 mln US$\", \"Export value: 0.3553%<br>Absolute value: 2105 mln US$\", \"Export value: 0.4522%<br>Absolute value: 2803 mln US$\", \"Export value: 0.1476%<br>Absolute value: 914 mln US$\", \"Export value: 0.0347%<br>Absolute value: 224 mln US$\", \"Export value: 0.032%<br>Absolute value: 197 mln US$\", \"Export value: 0.0244%<br>Absolute value: 144 mln US$\", \"Export value: 0.1536%<br>Absolute value: 939 mln US$\", \"Export value: 0.1181%<br>Absolute value: 727 mln US$\", \"Export value: 0.0676%<br>Absolute value: 425 mln US$\", \"Export value: 0.1147%<br>Absolute value: 755 mln US$\", \"China's total production: 38520 mln US$\", \"Export value: 0.0434%<br>Absolute value: 261 mln US$\", \"Export value: 0.0652%<br>Absolute value: 399 mln US$\"], \"marker\": {\"color\": [0.009393492973541745, 0.0016011839852371542, 0.0007252370935283841, 0.0002689376709946025, 0.0006153058494567503, 0.00024055201029750644, 0.001630672222199439, 0.00025031429658567, 0.0006866009743897695, 0.00016177114786880924, 0.0007686620174513879, 0.0003444864515041501, 0.00016833311732790952, 0.00016803291686585253, 0.0004819268462279947, 0.0003675412195543537, 0.0002002766905473528, 0.003553066141723781, 0.0045220486987417995, 0.001476014783097986, 0.0003466314680881154, 0.00032009538470298545, 0.00024411909346956276, 0.0015357918447959167, 0.001181455937414749, 0.0006763789128351759, 0.0011473570530126226, \"lightgray\", 0.0004340581420475211, 0.0006523527878118936], \"colorbar\": {\"thickness\": 15, \"title\": {\"side\": \"right\", \"text\": \"Percentage of China's total production\"}, \"xanchor\": \"left\"}, \"colorscale\": [[0.0, \"rgb(255,255,217)\"], [0.125, \"rgb(237,248,177)\"], [0.25, \"rgb(199,233,180)\"], [0.375, \"rgb(127,205,187)\"], [0.5, \"rgb(65,182,196)\"], [0.625, \"rgb(29,145,192)\"], [0.75, \"rgb(34,94,168)\"], [0.875, \"rgb(37,52,148)\"], [1.0, \"rgb(8,29,88)\"]], \"line\": {\"width\": 2}, \"reversescale\": true, \"showscale\": true, \"size\": [50.0, 8.555955132784582, 3.8770133351260903, 1.4380300741337024, 3.2895173983798, 1.2862680505601207, 8.713397752440219, 1.3384619427447488, 3.6705410569342702, 0.8650489095432509, 4.109067577788373, 1.8419255582491814, 0.9001351835867522, 0.8985300431219834, 2.576624983073598, 1.965173845186721, 1.0709313747017606, 18.967391791667783, 24.128473754695626, 7.8876042677287215, 1.8533927038676643, 1.7115304710192847, 1.3053394571523063, 8.206799041557503, 6.314454339914099, 3.6159127995408973, 6.132312595658331, 50, 2.320750172081478, 3.4875113224487104]}, \"mode\": \"markers+text\", \"text\": [\"Japan\", \"Germany\", \"Philippines\", \"Saudi Arabia\", \"Italy\", \"Morocco\", \"Indonesia\", \"Pakistan\", \"Canada\", \"Nigeria\", \"United Kingdom\", \"Belgium\", \"Egypt\", \"Bangladesh\", \"Spain\", \"Brazil\", \"Mexico\", \"South Korea\", \"United States of America\", \"Russia\", \"United Arab Emirates\", \"South Africa\", \"Poland\", \"Malaysia\", \"Netherlands\", \"Australia\", \"Thailand\", \"China\", \"France\", \"India\"], \"textfont\": {\"color\": \"firebrick\", \"family\": \"Arial\", \"size\": 10}, \"type\": \"scatter\", \"x\": [0.06288851278472864, -0.1187308422059979, 0.6317683971847632, -0.6871553103168913, 0.8653360494102185, -0.6530304758953823, 0.3863114617111359, -0.4979166144816339, -0.9548544420963672, -0.8289971597328543, -0.9312923094603325, -0.4969380097276235, 0.9467217632373329, 0.4262305441718353, 0.905083075303451, -0.29964875273657493, 0.6832142888254571, 0.6105528083969154, -0.8025689854822301, 0.3191856447209128, 0.7195040357659607, 0.8577228362507743, 0.06247263904211768, -0.11267279183909365, -0.9390410916885652, -0.30056634133599297, 0.8223801496563903, -0.03212544139810652, -0.8821797088858008, 0.23834607082145254], \"y\": [0.8594934277604538, -0.8645856328156133, 0.7517281508854242, 0.7401718782887977, 0.20523970741005995, -0.6270022660822382, -0.7580083583837806, -0.8102678912856871, -0.15076291574554865, 0.5378792263960033, 0.07389041212008947, 0.8183584842974676, 0.004846111246910437, 0.8134738284753806, -0.36531992832221716, -0.9566893705248254, 0.5413355886928718, -0.7165723223859406, -0.6319517286044338, -0.9169026472061114, -0.5228434419158087, 0.42862854531689637, -1.0, 0.9732721515325822, 0.2969759564520373, 0.8585237704815437, -0.18480454388682704, 0.016418611223768486, -0.36530314599897395, 0.950778342577718]}],\n",
       "                        {\"hovermode\": \"closest\", \"margin\": {\"b\": 20, \"l\": 5, \"r\": 5, \"t\": 40}, \"plot_bgcolor\": \"white\", \"showlegend\": false, \"template\": {\"data\": {\"bar\": [{\"error_x\": {\"color\": \"#2a3f5f\"}, \"error_y\": {\"color\": \"#2a3f5f\"}, \"marker\": {\"line\": {\"color\": \"#E5ECF6\", \"width\": 0.5}}, \"type\": \"bar\"}], \"barpolar\": [{\"marker\": {\"line\": {\"color\": \"#E5ECF6\", \"width\": 0.5}}, \"type\": \"barpolar\"}], \"carpet\": [{\"aaxis\": {\"endlinecolor\": \"#2a3f5f\", \"gridcolor\": \"white\", \"linecolor\": \"white\", \"minorgridcolor\": \"white\", \"startlinecolor\": \"#2a3f5f\"}, \"baxis\": {\"endlinecolor\": \"#2a3f5f\", \"gridcolor\": \"white\", \"linecolor\": \"white\", \"minorgridcolor\": \"white\", \"startlinecolor\": \"#2a3f5f\"}, \"type\": \"carpet\"}], \"choropleth\": [{\"colorbar\": {\"outlinewidth\": 0, \"ticks\": \"\"}, \"type\": \"choropleth\"}], \"contour\": [{\"colorbar\": {\"outlinewidth\": 0, \"ticks\": \"\"}, \"colorscale\": [[0.0, \"#0d0887\"], [0.1111111111111111, \"#46039f\"], [0.2222222222222222, \"#7201a8\"], [0.3333333333333333, \"#9c179e\"], [0.4444444444444444, \"#bd3786\"], [0.5555555555555556, \"#d8576b\"], [0.6666666666666666, \"#ed7953\"], [0.7777777777777778, \"#fb9f3a\"], [0.8888888888888888, \"#fdca26\"], [1.0, \"#f0f921\"]], \"type\": \"contour\"}], \"contourcarpet\": [{\"colorbar\": {\"outlinewidth\": 0, \"ticks\": \"\"}, \"type\": \"contourcarpet\"}], \"heatmap\": [{\"colorbar\": {\"outlinewidth\": 0, \"ticks\": \"\"}, \"colorscale\": [[0.0, \"#0d0887\"], [0.1111111111111111, \"#46039f\"], [0.2222222222222222, \"#7201a8\"], [0.3333333333333333, \"#9c179e\"], [0.4444444444444444, \"#bd3786\"], [0.5555555555555556, \"#d8576b\"], [0.6666666666666666, \"#ed7953\"], [0.7777777777777778, \"#fb9f3a\"], [0.8888888888888888, \"#fdca26\"], [1.0, \"#f0f921\"]], \"type\": \"heatmap\"}], \"heatmapgl\": [{\"colorbar\": {\"outlinewidth\": 0, \"ticks\": \"\"}, \"colorscale\": [[0.0, \"#0d0887\"], [0.1111111111111111, \"#46039f\"], [0.2222222222222222, \"#7201a8\"], [0.3333333333333333, \"#9c179e\"], [0.4444444444444444, \"#bd3786\"], [0.5555555555555556, \"#d8576b\"], [0.6666666666666666, \"#ed7953\"], [0.7777777777777778, \"#fb9f3a\"], [0.8888888888888888, \"#fdca26\"], [1.0, \"#f0f921\"]], \"type\": \"heatmapgl\"}], \"histogram\": [{\"marker\": {\"colorbar\": {\"outlinewidth\": 0, \"ticks\": \"\"}}, \"type\": \"histogram\"}], \"histogram2d\": [{\"colorbar\": {\"outlinewidth\": 0, \"ticks\": \"\"}, \"colorscale\": [[0.0, \"#0d0887\"], [0.1111111111111111, \"#46039f\"], [0.2222222222222222, \"#7201a8\"], [0.3333333333333333, \"#9c179e\"], [0.4444444444444444, \"#bd3786\"], [0.5555555555555556, \"#d8576b\"], [0.6666666666666666, \"#ed7953\"], [0.7777777777777778, \"#fb9f3a\"], [0.8888888888888888, \"#fdca26\"], [1.0, \"#f0f921\"]], \"type\": \"histogram2d\"}], \"histogram2dcontour\": [{\"colorbar\": {\"outlinewidth\": 0, \"ticks\": \"\"}, \"colorscale\": [[0.0, \"#0d0887\"], [0.1111111111111111, \"#46039f\"], [0.2222222222222222, \"#7201a8\"], [0.3333333333333333, \"#9c179e\"], [0.4444444444444444, \"#bd3786\"], [0.5555555555555556, \"#d8576b\"], [0.6666666666666666, \"#ed7953\"], [0.7777777777777778, \"#fb9f3a\"], [0.8888888888888888, \"#fdca26\"], [1.0, \"#f0f921\"]], \"type\": \"histogram2dcontour\"}], \"mesh3d\": [{\"colorbar\": {\"outlinewidth\": 0, \"ticks\": \"\"}, \"type\": \"mesh3d\"}], \"parcoords\": [{\"line\": {\"colorbar\": {\"outlinewidth\": 0, \"ticks\": \"\"}}, \"type\": \"parcoords\"}], \"pie\": [{\"automargin\": true, \"type\": \"pie\"}], \"scatter\": [{\"marker\": {\"colorbar\": {\"outlinewidth\": 0, \"ticks\": \"\"}}, \"type\": \"scatter\"}], \"scatter3d\": [{\"line\": {\"colorbar\": {\"outlinewidth\": 0, \"ticks\": \"\"}}, \"marker\": {\"colorbar\": {\"outlinewidth\": 0, \"ticks\": \"\"}}, \"type\": \"scatter3d\"}], \"scattercarpet\": [{\"marker\": {\"colorbar\": {\"outlinewidth\": 0, \"ticks\": \"\"}}, \"type\": \"scattercarpet\"}], \"scattergeo\": [{\"marker\": {\"colorbar\": {\"outlinewidth\": 0, \"ticks\": \"\"}}, \"type\": \"scattergeo\"}], \"scattergl\": [{\"marker\": {\"colorbar\": {\"outlinewidth\": 0, \"ticks\": \"\"}}, \"type\": \"scattergl\"}], \"scattermapbox\": [{\"marker\": {\"colorbar\": {\"outlinewidth\": 0, \"ticks\": \"\"}}, \"type\": \"scattermapbox\"}], \"scatterpolar\": [{\"marker\": {\"colorbar\": {\"outlinewidth\": 0, \"ticks\": \"\"}}, \"type\": \"scatterpolar\"}], \"scatterpolargl\": [{\"marker\": {\"colorbar\": {\"outlinewidth\": 0, \"ticks\": \"\"}}, \"type\": \"scatterpolargl\"}], \"scatterternary\": [{\"marker\": {\"colorbar\": {\"outlinewidth\": 0, \"ticks\": \"\"}}, \"type\": \"scatterternary\"}], \"surface\": [{\"colorbar\": {\"outlinewidth\": 0, \"ticks\": \"\"}, \"colorscale\": [[0.0, \"#0d0887\"], [0.1111111111111111, \"#46039f\"], [0.2222222222222222, \"#7201a8\"], [0.3333333333333333, \"#9c179e\"], [0.4444444444444444, \"#bd3786\"], [0.5555555555555556, \"#d8576b\"], [0.6666666666666666, \"#ed7953\"], [0.7777777777777778, \"#fb9f3a\"], [0.8888888888888888, \"#fdca26\"], [1.0, \"#f0f921\"]], \"type\": \"surface\"}], \"table\": [{\"cells\": {\"fill\": {\"color\": \"#EBF0F8\"}, \"line\": {\"color\": \"white\"}}, \"header\": {\"fill\": {\"color\": \"#C8D4E3\"}, \"line\": {\"color\": \"white\"}}, \"type\": \"table\"}]}, \"layout\": {\"annotationdefaults\": {\"arrowcolor\": \"#2a3f5f\", \"arrowhead\": 0, \"arrowwidth\": 1}, \"coloraxis\": {\"colorbar\": {\"outlinewidth\": 0, \"ticks\": \"\"}}, \"colorscale\": {\"diverging\": [[0, \"#8e0152\"], [0.1, \"#c51b7d\"], [0.2, \"#de77ae\"], [0.3, \"#f1b6da\"], [0.4, \"#fde0ef\"], [0.5, \"#f7f7f7\"], [0.6, \"#e6f5d0\"], [0.7, \"#b8e186\"], [0.8, \"#7fbc41\"], [0.9, \"#4d9221\"], [1, \"#276419\"]], \"sequential\": [[0.0, \"#0d0887\"], [0.1111111111111111, \"#46039f\"], [0.2222222222222222, \"#7201a8\"], [0.3333333333333333, \"#9c179e\"], [0.4444444444444444, \"#bd3786\"], [0.5555555555555556, \"#d8576b\"], [0.6666666666666666, \"#ed7953\"], [0.7777777777777778, \"#fb9f3a\"], [0.8888888888888888, \"#fdca26\"], [1.0, \"#f0f921\"]], \"sequentialminus\": [[0.0, \"#0d0887\"], [0.1111111111111111, \"#46039f\"], [0.2222222222222222, \"#7201a8\"], [0.3333333333333333, \"#9c179e\"], [0.4444444444444444, \"#bd3786\"], [0.5555555555555556, \"#d8576b\"], [0.6666666666666666, \"#ed7953\"], [0.7777777777777778, \"#fb9f3a\"], [0.8888888888888888, \"#fdca26\"], [1.0, \"#f0f921\"]]}, \"colorway\": [\"#636efa\", \"#EF553B\", \"#00cc96\", \"#ab63fa\", \"#FFA15A\", \"#19d3f3\", \"#FF6692\", \"#B6E880\", \"#FF97FF\", \"#FECB52\"], \"font\": {\"color\": \"#2a3f5f\"}, \"geo\": {\"bgcolor\": \"white\", \"lakecolor\": \"white\", \"landcolor\": \"#E5ECF6\", \"showlakes\": true, \"showland\": true, \"subunitcolor\": \"white\"}, \"hoverlabel\": {\"align\": \"left\"}, \"hovermode\": \"closest\", \"mapbox\": {\"style\": \"light\"}, \"paper_bgcolor\": \"white\", \"plot_bgcolor\": \"#E5ECF6\", \"polar\": {\"angularaxis\": {\"gridcolor\": \"white\", \"linecolor\": \"white\", \"ticks\": \"\"}, \"bgcolor\": \"#E5ECF6\", \"radialaxis\": {\"gridcolor\": \"white\", \"linecolor\": \"white\", \"ticks\": \"\"}}, \"scene\": {\"xaxis\": {\"backgroundcolor\": \"#E5ECF6\", \"gridcolor\": \"white\", \"gridwidth\": 2, \"linecolor\": \"white\", \"showbackground\": true, \"ticks\": \"\", \"zerolinecolor\": \"white\"}, \"yaxis\": {\"backgroundcolor\": \"#E5ECF6\", \"gridcolor\": \"white\", \"gridwidth\": 2, \"linecolor\": \"white\", \"showbackground\": true, \"ticks\": \"\", \"zerolinecolor\": \"white\"}, \"zaxis\": {\"backgroundcolor\": \"#E5ECF6\", \"gridcolor\": \"white\", \"gridwidth\": 2, \"linecolor\": \"white\", \"showbackground\": true, \"ticks\": \"\", \"zerolinecolor\": \"white\"}}, \"shapedefaults\": {\"line\": {\"color\": \"#2a3f5f\"}}, \"ternary\": {\"aaxis\": {\"gridcolor\": \"white\", \"linecolor\": \"white\", \"ticks\": \"\"}, \"baxis\": {\"gridcolor\": \"white\", \"linecolor\": \"white\", \"ticks\": \"\"}, \"bgcolor\": \"#E5ECF6\", \"caxis\": {\"gridcolor\": \"white\", \"linecolor\": \"white\", \"ticks\": \"\"}}, \"title\": {\"x\": 0.05}, \"xaxis\": {\"automargin\": true, \"gridcolor\": \"white\", \"linecolor\": \"white\", \"ticks\": \"\", \"title\": {\"standoff\": 15}, \"zerolinecolor\": \"white\", \"zerolinewidth\": 2}, \"yaxis\": {\"automargin\": true, \"gridcolor\": \"white\", \"linecolor\": \"white\", \"ticks\": \"\", \"title\": {\"standoff\": 15}, \"zerolinecolor\": \"white\", \"zerolinewidth\": 2}}}, \"title\": {\"text\": \"<b>Network graph of                       's export\"}, \"updatemenus\": [{\"buttons\": [{\"args\": [{\"visible\": [false, false, false, false]}], \"label\": \"Select Country\", \"method\": \"update\"}, {\"args\": [{\"visible\": [true, true, false, false]}], \"label\": \"Italy\", \"method\": \"update\"}, {\"args\": [{\"visible\": [false, false, true, true]}], \"label\": \"China\", \"method\": \"update\"}], \"x\": 0.25, \"xanchor\": \"left\", \"y\": 1.1, \"yanchor\": \"top\"}], \"xaxis\": {\"showgrid\": false, \"showticklabels\": false, \"zeroline\": false}, \"yaxis\": {\"showgrid\": false, \"showticklabels\": false, \"zeroline\": false}},\n",
       "                        {\"responsive\": true}\n",
       "                    ).then(function(){\n",
       "                            \n",
       "var gd = document.getElementById('dffae4ac-b58a-4cc5-a453-3795a93a1494');\n",
       "var x = new MutationObserver(function (mutations, observer) {{\n",
       "        var display = window.getComputedStyle(gd).display;\n",
       "        if (!display || display === 'none') {{\n",
       "            console.log([gd, 'removed!']);\n",
       "            Plotly.purge(gd);\n",
       "            observer.disconnect();\n",
       "        }}\n",
       "}});\n",
       "\n",
       "// Listen for the removal of the full notebook cells\n",
       "var notebookContainer = gd.closest('#notebook-container');\n",
       "if (notebookContainer) {{\n",
       "    x.observe(notebookContainer, {childList: true});\n",
       "}}\n",
       "\n",
       "// Listen for the clearing of the current output cell\n",
       "var outputEl = gd.closest('.output');\n",
       "if (outputEl) {{\n",
       "    x.observe(outputEl, {childList: true});\n",
       "}}\n",
       "\n",
       "                        })\n",
       "                };\n",
       "                });\n",
       "            </script>\n",
       "        </div>"
      ]
     },
     "metadata": {},
     "output_type": "display_data"
    }
   ],
   "source": [
    "fig.update_layout(updatemenus = menus) "
   ]
  },
  {
   "cell_type": "markdown",
   "metadata": {},
   "source": [
    "### Import"
   ]
  },
  {
   "cell_type": "code",
   "execution_count": 91,
   "metadata": {},
   "outputs": [
    {
     "name": "stderr",
     "output_type": "stream",
     "text": [
      "C:\\Users\\Francesco\\Anaconda3\\lib\\site-packages\\ipykernel_launcher.py:19: FutureWarning:\n",
      "\n",
      "\n",
      "Passing list-likes to .loc or [] with any missing label will raise\n",
      "KeyError in the future, you can use .reindex() as an alternative.\n",
      "\n",
      "See the documentation here:\n",
      "https://pandas.pydata.org/pandas-docs/stable/user_guide/indexing.html#deprecate-loc-reindex-listlike\n",
      "\n"
     ]
    }
   ],
   "source": [
    "#######################################################################################################################\n",
    "fig = go.Figure()\n",
    "list_countries = ['Italy', 'China']\n",
    "\n",
    "for country in list_countries:\n",
    "    G, max_frm = networkgraph(country, matn, mat, val, 30, 'import')\n",
    "    edge_x = []\n",
    "    edge_y = []\n",
    "    for edge in G.edges():\n",
    "        x0, y0 = G.nodes[edge[0]]['pos']\n",
    "        x1, y1 = G.nodes[edge[1]]['pos']\n",
    "        edge_x.append(x0)\n",
    "        edge_x.append(x1)\n",
    "        edge_x.append(None)\n",
    "        edge_y.append(y0)\n",
    "        edge_y.append(y1)\n",
    "        edge_y.append(None)\n",
    "\n",
    "    edge_trace = go.Scatter(\n",
    "        x=edge_x, y=edge_y,\n",
    "        line=dict(width=0.5, color='#888'),\n",
    "        hoverinfo='none',\n",
    "        mode='lines')\n",
    "\n",
    "    node_x = []\n",
    "    node_y = []\n",
    "    labels = []\n",
    "\n",
    "    for node in G.nodes():\n",
    "        x, y = G.nodes[node]['pos']\n",
    "        node_x.append(x)\n",
    "        node_y.append(y)\n",
    "        if node != country:\n",
    "            labels.append(node)\n",
    "        else:\n",
    "            labels.append('<b>' + node + '</b>')\n",
    "\n",
    "    node_trace = go.Scatter(\n",
    "        x=node_x, y=node_y,\n",
    "        mode='markers + text',\n",
    "        hoverinfo='text',\n",
    "        text = labels,\n",
    "        textfont=dict(\n",
    "            family=\"Arial\",\n",
    "            size=10,\n",
    "            color= 'firebrick'\n",
    "            #'#ff7f0e'\n",
    "        ),\n",
    "        marker=dict(\n",
    "            showscale=True,\n",
    "            # colorscale options\n",
    "            #'Greys' | 'YlGnBu' | 'Greens' | 'YlOrRd' | 'Bluered' | 'RdBu' |\n",
    "            #'Reds' | 'Blues' | 'Picnic' | 'Rainbow' | 'Portland' | 'Jet' |\n",
    "            #'Hot' | 'Blackbody' | 'Earth' | 'Electric' | 'Viridis' |\n",
    "            colorscale='YlGnBu',\n",
    "            reversescale=True,\n",
    "            color=[],\n",
    "            size=[],\n",
    "            colorbar=dict(\n",
    "                thickness=15,\n",
    "                title = 'Imports of ' + country + ' absolute values in US $',\n",
    "                xanchor='left',\n",
    "                titleside='right'\n",
    "            ),\n",
    "            line_width=2))\n",
    "\n",
    "    node_color = []\n",
    "    node_text = []\n",
    "    node_size = []\n",
    "    for node in G.nodes():\n",
    "        if node != country:\n",
    "            node_text.append('Perc. of ' + node + '\\'s production: ' + str(round(G.nodes()[node]['From_norm']*100, 4)) +' %<br>'\n",
    "                             + 'Absolute value: ' + str (int(G.nodes()[node]['From']/1000)) + ' mln US$')\n",
    "            node_color.append(G.nodes()[node]['From']*1000)\n",
    "            node_size.append(G.nodes()[node]['From']*50/max_frm)\n",
    "\n",
    "        else:\n",
    "            node_text.append(country + '\\'s total production: ' + str(int(tot_prod)) + ' mln US$')\n",
    "            node_color.append('lightgray')\n",
    "            node_size.append(50)\n",
    "            node_textposition ='middle center',\n",
    "\n",
    "    textposition=\"middle center\",\n",
    "\n",
    "    node_trace.marker.color = node_color\n",
    "    node_trace.marker.size = node_size\n",
    "    node_trace.hovertext = node_text\n",
    "    \n",
    "    fig.add_trace(edge_trace)\n",
    "    fig.add_trace(node_trace)\n",
    "    fig.update_layout(title='<b>Network graph of                       \\'s import',\n",
    "                      titlefont_size=16,\n",
    "                      showlegend=False,\n",
    "                      hovermode='closest',\n",
    "                      margin=dict(b=20,l=5,r=5,t=40),\n",
    "                      plot_bgcolor = 'white',\n",
    "                      xaxis=dict(showgrid=False, zeroline=False, showticklabels=False),\n",
    "                      yaxis=dict(showgrid=False, zeroline=False, showticklabels=False))\n",
    "    \n",
    "             "
   ]
  },
  {
   "cell_type": "code",
   "execution_count": 92,
   "metadata": {},
   "outputs": [],
   "source": [
    "buttons = []\n",
    "\n",
    "buttons.append(dict(method='update',\n",
    "                args=[{'visible': [False]*len(list_countries)*2}],\n",
    "                label='Select Country'))\n",
    "\n",
    "for i in range(0, len(list_countries)):\n",
    "    show = [False]*len(list_countries)*2\n",
    "    show[i*2] = True\n",
    "    show[i*2+1] = True\n",
    "    but = dict(method='update',\n",
    "                args=[{'visible': show}],\n",
    "                label=list_countries[i])\n",
    "    buttons.append(but)"
   ]
  },
  {
   "cell_type": "code",
   "execution_count": 93,
   "metadata": {},
   "outputs": [],
   "source": [
    "# Here we create the menu using the buttons created above\n",
    "menus=list([dict(x=0.25, y=1.10, yanchor='top', xanchor='left',  buttons = buttons)])"
   ]
  },
  {
   "cell_type": "code",
   "execution_count": 94,
   "metadata": {
    "scrolled": true
   },
   "outputs": [
    {
     "data": {
      "application/vnd.plotly.v1+json": {
       "config": {
        "plotlyServerURL": "https://plot.ly"
       },
       "data": [
        {
         "hoverinfo": "none",
         "line": {
          "color": "#888",
          "width": 0.5
         },
         "mode": "lines",
         "type": "scatter",
         "x": [
          -0.18217610762302555,
          -0.45565700300703604,
          null,
          -0.18217610762302555,
          -0.9990769704815166,
          null,
          -0.18217610762302555,
          -0.4892574707634647,
          null,
          -0.18217610762302555,
          0.552402290663426,
          null,
          -0.18217610762302555,
          -0.9853180479768505,
          null,
          -0.18217610762302555,
          0.9105475365924682,
          null,
          -0.18217610762302555,
          0.23923627716135643,
          null,
          -0.18217610762302555,
          -0.7004525621840266,
          null,
          -0.18217610762302555,
          -0.8268506198243329,
          null,
          -0.18217610762302555,
          0.9783984957799731,
          null,
          -0.18217610762302555,
          -0.2939980065650719,
          null,
          -0.18217610762302555,
          0.973023048053746,
          null,
          -0.18217610762302555,
          -0.8045649007993915,
          null,
          -0.18217610762302555,
          0.8644055518764838,
          null,
          -0.18217610762302555,
          -0.8626387001590632,
          null,
          -0.18217610762302555,
          -0.9293923377674992,
          null,
          -0.18217610762302555,
          0.6266579754559611,
          null,
          -0.18217610762302555,
          0.768503761799603,
          null,
          -0.18217610762302555,
          0.7923003516966104,
          null,
          -0.18217610762302555,
          0.6261664178258475,
          null,
          -0.18217610762302555,
          0.4318555079666051,
          null,
          -0.18217610762302555,
          -0.06931005975625712,
          null,
          -0.18217610762302555,
          -0.5448420200329865,
          null,
          -0.18217610762302555,
          0.06618097404074355,
          null,
          -0.18217610762302555,
          -0.8383588113251671,
          null,
          -0.18217610762302555,
          -0.17795726168747683,
          null,
          -0.18217610762302555,
          0.1567668075944342,
          null,
          -0.18217610762302555,
          0.33937832774262944,
          null,
          -0.18217610762302555,
          0.8340275557032784,
          null
         ],
         "y": [
          -0.0025314346149582436,
          -0.9354574422598958,
          null,
          -0.0025314346149582436,
          0.13558576341364514,
          null,
          -0.0025314346149582436,
          0.8244657746860925,
          null,
          -0.0025314346149582436,
          0.8579264913400552,
          null,
          -0.0025314346149582436,
          -0.24242674128970235,
          null,
          -0.0025314346149582436,
          -0.39637168457426564,
          null,
          -0.0025314346149582436,
          -0.9045276482867575,
          null,
          -0.0025314346149582436,
          0.7672342456156599,
          null,
          -0.0025314346149582436,
          -0.675437280710522,
          null,
          -0.0025314346149582436,
          -0.09754695448873672,
          null,
          -0.0025314346149582436,
          0.9475138022255767,
          null,
          -0.0025314346149582436,
          0.142944542463332,
          null,
          -0.0025314346149582436,
          -0.07873637884285019,
          null,
          -0.0025314346149582436,
          0.3302738188524885,
          null,
          -0.0025314346149582436,
          0.3827356542291427,
          null,
          -0.0025314346149582436,
          0.5507784139280524,
          null,
          -0.0025314346149582436,
          0.6418414743126555,
          null,
          -0.0025314346149582436,
          -0.6043771038280387,
          null,
          -0.0025314346149582436,
          -0.2355136837715691,
          null,
          -0.0025314346149582436,
          -0.8029689942794094,
          null,
          -0.0025314346149582436,
          -0.8143849763398942,
          null,
          -0.0025314346149582436,
          0.9749632870714311,
          null,
          -0.0025314346149582436,
          -0.7548298598179776,
          null,
          -0.0025314346149582436,
          -1,
          null,
          -0.0025314346149582436,
          -0.48370343789333814,
          null,
          -0.0025314346149582436,
          -0.9346035443275061,
          null,
          -0.0025314346149582436,
          0.9819551803315297,
          null,
          -0.0025314346149582436,
          0.8781793006278285,
          null,
          -0.0025314346149582436,
          0.5470194162279333,
          null
         ]
        },
        {
         "hoverinfo": "text",
         "hovertext": [
          "Perc. of Ecuador's production: 2.3469 %<br>Absolute value: 226 mln US$",
          "Perc. of Germany's production: 7.7536 %<br>Absolute value: 5839 mln US$",
          "Perc. of United States of America's production: 0.233 %<br>Absolute value: 765 mln US$",
          "Perc. of Turkey's production: 1.2148 %<br>Absolute value: 511 mln US$",
          "Perc. of Slovenia's production: 26.1486 %<br>Absolute value: 349 mln US$",
          "Perc. of Portugal's production: 2.9568 %<br>Absolute value: 222 mln US$",
          "Perc. of Austria's production: 14.1742 %<br>Absolute value: 1347 mln US$",
          "Perc. of Denmark's production: 5.375 %<br>Absolute value: 589 mln US$",
          "Italy's total production: 38520 mln US$",
          "Perc. of Indonesia's production: 0.9979 %<br>Absolute value: 539 mln US$",
          "Perc. of Poland's production: 2.2505 %<br>Absolute value: 827 mln US$",
          "Perc. of Canada's production: 0.8489 %<br>Absolute value: 338 mln US$",
          "Perc. of Czechia's production: 3.6182 %<br>Absolute value: 323 mln US$",
          "Perc. of Romania's production: 3.6937 %<br>Absolute value: 509 mln US$",
          "Perc. of United Kingdom's production: 1.0881 %<br>Absolute value: 684 mln US$",
          "Perc. of Switzerland's production: 1.7837 %<br>Absolute value: 348 mln US$",
          "Perc. of Netherlands's production: 14.7652 %<br>Absolute value: 3555 mln US$",
          "Perc. of Argentina's production: 1.6466 %<br>Absolute value: 818 mln US$",
          "Perc. of Belgium's production: 11.5097 %<br>Absolute value: 1220 mln US$",
          "Perc. of Greece's production: 5.7773 %<br>Absolute value: 618 mln US$",
          "Perc. of Ukraine's production: 1.3023 %<br>Absolute value: 343 mln US$",
          "Perc. of Australia's production: 0.9038 %<br>Absolute value: 334 mln US$",
          "Perc. of France's production: 6.6323 %<br>Absolute value: 5782 mln US$",
          "Perc. of China's production: 0.0615 %<br>Absolute value: 356 mln US$",
          "Perc. of Tunisia's production: 11.6114 %<br>Absolute value: 260 mln US$",
          "Perc. of Spain's production: 7.4579 %<br>Absolute value: 3127 mln US$",
          "Perc. of Brazil's production: 0.514 %<br>Absolute value: 1049 mln US$",
          "Perc. of Hungary's production: 6.2872 %<br>Absolute value: 598 mln US$",
          "Perc. of India's production: 0.0653 %<br>Absolute value: 260 mln US$",
          "Perc. of Ireland's production: 3.7396 %<br>Absolute value: 377 mln US$"
         ],
         "marker": {
          "color": [
           226371194.44444445,
           5839181388.888889,
           765436805.5555555,
           511474138.8888889,
           349215250,
           222876111.11111113,
           1347529027.7777777,
           589160055.5555555,
           "lightgray",
           539967083.3333334,
           827884555.5555555,
           338793722.22222227,
           323827694.4444444,
           509438027.77777773,
           684018055.5555555,
           348000277.77777773,
           3555627805.5555553,
           818939750,
           1220297222.2222223,
           618033861.1111112,
           343901388.8888889,
           334900305.5555556,
           5782447138.888889,
           356225555.5555556,
           260657611.11111113,
           3127651138.888889,
           1049829111.111111,
           598834555.5555555,
           260901944.44444445,
           377628666.6666667
          ],
          "colorbar": {
           "thickness": 15,
           "title": {
            "side": "right",
            "text": "Imports of Italy absolute values in US $"
           },
           "xanchor": "left"
          },
          "colorscale": [
           [
            0,
            "rgb(255,255,217)"
           ],
           [
            0.125,
            "rgb(237,248,177)"
           ],
           [
            0.25,
            "rgb(199,233,180)"
           ],
           [
            0.375,
            "rgb(127,205,187)"
           ],
           [
            0.5,
            "rgb(65,182,196)"
           ],
           [
            0.625,
            "rgb(29,145,192)"
           ],
           [
            0.75,
            "rgb(34,94,168)"
           ],
           [
            0.875,
            "rgb(37,52,148)"
           ],
           [
            1,
            "rgb(8,29,88)"
           ]
          ],
          "line": {
           "width": 2
          },
          "reversescale": true,
          "showscale": true,
          "size": [
           1.938381250454009,
           50.00000000000001,
           6.554316046869774,
           4.3796733208369725,
           2.990275748793364,
           1.9084533966971113,
           11.538681007083706,
           5.044885715287431,
           50,
           4.6236539625298505,
           7.08904639553499,
           2.9010378309783054,
           2.7728860680766085,
           4.362238418789011,
           5.85713998247376,
           2.9798721310488108,
           30.446286634641943,
           7.012453419911933,
           10.449214889472948,
           5.292127611304724,
           2.94477398444312,
           2.867699110981738,
           49.51419346119341,
           3.050303902473392,
           2.2319704916780334,
           26.781589152551017,
           8.989523027224182,
           5.127726950690814,
           2.2340626799237886,
           3.233575406522214
          ]
         },
         "mode": "markers+text",
         "text": [
          "Ecuador",
          "Germany",
          "United States of America",
          "Turkey",
          "Slovenia",
          "Portugal",
          "Austria",
          "Denmark",
          "<b>Italy</b>",
          "Indonesia",
          "Poland",
          "Canada",
          "Czechia",
          "Romania",
          "United Kingdom",
          "Switzerland",
          "Netherlands",
          "Argentina",
          "Belgium",
          "Greece",
          "Ukraine",
          "Australia",
          "France",
          "China",
          "Tunisia",
          "Spain",
          "Brazil",
          "Hungary",
          "India",
          "Ireland"
         ],
         "textfont": {
          "color": "firebrick",
          "family": "Arial",
          "size": 10
         },
         "type": "scatter",
         "x": [
          0.33937832774262944,
          -0.45565700300703604,
          0.9783984957799731,
          -0.9293923377674992,
          0.6261664178258475,
          0.8340275557032784,
          -0.9853180479768505,
          0.8644055518764838,
          -0.18217610762302555,
          -0.8626387001590632,
          -0.7004525621840266,
          -0.5448420200329865,
          -0.8383588113251671,
          0.6266579754559611,
          -0.2939980065650719,
          0.4318555079666051,
          -0.4892574707634647,
          -0.8268506198243329,
          0.9105475365924682,
          0.973023048053746,
          -0.06931005975625712,
          0.06618097404074355,
          -0.9990769704815166,
          0.7923003516966104,
          0.1567668075944342,
          0.552402290663426,
          0.23923627716135643,
          -0.8045649007993915,
          -0.17795726168747683,
          0.768503761799603
         ],
         "y": [
          0.8781793006278285,
          -0.9354574422598958,
          -0.09754695448873672,
          0.5507784139280524,
          -0.8029689942794094,
          0.5470194162279333,
          -0.24242674128970235,
          0.3302738188524885,
          -0.0025314346149582436,
          0.3827356542291427,
          0.7672342456156599,
          -0.7548298598179776,
          -0.48370343789333814,
          0.6418414743126555,
          0.9475138022255767,
          -0.8143849763398942,
          0.8244657746860925,
          -0.675437280710522,
          -0.39637168457426564,
          0.142944542463332,
          0.9749632870714311,
          -1,
          0.13558576341364514,
          -0.2355136837715691,
          0.9819551803315297,
          0.8579264913400552,
          -0.9045276482867575,
          -0.07873637884285019,
          -0.9346035443275061,
          -0.6043771038280387
         ]
        },
        {
         "hoverinfo": "none",
         "line": {
          "color": "#888",
          "width": 0.5
         },
         "mode": "lines",
         "type": "scatter",
         "x": [
          -0.08671044096406255,
          0.5722127069422888,
          null,
          -0.08671044096406255,
          -0.8701779393161455,
          null,
          -0.08671044096406255,
          -0.8988706059637203,
          null,
          -0.08671044096406255,
          0.05315352763077863,
          null,
          -0.08671044096406255,
          0.25989212644309206,
          null,
          -0.08671044096406255,
          -0.8254120031161855,
          null,
          -0.08671044096406255,
          -0.8344743984398412,
          null,
          -0.08671044096406255,
          -0.5951014577299675,
          null,
          -0.08671044096406255,
          0.9491212540016798,
          null,
          -0.08671044096406255,
          0.6296861688394289,
          null,
          -0.08671044096406255,
          0.5008325755338409,
          null,
          -0.08671044096406255,
          0.05100291060066246,
          null,
          -0.08671044096406255,
          -0.39525060962670905,
          null,
          -0.08671044096406255,
          -0.458520611246617,
          null,
          -0.08671044096406255,
          0.9293734433977863,
          null,
          -0.08671044096406255,
          -0.6812440785096996,
          null,
          -0.08671044096406255,
          -0.9580163658938875,
          null,
          -0.08671044096406255,
          -0.16295227949935281,
          null,
          -0.08671044096406255,
          0.870590492715331,
          null,
          -0.08671044096406255,
          0.8815047246234674,
          null,
          -0.08671044096406255,
          -0.16080543144043397,
          null,
          -0.08671044096406255,
          0.2658039567882472,
          null,
          -0.08671044096406255,
          -0.8958031854194554,
          null,
          -0.08671044096406255,
          0.47151626394787466,
          null,
          -0.08671044096406255,
          0.6661813006042002,
          null,
          -0.08671044096406255,
          0.9999999999999999,
          null,
          -0.08671044096406255,
          -0.37603278665306283,
          null,
          -0.08671044096406255,
          0.7594777268058,
          null,
          -0.08671044096406255,
          -0.660976985055338,
          null
         ],
         "y": [
          0.1199720795126928,
          0.6597921036128428,
          null,
          0.1199720795126928,
          0.4948965750723976,
          null,
          0.1199720795126928,
          0.2566913715357939,
          null,
          0.1199720795126928,
          -0.9463355853400738,
          null,
          0.1199720795126928,
          -0.8547160390719513,
          null,
          0.1199720795126928,
          0.05341221153732497,
          null,
          0.1199720795126928,
          -0.5332561338166729,
          null,
          0.1199720795126928,
          0.7986953110238495,
          null,
          0.1199720795126928,
          0.2016922047667827,
          null,
          0.1199720795126928,
          -0.6875317991641698,
          null,
          0.1199720795126928,
          0.8592004189083882,
          null,
          0.1199720795126928,
          0.8926293738762554,
          null,
          0.1199720795126928,
          -0.9193457244224339,
          null,
          0.1199720795126928,
          -0.7232879248871311,
          null,
          0.1199720795126928,
          0.45042489645252204,
          null,
          0.1199720795126928,
          0.599778120741297,
          null,
          0.1199720795126928,
          -0.07815217540088619,
          null,
          0.1199720795126928,
          0.9030751244208085,
          null,
          0.1199720795126928,
          -0.10160837828893864,
          null,
          0.1199720795126928,
          -0.4437765364131818,
          null,
          0.1199720795126928,
          -0.9003758916622222,
          null,
          0.1199720795126928,
          0.8934362342646254,
          null,
          0.1199720795126928,
          -0.3134524428810605,
          null,
          0.1199720795126928,
          -0.8846882957207819,
          null,
          0.1199720795126928,
          -0.4648267477139793,
          null,
          0.1199720795126928,
          -0.1125227429136822,
          null,
          0.1199720795126928,
          0.856748704269941,
          null,
          0.1199720795126928,
          0.609798832980603,
          null,
          0.1199720795126928,
          -0.68636714527896,
          null
         ]
        },
        {
         "hoverinfo": "text",
         "hovertext": [
          "Perc. of South Korea's production: 0.7689 %<br>Absolute value: 391 mln US$",
          "Perc. of Japan's production: 0.3908 %<br>Absolute value: 186 mln US$",
          "Perc. of Germany's production: 0.6534 %<br>Absolute value: 587 mln US$",
          "Perc. of Philippines's production: 1.063 %<br>Absolute value: 265 mln US$",
          "Perc. of United States of America's production: 4.039 %<br>Absolute value: 13515 mln US$",
          "Perc. of Zimbabwe's production: 0.5681 %<br>Absolute value: 166 mln US$",
          "Perc. of Denmark's production: 2.5928 %<br>Absolute value: 336 mln US$",
          "Perc. of Italy's production: 0.3402 %<br>Absolute value: 218 mln US$",
          "Perc. of Chile's production: 3.8533 %<br>Absolute value: 520 mln US$",
          "Perc. of Indonesia's production: 5.3901 %<br>Absolute value: 2906 mln US$",
          "Perc. of South Africa's production: 0.8777 %<br>Absolute value: 196 mln US$",
          "Perc. of Pakistan's production: 0.2892 %<br>Absolute value: 174 mln US$",
          "Perc. of Malaysia's production: 33.4876 %<br>Absolute value: 2924 mln US$",
          "Perc. of Canada's production: 5.5713 %<br>Absolute value: 2385 mln US$",
          "Perc. of Uruguay's production: 11.2124 %<br>Absolute value: 584 mln US$",
          "Perc. of United Kingdom's production: 0.4336 %<br>Absolute value: 288 mln US$",
          "Perc. of Ethiopia's production: 0.8251 %<br>Absolute value: 147 mln US$",
          "Perc. of Netherlands's production: 2.5554 %<br>Absolute value: 727 mln US$",
          "Perc. of New Zealand's production: 15.0719 %<br>Absolute value: 2078 mln US$",
          "Perc. of Argentina's production: 6.677 %<br>Absolute value: 3454 mln US$",
          "Perc. of Belgium's production: 1.805 %<br>Absolute value: 202 mln US$",
          "Perc. of Ukraine's production: 0.8831 %<br>Absolute value: 292 mln US$",
          "Perc. of Australia's production: 10.2817 %<br>Absolute value: 4064 mln US$",
          "Perc. of Thailand's production: 5.6212 %<br>Absolute value: 4058 mln US$",
          "Perc. of France's production: 1.5194 %<br>Absolute value: 1452 mln US$",
          "China's total production: 38520 mln US$",
          "Perc. of Spain's production: 0.8153 %<br>Absolute value: 396 mln US$",
          "Perc. of Brazil's production: 4.1496 %<br>Absolute value: 9989 mln US$",
          "Perc. of India's production: 0.3326 %<br>Absolute value: 1322 mln US$",
          "Perc. of Ireland's production: 2.0304 %<br>Absolute value: 241 mln US$"
         ],
         "marker": {
          "color": [
           391873000,
           186372805.55555555,
           587911444.4444445,
           265483722.22222224,
           13515858611.111113,
           166219000,
           336288555.5555556,
           218382166.66666666,
           520430277.77777773,
           2906216500,
           196806416.66666666,
           174461305.55555555,
           2924952222.222222,
           2385466555.5555553,
           584614166.6666666,
           288550361.1111111,
           147774194.44444445,
           727794777.7777778,
           2078768444.4444444,
           3454835972.222222,
           202628750,
           292887222.22222227,
           4064777361.111111,
           4058068222.222222,
           1452547166.6666667,
           "lightgray",
           396050444.4444444,
           9989960916.666666,
           1322161944.4444444,
           241828444.44444445
          ],
          "colorbar": {
           "thickness": 15,
           "title": {
            "side": "right",
            "text": "Imports of China absolute values in US $"
           },
           "xanchor": "left"
          },
          "colorscale": [
           [
            0,
            "rgb(255,255,217)"
           ],
           [
            0.125,
            "rgb(237,248,177)"
           ],
           [
            0.25,
            "rgb(199,233,180)"
           ],
           [
            0.375,
            "rgb(127,205,187)"
           ],
           [
            0.5,
            "rgb(65,182,196)"
           ],
           [
            0.625,
            "rgb(29,145,192)"
           ],
           [
            0.75,
            "rgb(34,94,168)"
           ],
           [
            0.875,
            "rgb(37,52,148)"
           ],
           [
            1,
            "rgb(8,29,88)"
           ]
          ],
          "line": {
           "width": 2
          },
          "reversescale": true,
          "showscale": true,
          "size": [
           1.4496785268153412,
           0.6894597336285475,
           2.1748949192215377,
           0.9821193379604218,
           50,
           0.6149035913388246,
           1.2440517662677368,
           0.807873820487953,
           1.9252579238656087,
           10.75113532783947,
           0.7280573966084407,
           0.6453948305294289,
           10.820445472171773,
           8.824694842525624,
           2.162697108217998,
           1.0674510936134673,
           0.5466696519115785,
           2.6923734507679464,
           7.690108724337835,
           12.78067517435434,
           0.7495962921416736,
           1.0834946955624618,
           15.037066745317757,
           15.012247238537132,
           5.373492015788614,
           50,
           1.465132389439393,
           36.956442073366034,
           4.89115039779094,
           0.8946099963107124
          ]
         },
         "mode": "markers+text",
         "text": [
          "South Korea",
          "Japan",
          "Germany",
          "Philippines",
          "United States of America",
          "Zimbabwe",
          "Denmark",
          "Italy",
          "Chile",
          "Indonesia",
          "South Africa",
          "Pakistan",
          "Malaysia",
          "Canada",
          "Uruguay",
          "United Kingdom",
          "Ethiopia",
          "Netherlands",
          "New Zealand",
          "Argentina",
          "Belgium",
          "Ukraine",
          "Australia",
          "Thailand",
          "France",
          "<b>China</b>",
          "Spain",
          "Brazil",
          "India",
          "Ireland"
         ],
         "textfont": {
          "color": "firebrick",
          "family": "Arial",
          "size": 10
         },
         "type": "scatter",
         "x": [
          -0.9580163658938875,
          0.9999999999999999,
          -0.39525060962670905,
          -0.16080543144043397,
          0.5722127069422888,
          0.7594777268058,
          -0.16295227949935281,
          -0.8958031854194554,
          0.9293734433977863,
          -0.8344743984398412,
          0.6661813006042002,
          -0.37603278665306283,
          -0.8254120031161855,
          -0.5951014577299675,
          -0.458520611246617,
          0.8815047246234674,
          -0.660976985055338,
          0.05100291060066246,
          0.9491212540016798,
          0.25989212644309206,
          0.47151626394787466,
          0.870590492715331,
          -0.8988706059637203,
          0.05315352763077863,
          0.6296861688394289,
          -0.08671044096406255,
          -0.6812440785096996,
          -0.8701779393161455,
          0.5008325755338409,
          0.2658039567882472
         ],
         "y": [
          -0.07815217540088619,
          -0.1125227429136822,
          -0.9193457244224339,
          -0.9003758916622222,
          0.6597921036128428,
          0.609798832980603,
          0.9030751244208085,
          -0.3134524428810605,
          0.45042489645252204,
          -0.5332561338166729,
          -0.4648267477139793,
          0.856748704269941,
          0.05341221153732497,
          0.7986953110238495,
          -0.7232879248871311,
          -0.4437765364131818,
          -0.68636714527896,
          0.8926293738762554,
          0.2016922047667827,
          -0.8547160390719513,
          -0.8846882957207819,
          -0.10160837828893864,
          0.2566913715357939,
          -0.9463355853400738,
          -0.6875317991641698,
          0.1199720795126928,
          0.599778120741297,
          0.4948965750723976,
          0.8592004189083882,
          0.8934362342646254
         ]
        }
       ],
       "layout": {
        "hovermode": "closest",
        "margin": {
         "b": 20,
         "l": 5,
         "r": 5,
         "t": 40
        },
        "plot_bgcolor": "white",
        "showlegend": false,
        "template": {
         "data": {
          "bar": [
           {
            "error_x": {
             "color": "#2a3f5f"
            },
            "error_y": {
             "color": "#2a3f5f"
            },
            "marker": {
             "line": {
              "color": "#E5ECF6",
              "width": 0.5
             }
            },
            "type": "bar"
           }
          ],
          "barpolar": [
           {
            "marker": {
             "line": {
              "color": "#E5ECF6",
              "width": 0.5
             }
            },
            "type": "barpolar"
           }
          ],
          "carpet": [
           {
            "aaxis": {
             "endlinecolor": "#2a3f5f",
             "gridcolor": "white",
             "linecolor": "white",
             "minorgridcolor": "white",
             "startlinecolor": "#2a3f5f"
            },
            "baxis": {
             "endlinecolor": "#2a3f5f",
             "gridcolor": "white",
             "linecolor": "white",
             "minorgridcolor": "white",
             "startlinecolor": "#2a3f5f"
            },
            "type": "carpet"
           }
          ],
          "choropleth": [
           {
            "colorbar": {
             "outlinewidth": 0,
             "ticks": ""
            },
            "type": "choropleth"
           }
          ],
          "contour": [
           {
            "colorbar": {
             "outlinewidth": 0,
             "ticks": ""
            },
            "colorscale": [
             [
              0,
              "#0d0887"
             ],
             [
              0.1111111111111111,
              "#46039f"
             ],
             [
              0.2222222222222222,
              "#7201a8"
             ],
             [
              0.3333333333333333,
              "#9c179e"
             ],
             [
              0.4444444444444444,
              "#bd3786"
             ],
             [
              0.5555555555555556,
              "#d8576b"
             ],
             [
              0.6666666666666666,
              "#ed7953"
             ],
             [
              0.7777777777777778,
              "#fb9f3a"
             ],
             [
              0.8888888888888888,
              "#fdca26"
             ],
             [
              1,
              "#f0f921"
             ]
            ],
            "type": "contour"
           }
          ],
          "contourcarpet": [
           {
            "colorbar": {
             "outlinewidth": 0,
             "ticks": ""
            },
            "type": "contourcarpet"
           }
          ],
          "heatmap": [
           {
            "colorbar": {
             "outlinewidth": 0,
             "ticks": ""
            },
            "colorscale": [
             [
              0,
              "#0d0887"
             ],
             [
              0.1111111111111111,
              "#46039f"
             ],
             [
              0.2222222222222222,
              "#7201a8"
             ],
             [
              0.3333333333333333,
              "#9c179e"
             ],
             [
              0.4444444444444444,
              "#bd3786"
             ],
             [
              0.5555555555555556,
              "#d8576b"
             ],
             [
              0.6666666666666666,
              "#ed7953"
             ],
             [
              0.7777777777777778,
              "#fb9f3a"
             ],
             [
              0.8888888888888888,
              "#fdca26"
             ],
             [
              1,
              "#f0f921"
             ]
            ],
            "type": "heatmap"
           }
          ],
          "heatmapgl": [
           {
            "colorbar": {
             "outlinewidth": 0,
             "ticks": ""
            },
            "colorscale": [
             [
              0,
              "#0d0887"
             ],
             [
              0.1111111111111111,
              "#46039f"
             ],
             [
              0.2222222222222222,
              "#7201a8"
             ],
             [
              0.3333333333333333,
              "#9c179e"
             ],
             [
              0.4444444444444444,
              "#bd3786"
             ],
             [
              0.5555555555555556,
              "#d8576b"
             ],
             [
              0.6666666666666666,
              "#ed7953"
             ],
             [
              0.7777777777777778,
              "#fb9f3a"
             ],
             [
              0.8888888888888888,
              "#fdca26"
             ],
             [
              1,
              "#f0f921"
             ]
            ],
            "type": "heatmapgl"
           }
          ],
          "histogram": [
           {
            "marker": {
             "colorbar": {
              "outlinewidth": 0,
              "ticks": ""
             }
            },
            "type": "histogram"
           }
          ],
          "histogram2d": [
           {
            "colorbar": {
             "outlinewidth": 0,
             "ticks": ""
            },
            "colorscale": [
             [
              0,
              "#0d0887"
             ],
             [
              0.1111111111111111,
              "#46039f"
             ],
             [
              0.2222222222222222,
              "#7201a8"
             ],
             [
              0.3333333333333333,
              "#9c179e"
             ],
             [
              0.4444444444444444,
              "#bd3786"
             ],
             [
              0.5555555555555556,
              "#d8576b"
             ],
             [
              0.6666666666666666,
              "#ed7953"
             ],
             [
              0.7777777777777778,
              "#fb9f3a"
             ],
             [
              0.8888888888888888,
              "#fdca26"
             ],
             [
              1,
              "#f0f921"
             ]
            ],
            "type": "histogram2d"
           }
          ],
          "histogram2dcontour": [
           {
            "colorbar": {
             "outlinewidth": 0,
             "ticks": ""
            },
            "colorscale": [
             [
              0,
              "#0d0887"
             ],
             [
              0.1111111111111111,
              "#46039f"
             ],
             [
              0.2222222222222222,
              "#7201a8"
             ],
             [
              0.3333333333333333,
              "#9c179e"
             ],
             [
              0.4444444444444444,
              "#bd3786"
             ],
             [
              0.5555555555555556,
              "#d8576b"
             ],
             [
              0.6666666666666666,
              "#ed7953"
             ],
             [
              0.7777777777777778,
              "#fb9f3a"
             ],
             [
              0.8888888888888888,
              "#fdca26"
             ],
             [
              1,
              "#f0f921"
             ]
            ],
            "type": "histogram2dcontour"
           }
          ],
          "mesh3d": [
           {
            "colorbar": {
             "outlinewidth": 0,
             "ticks": ""
            },
            "type": "mesh3d"
           }
          ],
          "parcoords": [
           {
            "line": {
             "colorbar": {
              "outlinewidth": 0,
              "ticks": ""
             }
            },
            "type": "parcoords"
           }
          ],
          "pie": [
           {
            "automargin": true,
            "type": "pie"
           }
          ],
          "scatter": [
           {
            "marker": {
             "colorbar": {
              "outlinewidth": 0,
              "ticks": ""
             }
            },
            "type": "scatter"
           }
          ],
          "scatter3d": [
           {
            "line": {
             "colorbar": {
              "outlinewidth": 0,
              "ticks": ""
             }
            },
            "marker": {
             "colorbar": {
              "outlinewidth": 0,
              "ticks": ""
             }
            },
            "type": "scatter3d"
           }
          ],
          "scattercarpet": [
           {
            "marker": {
             "colorbar": {
              "outlinewidth": 0,
              "ticks": ""
             }
            },
            "type": "scattercarpet"
           }
          ],
          "scattergeo": [
           {
            "marker": {
             "colorbar": {
              "outlinewidth": 0,
              "ticks": ""
             }
            },
            "type": "scattergeo"
           }
          ],
          "scattergl": [
           {
            "marker": {
             "colorbar": {
              "outlinewidth": 0,
              "ticks": ""
             }
            },
            "type": "scattergl"
           }
          ],
          "scattermapbox": [
           {
            "marker": {
             "colorbar": {
              "outlinewidth": 0,
              "ticks": ""
             }
            },
            "type": "scattermapbox"
           }
          ],
          "scatterpolar": [
           {
            "marker": {
             "colorbar": {
              "outlinewidth": 0,
              "ticks": ""
             }
            },
            "type": "scatterpolar"
           }
          ],
          "scatterpolargl": [
           {
            "marker": {
             "colorbar": {
              "outlinewidth": 0,
              "ticks": ""
             }
            },
            "type": "scatterpolargl"
           }
          ],
          "scatterternary": [
           {
            "marker": {
             "colorbar": {
              "outlinewidth": 0,
              "ticks": ""
             }
            },
            "type": "scatterternary"
           }
          ],
          "surface": [
           {
            "colorbar": {
             "outlinewidth": 0,
             "ticks": ""
            },
            "colorscale": [
             [
              0,
              "#0d0887"
             ],
             [
              0.1111111111111111,
              "#46039f"
             ],
             [
              0.2222222222222222,
              "#7201a8"
             ],
             [
              0.3333333333333333,
              "#9c179e"
             ],
             [
              0.4444444444444444,
              "#bd3786"
             ],
             [
              0.5555555555555556,
              "#d8576b"
             ],
             [
              0.6666666666666666,
              "#ed7953"
             ],
             [
              0.7777777777777778,
              "#fb9f3a"
             ],
             [
              0.8888888888888888,
              "#fdca26"
             ],
             [
              1,
              "#f0f921"
             ]
            ],
            "type": "surface"
           }
          ],
          "table": [
           {
            "cells": {
             "fill": {
              "color": "#EBF0F8"
             },
             "line": {
              "color": "white"
             }
            },
            "header": {
             "fill": {
              "color": "#C8D4E3"
             },
             "line": {
              "color": "white"
             }
            },
            "type": "table"
           }
          ]
         },
         "layout": {
          "annotationdefaults": {
           "arrowcolor": "#2a3f5f",
           "arrowhead": 0,
           "arrowwidth": 1
          },
          "coloraxis": {
           "colorbar": {
            "outlinewidth": 0,
            "ticks": ""
           }
          },
          "colorscale": {
           "diverging": [
            [
             0,
             "#8e0152"
            ],
            [
             0.1,
             "#c51b7d"
            ],
            [
             0.2,
             "#de77ae"
            ],
            [
             0.3,
             "#f1b6da"
            ],
            [
             0.4,
             "#fde0ef"
            ],
            [
             0.5,
             "#f7f7f7"
            ],
            [
             0.6,
             "#e6f5d0"
            ],
            [
             0.7,
             "#b8e186"
            ],
            [
             0.8,
             "#7fbc41"
            ],
            [
             0.9,
             "#4d9221"
            ],
            [
             1,
             "#276419"
            ]
           ],
           "sequential": [
            [
             0,
             "#0d0887"
            ],
            [
             0.1111111111111111,
             "#46039f"
            ],
            [
             0.2222222222222222,
             "#7201a8"
            ],
            [
             0.3333333333333333,
             "#9c179e"
            ],
            [
             0.4444444444444444,
             "#bd3786"
            ],
            [
             0.5555555555555556,
             "#d8576b"
            ],
            [
             0.6666666666666666,
             "#ed7953"
            ],
            [
             0.7777777777777778,
             "#fb9f3a"
            ],
            [
             0.8888888888888888,
             "#fdca26"
            ],
            [
             1,
             "#f0f921"
            ]
           ],
           "sequentialminus": [
            [
             0,
             "#0d0887"
            ],
            [
             0.1111111111111111,
             "#46039f"
            ],
            [
             0.2222222222222222,
             "#7201a8"
            ],
            [
             0.3333333333333333,
             "#9c179e"
            ],
            [
             0.4444444444444444,
             "#bd3786"
            ],
            [
             0.5555555555555556,
             "#d8576b"
            ],
            [
             0.6666666666666666,
             "#ed7953"
            ],
            [
             0.7777777777777778,
             "#fb9f3a"
            ],
            [
             0.8888888888888888,
             "#fdca26"
            ],
            [
             1,
             "#f0f921"
            ]
           ]
          },
          "colorway": [
           "#636efa",
           "#EF553B",
           "#00cc96",
           "#ab63fa",
           "#FFA15A",
           "#19d3f3",
           "#FF6692",
           "#B6E880",
           "#FF97FF",
           "#FECB52"
          ],
          "font": {
           "color": "#2a3f5f"
          },
          "geo": {
           "bgcolor": "white",
           "lakecolor": "white",
           "landcolor": "#E5ECF6",
           "showlakes": true,
           "showland": true,
           "subunitcolor": "white"
          },
          "hoverlabel": {
           "align": "left"
          },
          "hovermode": "closest",
          "mapbox": {
           "style": "light"
          },
          "paper_bgcolor": "white",
          "plot_bgcolor": "#E5ECF6",
          "polar": {
           "angularaxis": {
            "gridcolor": "white",
            "linecolor": "white",
            "ticks": ""
           },
           "bgcolor": "#E5ECF6",
           "radialaxis": {
            "gridcolor": "white",
            "linecolor": "white",
            "ticks": ""
           }
          },
          "scene": {
           "xaxis": {
            "backgroundcolor": "#E5ECF6",
            "gridcolor": "white",
            "gridwidth": 2,
            "linecolor": "white",
            "showbackground": true,
            "ticks": "",
            "zerolinecolor": "white"
           },
           "yaxis": {
            "backgroundcolor": "#E5ECF6",
            "gridcolor": "white",
            "gridwidth": 2,
            "linecolor": "white",
            "showbackground": true,
            "ticks": "",
            "zerolinecolor": "white"
           },
           "zaxis": {
            "backgroundcolor": "#E5ECF6",
            "gridcolor": "white",
            "gridwidth": 2,
            "linecolor": "white",
            "showbackground": true,
            "ticks": "",
            "zerolinecolor": "white"
           }
          },
          "shapedefaults": {
           "line": {
            "color": "#2a3f5f"
           }
          },
          "ternary": {
           "aaxis": {
            "gridcolor": "white",
            "linecolor": "white",
            "ticks": ""
           },
           "baxis": {
            "gridcolor": "white",
            "linecolor": "white",
            "ticks": ""
           },
           "bgcolor": "#E5ECF6",
           "caxis": {
            "gridcolor": "white",
            "linecolor": "white",
            "ticks": ""
           }
          },
          "title": {
           "x": 0.05
          },
          "xaxis": {
           "automargin": true,
           "gridcolor": "white",
           "linecolor": "white",
           "ticks": "",
           "title": {
            "standoff": 15
           },
           "zerolinecolor": "white",
           "zerolinewidth": 2
          },
          "yaxis": {
           "automargin": true,
           "gridcolor": "white",
           "linecolor": "white",
           "ticks": "",
           "title": {
            "standoff": 15
           },
           "zerolinecolor": "white",
           "zerolinewidth": 2
          }
         }
        },
        "title": {
         "text": "<b>Network graph of                       's import"
        },
        "updatemenus": [
         {
          "buttons": [
           {
            "args": [
             {
              "visible": [
               false,
               false,
               false,
               false
              ]
             }
            ],
            "label": "Select Country",
            "method": "update"
           },
           {
            "args": [
             {
              "visible": [
               true,
               true,
               false,
               false
              ]
             }
            ],
            "label": "Italy",
            "method": "update"
           },
           {
            "args": [
             {
              "visible": [
               false,
               false,
               true,
               true
              ]
             }
            ],
            "label": "China",
            "method": "update"
           }
          ],
          "x": 0.25,
          "xanchor": "left",
          "y": 1.1,
          "yanchor": "top"
         }
        ],
        "xaxis": {
         "showgrid": false,
         "showticklabels": false,
         "zeroline": false
        },
        "yaxis": {
         "showgrid": false,
         "showticklabels": false,
         "zeroline": false
        }
       }
      },
      "text/html": [
       "<div>\n",
       "        \n",
       "        \n",
       "            <div id=\"dfba03f1-645d-4741-9d9f-88ef317542ed\" class=\"plotly-graph-div\" style=\"height:525px; width:100%;\"></div>\n",
       "            <script type=\"text/javascript\">\n",
       "                require([\"plotly\"], function(Plotly) {\n",
       "                    window.PLOTLYENV=window.PLOTLYENV || {};\n",
       "                    \n",
       "                if (document.getElementById(\"dfba03f1-645d-4741-9d9f-88ef317542ed\")) {\n",
       "                    Plotly.newPlot(\n",
       "                        'dfba03f1-645d-4741-9d9f-88ef317542ed',\n",
       "                        [{\"hoverinfo\": \"none\", \"line\": {\"color\": \"#888\", \"width\": 0.5}, \"mode\": \"lines\", \"type\": \"scatter\", \"x\": [-0.18217610762302555, -0.45565700300703604, null, -0.18217610762302555, -0.9990769704815166, null, -0.18217610762302555, -0.4892574707634647, null, -0.18217610762302555, 0.552402290663426, null, -0.18217610762302555, -0.9853180479768505, null, -0.18217610762302555, 0.9105475365924682, null, -0.18217610762302555, 0.23923627716135643, null, -0.18217610762302555, -0.7004525621840266, null, -0.18217610762302555, -0.8268506198243329, null, -0.18217610762302555, 0.9783984957799731, null, -0.18217610762302555, -0.2939980065650719, null, -0.18217610762302555, 0.973023048053746, null, -0.18217610762302555, -0.8045649007993915, null, -0.18217610762302555, 0.8644055518764838, null, -0.18217610762302555, -0.8626387001590632, null, -0.18217610762302555, -0.9293923377674992, null, -0.18217610762302555, 0.6266579754559611, null, -0.18217610762302555, 0.768503761799603, null, -0.18217610762302555, 0.7923003516966104, null, -0.18217610762302555, 0.6261664178258475, null, -0.18217610762302555, 0.4318555079666051, null, -0.18217610762302555, -0.06931005975625712, null, -0.18217610762302555, -0.5448420200329865, null, -0.18217610762302555, 0.06618097404074355, null, -0.18217610762302555, -0.8383588113251671, null, -0.18217610762302555, -0.17795726168747683, null, -0.18217610762302555, 0.1567668075944342, null, -0.18217610762302555, 0.33937832774262944, null, -0.18217610762302555, 0.8340275557032784, null], \"y\": [-0.0025314346149582436, -0.9354574422598958, null, -0.0025314346149582436, 0.13558576341364514, null, -0.0025314346149582436, 0.8244657746860925, null, -0.0025314346149582436, 0.8579264913400552, null, -0.0025314346149582436, -0.24242674128970235, null, -0.0025314346149582436, -0.39637168457426564, null, -0.0025314346149582436, -0.9045276482867575, null, -0.0025314346149582436, 0.7672342456156599, null, -0.0025314346149582436, -0.675437280710522, null, -0.0025314346149582436, -0.09754695448873672, null, -0.0025314346149582436, 0.9475138022255767, null, -0.0025314346149582436, 0.142944542463332, null, -0.0025314346149582436, -0.07873637884285019, null, -0.0025314346149582436, 0.3302738188524885, null, -0.0025314346149582436, 0.3827356542291427, null, -0.0025314346149582436, 0.5507784139280524, null, -0.0025314346149582436, 0.6418414743126555, null, -0.0025314346149582436, -0.6043771038280387, null, -0.0025314346149582436, -0.2355136837715691, null, -0.0025314346149582436, -0.8029689942794094, null, -0.0025314346149582436, -0.8143849763398942, null, -0.0025314346149582436, 0.9749632870714311, null, -0.0025314346149582436, -0.7548298598179776, null, -0.0025314346149582436, -1.0, null, -0.0025314346149582436, -0.48370343789333814, null, -0.0025314346149582436, -0.9346035443275061, null, -0.0025314346149582436, 0.9819551803315297, null, -0.0025314346149582436, 0.8781793006278285, null, -0.0025314346149582436, 0.5470194162279333, null]}, {\"hoverinfo\": \"text\", \"hovertext\": [\"Perc. of Ecuador's production: 2.3469 %<br>Absolute value: 226 mln US$\", \"Perc. of Germany's production: 7.7536 %<br>Absolute value: 5839 mln US$\", \"Perc. of United States of America's production: 0.233 %<br>Absolute value: 765 mln US$\", \"Perc. of Turkey's production: 1.2148 %<br>Absolute value: 511 mln US$\", \"Perc. of Slovenia's production: 26.1486 %<br>Absolute value: 349 mln US$\", \"Perc. of Portugal's production: 2.9568 %<br>Absolute value: 222 mln US$\", \"Perc. of Austria's production: 14.1742 %<br>Absolute value: 1347 mln US$\", \"Perc. of Denmark's production: 5.375 %<br>Absolute value: 589 mln US$\", \"Italy's total production: 38520 mln US$\", \"Perc. of Indonesia's production: 0.9979 %<br>Absolute value: 539 mln US$\", \"Perc. of Poland's production: 2.2505 %<br>Absolute value: 827 mln US$\", \"Perc. of Canada's production: 0.8489 %<br>Absolute value: 338 mln US$\", \"Perc. of Czechia's production: 3.6182 %<br>Absolute value: 323 mln US$\", \"Perc. of Romania's production: 3.6937 %<br>Absolute value: 509 mln US$\", \"Perc. of United Kingdom's production: 1.0881 %<br>Absolute value: 684 mln US$\", \"Perc. of Switzerland's production: 1.7837 %<br>Absolute value: 348 mln US$\", \"Perc. of Netherlands's production: 14.7652 %<br>Absolute value: 3555 mln US$\", \"Perc. of Argentina's production: 1.6466 %<br>Absolute value: 818 mln US$\", \"Perc. of Belgium's production: 11.5097 %<br>Absolute value: 1220 mln US$\", \"Perc. of Greece's production: 5.7773 %<br>Absolute value: 618 mln US$\", \"Perc. of Ukraine's production: 1.3023 %<br>Absolute value: 343 mln US$\", \"Perc. of Australia's production: 0.9038 %<br>Absolute value: 334 mln US$\", \"Perc. of France's production: 6.6323 %<br>Absolute value: 5782 mln US$\", \"Perc. of China's production: 0.0615 %<br>Absolute value: 356 mln US$\", \"Perc. of Tunisia's production: 11.6114 %<br>Absolute value: 260 mln US$\", \"Perc. of Spain's production: 7.4579 %<br>Absolute value: 3127 mln US$\", \"Perc. of Brazil's production: 0.514 %<br>Absolute value: 1049 mln US$\", \"Perc. of Hungary's production: 6.2872 %<br>Absolute value: 598 mln US$\", \"Perc. of India's production: 0.0653 %<br>Absolute value: 260 mln US$\", \"Perc. of Ireland's production: 3.7396 %<br>Absolute value: 377 mln US$\"], \"marker\": {\"color\": [226371194.44444445, 5839181388.888889, 765436805.5555555, 511474138.8888889, 349215250.0, 222876111.11111113, 1347529027.7777777, 589160055.5555555, \"lightgray\", 539967083.3333334, 827884555.5555555, 338793722.22222227, 323827694.4444444, 509438027.77777773, 684018055.5555555, 348000277.77777773, 3555627805.5555553, 818939750.0, 1220297222.2222223, 618033861.1111112, 343901388.8888889, 334900305.5555556, 5782447138.888889, 356225555.5555556, 260657611.11111113, 3127651138.888889, 1049829111.111111, 598834555.5555555, 260901944.44444445, 377628666.6666667], \"colorbar\": {\"thickness\": 15, \"title\": {\"side\": \"right\", \"text\": \"Imports of Italy absolute values in US $\"}, \"xanchor\": \"left\"}, \"colorscale\": [[0.0, \"rgb(255,255,217)\"], [0.125, \"rgb(237,248,177)\"], [0.25, \"rgb(199,233,180)\"], [0.375, \"rgb(127,205,187)\"], [0.5, \"rgb(65,182,196)\"], [0.625, \"rgb(29,145,192)\"], [0.75, \"rgb(34,94,168)\"], [0.875, \"rgb(37,52,148)\"], [1.0, \"rgb(8,29,88)\"]], \"line\": {\"width\": 2}, \"reversescale\": true, \"showscale\": true, \"size\": [1.938381250454009, 50.00000000000001, 6.554316046869774, 4.3796733208369725, 2.990275748793364, 1.9084533966971113, 11.538681007083706, 5.044885715287431, 50, 4.6236539625298505, 7.08904639553499, 2.9010378309783054, 2.7728860680766085, 4.362238418789011, 5.85713998247376, 2.9798721310488108, 30.446286634641943, 7.012453419911933, 10.449214889472948, 5.292127611304724, 2.94477398444312, 2.867699110981738, 49.51419346119341, 3.050303902473392, 2.2319704916780334, 26.781589152551017, 8.989523027224182, 5.127726950690814, 2.2340626799237886, 3.233575406522214]}, \"mode\": \"markers+text\", \"text\": [\"Ecuador\", \"Germany\", \"United States of America\", \"Turkey\", \"Slovenia\", \"Portugal\", \"Austria\", \"Denmark\", \"<b>Italy</b>\", \"Indonesia\", \"Poland\", \"Canada\", \"Czechia\", \"Romania\", \"United Kingdom\", \"Switzerland\", \"Netherlands\", \"Argentina\", \"Belgium\", \"Greece\", \"Ukraine\", \"Australia\", \"France\", \"China\", \"Tunisia\", \"Spain\", \"Brazil\", \"Hungary\", \"India\", \"Ireland\"], \"textfont\": {\"color\": \"firebrick\", \"family\": \"Arial\", \"size\": 10}, \"type\": \"scatter\", \"x\": [0.33937832774262944, -0.45565700300703604, 0.9783984957799731, -0.9293923377674992, 0.6261664178258475, 0.8340275557032784, -0.9853180479768505, 0.8644055518764838, -0.18217610762302555, -0.8626387001590632, -0.7004525621840266, -0.5448420200329865, -0.8383588113251671, 0.6266579754559611, -0.2939980065650719, 0.4318555079666051, -0.4892574707634647, -0.8268506198243329, 0.9105475365924682, 0.973023048053746, -0.06931005975625712, 0.06618097404074355, -0.9990769704815166, 0.7923003516966104, 0.1567668075944342, 0.552402290663426, 0.23923627716135643, -0.8045649007993915, -0.17795726168747683, 0.768503761799603], \"y\": [0.8781793006278285, -0.9354574422598958, -0.09754695448873672, 0.5507784139280524, -0.8029689942794094, 0.5470194162279333, -0.24242674128970235, 0.3302738188524885, -0.0025314346149582436, 0.3827356542291427, 0.7672342456156599, -0.7548298598179776, -0.48370343789333814, 0.6418414743126555, 0.9475138022255767, -0.8143849763398942, 0.8244657746860925, -0.675437280710522, -0.39637168457426564, 0.142944542463332, 0.9749632870714311, -1.0, 0.13558576341364514, -0.2355136837715691, 0.9819551803315297, 0.8579264913400552, -0.9045276482867575, -0.07873637884285019, -0.9346035443275061, -0.6043771038280387]}, {\"hoverinfo\": \"none\", \"line\": {\"color\": \"#888\", \"width\": 0.5}, \"mode\": \"lines\", \"type\": \"scatter\", \"x\": [-0.08671044096406255, 0.5722127069422888, null, -0.08671044096406255, -0.8701779393161455, null, -0.08671044096406255, -0.8988706059637203, null, -0.08671044096406255, 0.05315352763077863, null, -0.08671044096406255, 0.25989212644309206, null, -0.08671044096406255, -0.8254120031161855, null, -0.08671044096406255, -0.8344743984398412, null, -0.08671044096406255, -0.5951014577299675, null, -0.08671044096406255, 0.9491212540016798, null, -0.08671044096406255, 0.6296861688394289, null, -0.08671044096406255, 0.5008325755338409, null, -0.08671044096406255, 0.05100291060066246, null, -0.08671044096406255, -0.39525060962670905, null, -0.08671044096406255, -0.458520611246617, null, -0.08671044096406255, 0.9293734433977863, null, -0.08671044096406255, -0.6812440785096996, null, -0.08671044096406255, -0.9580163658938875, null, -0.08671044096406255, -0.16295227949935281, null, -0.08671044096406255, 0.870590492715331, null, -0.08671044096406255, 0.8815047246234674, null, -0.08671044096406255, -0.16080543144043397, null, -0.08671044096406255, 0.2658039567882472, null, -0.08671044096406255, -0.8958031854194554, null, -0.08671044096406255, 0.47151626394787466, null, -0.08671044096406255, 0.6661813006042002, null, -0.08671044096406255, 0.9999999999999999, null, -0.08671044096406255, -0.37603278665306283, null, -0.08671044096406255, 0.7594777268058, null, -0.08671044096406255, -0.660976985055338, null], \"y\": [0.1199720795126928, 0.6597921036128428, null, 0.1199720795126928, 0.4948965750723976, null, 0.1199720795126928, 0.2566913715357939, null, 0.1199720795126928, -0.9463355853400738, null, 0.1199720795126928, -0.8547160390719513, null, 0.1199720795126928, 0.05341221153732497, null, 0.1199720795126928, -0.5332561338166729, null, 0.1199720795126928, 0.7986953110238495, null, 0.1199720795126928, 0.2016922047667827, null, 0.1199720795126928, -0.6875317991641698, null, 0.1199720795126928, 0.8592004189083882, null, 0.1199720795126928, 0.8926293738762554, null, 0.1199720795126928, -0.9193457244224339, null, 0.1199720795126928, -0.7232879248871311, null, 0.1199720795126928, 0.45042489645252204, null, 0.1199720795126928, 0.599778120741297, null, 0.1199720795126928, -0.07815217540088619, null, 0.1199720795126928, 0.9030751244208085, null, 0.1199720795126928, -0.10160837828893864, null, 0.1199720795126928, -0.4437765364131818, null, 0.1199720795126928, -0.9003758916622222, null, 0.1199720795126928, 0.8934362342646254, null, 0.1199720795126928, -0.3134524428810605, null, 0.1199720795126928, -0.8846882957207819, null, 0.1199720795126928, -0.4648267477139793, null, 0.1199720795126928, -0.1125227429136822, null, 0.1199720795126928, 0.856748704269941, null, 0.1199720795126928, 0.609798832980603, null, 0.1199720795126928, -0.68636714527896, null]}, {\"hoverinfo\": \"text\", \"hovertext\": [\"Perc. of South Korea's production: 0.7689 %<br>Absolute value: 391 mln US$\", \"Perc. of Japan's production: 0.3908 %<br>Absolute value: 186 mln US$\", \"Perc. of Germany's production: 0.6534 %<br>Absolute value: 587 mln US$\", \"Perc. of Philippines's production: 1.063 %<br>Absolute value: 265 mln US$\", \"Perc. of United States of America's production: 4.039 %<br>Absolute value: 13515 mln US$\", \"Perc. of Zimbabwe's production: 0.5681 %<br>Absolute value: 166 mln US$\", \"Perc. of Denmark's production: 2.5928 %<br>Absolute value: 336 mln US$\", \"Perc. of Italy's production: 0.3402 %<br>Absolute value: 218 mln US$\", \"Perc. of Chile's production: 3.8533 %<br>Absolute value: 520 mln US$\", \"Perc. of Indonesia's production: 5.3901 %<br>Absolute value: 2906 mln US$\", \"Perc. of South Africa's production: 0.8777 %<br>Absolute value: 196 mln US$\", \"Perc. of Pakistan's production: 0.2892 %<br>Absolute value: 174 mln US$\", \"Perc. of Malaysia's production: 33.4876 %<br>Absolute value: 2924 mln US$\", \"Perc. of Canada's production: 5.5713 %<br>Absolute value: 2385 mln US$\", \"Perc. of Uruguay's production: 11.2124 %<br>Absolute value: 584 mln US$\", \"Perc. of United Kingdom's production: 0.4336 %<br>Absolute value: 288 mln US$\", \"Perc. of Ethiopia's production: 0.8251 %<br>Absolute value: 147 mln US$\", \"Perc. of Netherlands's production: 2.5554 %<br>Absolute value: 727 mln US$\", \"Perc. of New Zealand's production: 15.0719 %<br>Absolute value: 2078 mln US$\", \"Perc. of Argentina's production: 6.677 %<br>Absolute value: 3454 mln US$\", \"Perc. of Belgium's production: 1.805 %<br>Absolute value: 202 mln US$\", \"Perc. of Ukraine's production: 0.8831 %<br>Absolute value: 292 mln US$\", \"Perc. of Australia's production: 10.2817 %<br>Absolute value: 4064 mln US$\", \"Perc. of Thailand's production: 5.6212 %<br>Absolute value: 4058 mln US$\", \"Perc. of France's production: 1.5194 %<br>Absolute value: 1452 mln US$\", \"China's total production: 38520 mln US$\", \"Perc. of Spain's production: 0.8153 %<br>Absolute value: 396 mln US$\", \"Perc. of Brazil's production: 4.1496 %<br>Absolute value: 9989 mln US$\", \"Perc. of India's production: 0.3326 %<br>Absolute value: 1322 mln US$\", \"Perc. of Ireland's production: 2.0304 %<br>Absolute value: 241 mln US$\"], \"marker\": {\"color\": [391873000.0, 186372805.55555555, 587911444.4444445, 265483722.22222224, 13515858611.111113, 166219000.0, 336288555.5555556, 218382166.66666666, 520430277.77777773, 2906216500.0, 196806416.66666666, 174461305.55555555, 2924952222.222222, 2385466555.5555553, 584614166.6666666, 288550361.1111111, 147774194.44444445, 727794777.7777778, 2078768444.4444444, 3454835972.222222, 202628750.0, 292887222.22222227, 4064777361.111111, 4058068222.222222, 1452547166.6666667, \"lightgray\", 396050444.4444444, 9989960916.666666, 1322161944.4444444, 241828444.44444445], \"colorbar\": {\"thickness\": 15, \"title\": {\"side\": \"right\", \"text\": \"Imports of China absolute values in US $\"}, \"xanchor\": \"left\"}, \"colorscale\": [[0.0, \"rgb(255,255,217)\"], [0.125, \"rgb(237,248,177)\"], [0.25, \"rgb(199,233,180)\"], [0.375, \"rgb(127,205,187)\"], [0.5, \"rgb(65,182,196)\"], [0.625, \"rgb(29,145,192)\"], [0.75, \"rgb(34,94,168)\"], [0.875, \"rgb(37,52,148)\"], [1.0, \"rgb(8,29,88)\"]], \"line\": {\"width\": 2}, \"reversescale\": true, \"showscale\": true, \"size\": [1.4496785268153412, 0.6894597336285475, 2.1748949192215377, 0.9821193379604218, 50.0, 0.6149035913388246, 1.2440517662677368, 0.807873820487953, 1.9252579238656087, 10.75113532783947, 0.7280573966084407, 0.6453948305294289, 10.820445472171773, 8.824694842525624, 2.162697108217998, 1.0674510936134673, 0.5466696519115785, 2.6923734507679464, 7.690108724337835, 12.78067517435434, 0.7495962921416736, 1.0834946955624618, 15.037066745317757, 15.012247238537132, 5.373492015788614, 50, 1.465132389439393, 36.956442073366034, 4.89115039779094, 0.8946099963107124]}, \"mode\": \"markers+text\", \"text\": [\"South Korea\", \"Japan\", \"Germany\", \"Philippines\", \"United States of America\", \"Zimbabwe\", \"Denmark\", \"Italy\", \"Chile\", \"Indonesia\", \"South Africa\", \"Pakistan\", \"Malaysia\", \"Canada\", \"Uruguay\", \"United Kingdom\", \"Ethiopia\", \"Netherlands\", \"New Zealand\", \"Argentina\", \"Belgium\", \"Ukraine\", \"Australia\", \"Thailand\", \"France\", \"<b>China</b>\", \"Spain\", \"Brazil\", \"India\", \"Ireland\"], \"textfont\": {\"color\": \"firebrick\", \"family\": \"Arial\", \"size\": 10}, \"type\": \"scatter\", \"x\": [-0.9580163658938875, 0.9999999999999999, -0.39525060962670905, -0.16080543144043397, 0.5722127069422888, 0.7594777268058, -0.16295227949935281, -0.8958031854194554, 0.9293734433977863, -0.8344743984398412, 0.6661813006042002, -0.37603278665306283, -0.8254120031161855, -0.5951014577299675, -0.458520611246617, 0.8815047246234674, -0.660976985055338, 0.05100291060066246, 0.9491212540016798, 0.25989212644309206, 0.47151626394787466, 0.870590492715331, -0.8988706059637203, 0.05315352763077863, 0.6296861688394289, -0.08671044096406255, -0.6812440785096996, -0.8701779393161455, 0.5008325755338409, 0.2658039567882472], \"y\": [-0.07815217540088619, -0.1125227429136822, -0.9193457244224339, -0.9003758916622222, 0.6597921036128428, 0.609798832980603, 0.9030751244208085, -0.3134524428810605, 0.45042489645252204, -0.5332561338166729, -0.4648267477139793, 0.856748704269941, 0.05341221153732497, 0.7986953110238495, -0.7232879248871311, -0.4437765364131818, -0.68636714527896, 0.8926293738762554, 0.2016922047667827, -0.8547160390719513, -0.8846882957207819, -0.10160837828893864, 0.2566913715357939, -0.9463355853400738, -0.6875317991641698, 0.1199720795126928, 0.599778120741297, 0.4948965750723976, 0.8592004189083882, 0.8934362342646254]}],\n",
       "                        {\"hovermode\": \"closest\", \"margin\": {\"b\": 20, \"l\": 5, \"r\": 5, \"t\": 40}, \"plot_bgcolor\": \"white\", \"showlegend\": false, \"template\": {\"data\": {\"bar\": [{\"error_x\": {\"color\": \"#2a3f5f\"}, \"error_y\": {\"color\": \"#2a3f5f\"}, \"marker\": {\"line\": {\"color\": \"#E5ECF6\", \"width\": 0.5}}, \"type\": \"bar\"}], \"barpolar\": [{\"marker\": {\"line\": {\"color\": \"#E5ECF6\", \"width\": 0.5}}, \"type\": \"barpolar\"}], \"carpet\": [{\"aaxis\": {\"endlinecolor\": \"#2a3f5f\", \"gridcolor\": \"white\", \"linecolor\": \"white\", \"minorgridcolor\": \"white\", \"startlinecolor\": \"#2a3f5f\"}, \"baxis\": {\"endlinecolor\": \"#2a3f5f\", \"gridcolor\": \"white\", \"linecolor\": \"white\", \"minorgridcolor\": \"white\", \"startlinecolor\": \"#2a3f5f\"}, \"type\": \"carpet\"}], \"choropleth\": [{\"colorbar\": {\"outlinewidth\": 0, \"ticks\": \"\"}, \"type\": \"choropleth\"}], \"contour\": [{\"colorbar\": {\"outlinewidth\": 0, \"ticks\": \"\"}, \"colorscale\": [[0.0, \"#0d0887\"], [0.1111111111111111, \"#46039f\"], [0.2222222222222222, \"#7201a8\"], [0.3333333333333333, \"#9c179e\"], [0.4444444444444444, \"#bd3786\"], [0.5555555555555556, \"#d8576b\"], [0.6666666666666666, \"#ed7953\"], [0.7777777777777778, \"#fb9f3a\"], [0.8888888888888888, \"#fdca26\"], [1.0, \"#f0f921\"]], \"type\": \"contour\"}], \"contourcarpet\": [{\"colorbar\": {\"outlinewidth\": 0, \"ticks\": \"\"}, \"type\": \"contourcarpet\"}], \"heatmap\": [{\"colorbar\": {\"outlinewidth\": 0, \"ticks\": \"\"}, \"colorscale\": [[0.0, \"#0d0887\"], [0.1111111111111111, \"#46039f\"], [0.2222222222222222, \"#7201a8\"], [0.3333333333333333, \"#9c179e\"], [0.4444444444444444, \"#bd3786\"], [0.5555555555555556, \"#d8576b\"], [0.6666666666666666, \"#ed7953\"], [0.7777777777777778, \"#fb9f3a\"], [0.8888888888888888, \"#fdca26\"], [1.0, \"#f0f921\"]], \"type\": \"heatmap\"}], \"heatmapgl\": [{\"colorbar\": {\"outlinewidth\": 0, \"ticks\": \"\"}, \"colorscale\": [[0.0, \"#0d0887\"], [0.1111111111111111, \"#46039f\"], [0.2222222222222222, \"#7201a8\"], [0.3333333333333333, \"#9c179e\"], [0.4444444444444444, \"#bd3786\"], [0.5555555555555556, \"#d8576b\"], [0.6666666666666666, \"#ed7953\"], [0.7777777777777778, \"#fb9f3a\"], [0.8888888888888888, \"#fdca26\"], [1.0, \"#f0f921\"]], \"type\": \"heatmapgl\"}], \"histogram\": [{\"marker\": {\"colorbar\": {\"outlinewidth\": 0, \"ticks\": \"\"}}, \"type\": \"histogram\"}], \"histogram2d\": [{\"colorbar\": {\"outlinewidth\": 0, \"ticks\": \"\"}, \"colorscale\": [[0.0, \"#0d0887\"], [0.1111111111111111, \"#46039f\"], [0.2222222222222222, \"#7201a8\"], [0.3333333333333333, \"#9c179e\"], [0.4444444444444444, \"#bd3786\"], [0.5555555555555556, \"#d8576b\"], [0.6666666666666666, \"#ed7953\"], [0.7777777777777778, \"#fb9f3a\"], [0.8888888888888888, \"#fdca26\"], [1.0, \"#f0f921\"]], \"type\": \"histogram2d\"}], \"histogram2dcontour\": [{\"colorbar\": {\"outlinewidth\": 0, \"ticks\": \"\"}, \"colorscale\": [[0.0, \"#0d0887\"], [0.1111111111111111, \"#46039f\"], [0.2222222222222222, \"#7201a8\"], [0.3333333333333333, \"#9c179e\"], [0.4444444444444444, \"#bd3786\"], [0.5555555555555556, \"#d8576b\"], [0.6666666666666666, \"#ed7953\"], [0.7777777777777778, \"#fb9f3a\"], [0.8888888888888888, \"#fdca26\"], [1.0, \"#f0f921\"]], \"type\": \"histogram2dcontour\"}], \"mesh3d\": [{\"colorbar\": {\"outlinewidth\": 0, \"ticks\": \"\"}, \"type\": \"mesh3d\"}], \"parcoords\": [{\"line\": {\"colorbar\": {\"outlinewidth\": 0, \"ticks\": \"\"}}, \"type\": \"parcoords\"}], \"pie\": [{\"automargin\": true, \"type\": \"pie\"}], \"scatter\": [{\"marker\": {\"colorbar\": {\"outlinewidth\": 0, \"ticks\": \"\"}}, \"type\": \"scatter\"}], \"scatter3d\": [{\"line\": {\"colorbar\": {\"outlinewidth\": 0, \"ticks\": \"\"}}, \"marker\": {\"colorbar\": {\"outlinewidth\": 0, \"ticks\": \"\"}}, \"type\": \"scatter3d\"}], \"scattercarpet\": [{\"marker\": {\"colorbar\": {\"outlinewidth\": 0, \"ticks\": \"\"}}, \"type\": \"scattercarpet\"}], \"scattergeo\": [{\"marker\": {\"colorbar\": {\"outlinewidth\": 0, \"ticks\": \"\"}}, \"type\": \"scattergeo\"}], \"scattergl\": [{\"marker\": {\"colorbar\": {\"outlinewidth\": 0, \"ticks\": \"\"}}, \"type\": \"scattergl\"}], \"scattermapbox\": [{\"marker\": {\"colorbar\": {\"outlinewidth\": 0, \"ticks\": \"\"}}, \"type\": \"scattermapbox\"}], \"scatterpolar\": [{\"marker\": {\"colorbar\": {\"outlinewidth\": 0, \"ticks\": \"\"}}, \"type\": \"scatterpolar\"}], \"scatterpolargl\": [{\"marker\": {\"colorbar\": {\"outlinewidth\": 0, \"ticks\": \"\"}}, \"type\": \"scatterpolargl\"}], \"scatterternary\": [{\"marker\": {\"colorbar\": {\"outlinewidth\": 0, \"ticks\": \"\"}}, \"type\": \"scatterternary\"}], \"surface\": [{\"colorbar\": {\"outlinewidth\": 0, \"ticks\": \"\"}, \"colorscale\": [[0.0, \"#0d0887\"], [0.1111111111111111, \"#46039f\"], [0.2222222222222222, \"#7201a8\"], [0.3333333333333333, \"#9c179e\"], [0.4444444444444444, \"#bd3786\"], [0.5555555555555556, \"#d8576b\"], [0.6666666666666666, \"#ed7953\"], [0.7777777777777778, \"#fb9f3a\"], [0.8888888888888888, \"#fdca26\"], [1.0, \"#f0f921\"]], \"type\": \"surface\"}], \"table\": [{\"cells\": {\"fill\": {\"color\": \"#EBF0F8\"}, \"line\": {\"color\": \"white\"}}, \"header\": {\"fill\": {\"color\": \"#C8D4E3\"}, \"line\": {\"color\": \"white\"}}, \"type\": \"table\"}]}, \"layout\": {\"annotationdefaults\": {\"arrowcolor\": \"#2a3f5f\", \"arrowhead\": 0, \"arrowwidth\": 1}, \"coloraxis\": {\"colorbar\": {\"outlinewidth\": 0, \"ticks\": \"\"}}, \"colorscale\": {\"diverging\": [[0, \"#8e0152\"], [0.1, \"#c51b7d\"], [0.2, \"#de77ae\"], [0.3, \"#f1b6da\"], [0.4, \"#fde0ef\"], [0.5, \"#f7f7f7\"], [0.6, \"#e6f5d0\"], [0.7, \"#b8e186\"], [0.8, \"#7fbc41\"], [0.9, \"#4d9221\"], [1, \"#276419\"]], \"sequential\": [[0.0, \"#0d0887\"], [0.1111111111111111, \"#46039f\"], [0.2222222222222222, \"#7201a8\"], [0.3333333333333333, \"#9c179e\"], [0.4444444444444444, \"#bd3786\"], [0.5555555555555556, \"#d8576b\"], [0.6666666666666666, \"#ed7953\"], [0.7777777777777778, \"#fb9f3a\"], [0.8888888888888888, \"#fdca26\"], [1.0, \"#f0f921\"]], \"sequentialminus\": [[0.0, \"#0d0887\"], [0.1111111111111111, \"#46039f\"], [0.2222222222222222, \"#7201a8\"], [0.3333333333333333, \"#9c179e\"], [0.4444444444444444, \"#bd3786\"], [0.5555555555555556, \"#d8576b\"], [0.6666666666666666, \"#ed7953\"], [0.7777777777777778, \"#fb9f3a\"], [0.8888888888888888, \"#fdca26\"], [1.0, \"#f0f921\"]]}, \"colorway\": [\"#636efa\", \"#EF553B\", \"#00cc96\", \"#ab63fa\", \"#FFA15A\", \"#19d3f3\", \"#FF6692\", \"#B6E880\", \"#FF97FF\", \"#FECB52\"], \"font\": {\"color\": \"#2a3f5f\"}, \"geo\": {\"bgcolor\": \"white\", \"lakecolor\": \"white\", \"landcolor\": \"#E5ECF6\", \"showlakes\": true, \"showland\": true, \"subunitcolor\": \"white\"}, \"hoverlabel\": {\"align\": \"left\"}, \"hovermode\": \"closest\", \"mapbox\": {\"style\": \"light\"}, \"paper_bgcolor\": \"white\", \"plot_bgcolor\": \"#E5ECF6\", \"polar\": {\"angularaxis\": {\"gridcolor\": \"white\", \"linecolor\": \"white\", \"ticks\": \"\"}, \"bgcolor\": \"#E5ECF6\", \"radialaxis\": {\"gridcolor\": \"white\", \"linecolor\": \"white\", \"ticks\": \"\"}}, \"scene\": {\"xaxis\": {\"backgroundcolor\": \"#E5ECF6\", \"gridcolor\": \"white\", \"gridwidth\": 2, \"linecolor\": \"white\", \"showbackground\": true, \"ticks\": \"\", \"zerolinecolor\": \"white\"}, \"yaxis\": {\"backgroundcolor\": \"#E5ECF6\", \"gridcolor\": \"white\", \"gridwidth\": 2, \"linecolor\": \"white\", \"showbackground\": true, \"ticks\": \"\", \"zerolinecolor\": \"white\"}, \"zaxis\": {\"backgroundcolor\": \"#E5ECF6\", \"gridcolor\": \"white\", \"gridwidth\": 2, \"linecolor\": \"white\", \"showbackground\": true, \"ticks\": \"\", \"zerolinecolor\": \"white\"}}, \"shapedefaults\": {\"line\": {\"color\": \"#2a3f5f\"}}, \"ternary\": {\"aaxis\": {\"gridcolor\": \"white\", \"linecolor\": \"white\", \"ticks\": \"\"}, \"baxis\": {\"gridcolor\": \"white\", \"linecolor\": \"white\", \"ticks\": \"\"}, \"bgcolor\": \"#E5ECF6\", \"caxis\": {\"gridcolor\": \"white\", \"linecolor\": \"white\", \"ticks\": \"\"}}, \"title\": {\"x\": 0.05}, \"xaxis\": {\"automargin\": true, \"gridcolor\": \"white\", \"linecolor\": \"white\", \"ticks\": \"\", \"title\": {\"standoff\": 15}, \"zerolinecolor\": \"white\", \"zerolinewidth\": 2}, \"yaxis\": {\"automargin\": true, \"gridcolor\": \"white\", \"linecolor\": \"white\", \"ticks\": \"\", \"title\": {\"standoff\": 15}, \"zerolinecolor\": \"white\", \"zerolinewidth\": 2}}}, \"title\": {\"text\": \"<b>Network graph of                       's import\"}, \"updatemenus\": [{\"buttons\": [{\"args\": [{\"visible\": [false, false, false, false]}], \"label\": \"Select Country\", \"method\": \"update\"}, {\"args\": [{\"visible\": [true, true, false, false]}], \"label\": \"Italy\", \"method\": \"update\"}, {\"args\": [{\"visible\": [false, false, true, true]}], \"label\": \"China\", \"method\": \"update\"}], \"x\": 0.25, \"xanchor\": \"left\", \"y\": 1.1, \"yanchor\": \"top\"}], \"xaxis\": {\"showgrid\": false, \"showticklabels\": false, \"zeroline\": false}, \"yaxis\": {\"showgrid\": false, \"showticklabels\": false, \"zeroline\": false}},\n",
       "                        {\"responsive\": true}\n",
       "                    ).then(function(){\n",
       "                            \n",
       "var gd = document.getElementById('dfba03f1-645d-4741-9d9f-88ef317542ed');\n",
       "var x = new MutationObserver(function (mutations, observer) {{\n",
       "        var display = window.getComputedStyle(gd).display;\n",
       "        if (!display || display === 'none') {{\n",
       "            console.log([gd, 'removed!']);\n",
       "            Plotly.purge(gd);\n",
       "            observer.disconnect();\n",
       "        }}\n",
       "}});\n",
       "\n",
       "// Listen for the removal of the full notebook cells\n",
       "var notebookContainer = gd.closest('#notebook-container');\n",
       "if (notebookContainer) {{\n",
       "    x.observe(notebookContainer, {childList: true});\n",
       "}}\n",
       "\n",
       "// Listen for the clearing of the current output cell\n",
       "var outputEl = gd.closest('.output');\n",
       "if (outputEl) {{\n",
       "    x.observe(outputEl, {childList: true});\n",
       "}}\n",
       "\n",
       "                        })\n",
       "                };\n",
       "                });\n",
       "            </script>\n",
       "        </div>"
      ]
     },
     "metadata": {},
     "output_type": "display_data"
    }
   ],
   "source": [
    "fig.update_layout(updatemenus = menus) "
   ]
  },
  {
   "cell_type": "code",
   "execution_count": null,
   "metadata": {},
   "outputs": [],
   "source": []
  },
  {
   "cell_type": "code",
   "execution_count": null,
   "metadata": {},
   "outputs": [],
   "source": []
  }
 ],
 "metadata": {
  "kernelspec": {
   "display_name": "Python 3",
   "language": "python",
   "name": "python3"
  },
  "language_info": {
   "codemirror_mode": {
    "name": "ipython",
    "version": 3
   },
   "file_extension": ".py",
   "mimetype": "text/x-python",
   "name": "python",
   "nbconvert_exporter": "python",
   "pygments_lexer": "ipython3",
   "version": "3.7.3"
  }
 },
 "nbformat": 4,
 "nbformat_minor": 2
}
