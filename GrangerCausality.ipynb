{
 "cells": [
  {
   "cell_type": "code",
   "execution_count": 2,
   "metadata": {},
   "outputs": [],
   "source": [
    "%matplotlib inline\n",
    "import pandas as pd\n",
    "import numpy as np\n",
    "import matplotlib.pyplot as plt\n",
    "import matplotlib.colors as colors\n",
    "from statsmodels.tsa.stattools import grangercausalitytests"
   ]
  },
  {
   "cell_type": "markdown",
   "metadata": {},
   "source": [
    "## How are CO2 emissions related to climate change?"
   ]
  },
  {
   "cell_type": "markdown",
   "metadata": {},
   "source": [
    "Everyday, we hear people talking about **Climate Change** and **CO2 emissions**: frequently politicians avoid the topic in order not to loose vote, while citizens strike for that.\n",
    "\n",
    "We are Data Scientist, and we don't trust both: therefore, we would like to check the causality (or better correlation) between this two phenomena with our hands (and our computers, of course).\n",
    "\n",
    "From the FAO dataset we took all necessary data about Climate Change. However, there were no data about total CO2 emissions: it only contains data related to crops and live stocks production activities. Since these partial data are clearly not sufficient to determine the relation we would like to inspect (also because those are only a small part of total global emissions), we retrieve additional data from *The World Bank* website ([here](https://data.worldbank.org/indicator/EN.ATM.CO2E.PC))"
   ]
  },
  {
   "cell_type": "markdown",
   "metadata": {},
   "source": [
    "This dataset contains information about the total amount of CO2 emissions per capita in different years."
   ]
  },
  {
   "cell_type": "code",
   "execution_count": 46,
   "metadata": {},
   "outputs": [],
   "source": [
    "# Load dataset\n",
    "emissions_per_capita = pd.read_excel('datasets/Emissions_Per_Capita.xls')"
   ]
  },
  {
   "cell_type": "code",
   "execution_count": 47,
   "metadata": {},
   "outputs": [],
   "source": [
    "# Clean data\n",
    "emissions_per_capita = emissions_per_capita.drop(['Country Code','Indicator Name','Indicator Code'], axis=1)\n",
    "emissions_per_capita = emissions_per_capita.rename(columns={'Country Name':'Area'})\n",
    "emissions_per_capita = emissions_per_capita.set_index('Area')"
   ]
  },
  {
   "cell_type": "code",
   "execution_count": 48,
   "metadata": {},
   "outputs": [],
   "source": [
    "# Clean dataset\n",
    "emissions_per_capita = pd.DataFrame(emissions_per_capita.stack()).reset_index()\n",
    "emissions_per_capita = emissions_per_capita.rename(columns={'level_1': 'Year', 0: 'CO2 Emissions'})\n",
    "emissions_per_capita.Year = emissions_per_capita.Year.astype('int')\n",
    "emissions_per_capita = emissions_per_capita.set_index('Year')\n",
    "emissions_per_capita = emissions_per_capita[emissions_per_capita.Area=='World']\n",
    "emissions_per_capita = emissions_per_capita.drop('Area',axis=1).loc[1961:2014]"
   ]
  },
  {
   "cell_type": "code",
   "execution_count": 49,
   "metadata": {},
   "outputs": [
    {
     "data": {
      "text/html": [
       "<div>\n",
       "<style scoped>\n",
       "    .dataframe tbody tr th:only-of-type {\n",
       "        vertical-align: middle;\n",
       "    }\n",
       "\n",
       "    .dataframe tbody tr th {\n",
       "        vertical-align: top;\n",
       "    }\n",
       "\n",
       "    .dataframe thead th {\n",
       "        text-align: right;\n",
       "    }\n",
       "</style>\n",
       "<table border=\"1\" class=\"dataframe\">\n",
       "  <thead>\n",
       "    <tr style=\"text-align: right;\">\n",
       "      <th></th>\n",
       "      <th>CO2 Emissions</th>\n",
       "    </tr>\n",
       "    <tr>\n",
       "      <th>Year</th>\n",
       "      <th></th>\n",
       "    </tr>\n",
       "  </thead>\n",
       "  <tbody>\n",
       "    <tr>\n",
       "      <td>1961</td>\n",
       "      <td>3.070018</td>\n",
       "    </tr>\n",
       "    <tr>\n",
       "      <td>1962</td>\n",
       "      <td>3.140957</td>\n",
       "    </tr>\n",
       "    <tr>\n",
       "      <td>1963</td>\n",
       "      <td>3.245109</td>\n",
       "    </tr>\n",
       "    <tr>\n",
       "      <td>1964</td>\n",
       "      <td>3.361380</td>\n",
       "    </tr>\n",
       "    <tr>\n",
       "      <td>1965</td>\n",
       "      <td>3.440053</td>\n",
       "    </tr>\n",
       "  </tbody>\n",
       "</table>\n",
       "</div>"
      ],
      "text/plain": [
       "      CO2 Emissions\n",
       "Year               \n",
       "1961       3.070018\n",
       "1962       3.140957\n",
       "1963       3.245109\n",
       "1964       3.361380\n",
       "1965       3.440053"
      ]
     },
     "execution_count": 49,
     "metadata": {},
     "output_type": "execute_result"
    }
   ],
   "source": [
    "emissions_per_capita.head()"
   ]
  },
  {
   "cell_type": "markdown",
   "metadata": {},
   "source": [
    "As mentioned before, from FAO dataset we managed to get all the data related to Climate Change. As this phenomenon is not strictly related to specific countrires, but influences the entire planet, we decided to use data related to the whole world."
   ]
  },
  {
   "cell_type": "code",
   "execution_count": 50,
   "metadata": {},
   "outputs": [],
   "source": [
    "# Load dataset\n",
    "world = pd.read_csv('datasets/Climate_Change_World.csv')"
   ]
  },
  {
   "cell_type": "code",
   "execution_count": 51,
   "metadata": {},
   "outputs": [],
   "source": [
    "# Clean dataset\n",
    "world = world[['Year Code','Value']]\n",
    "world = world.rename(columns={'Year Code':'Year'})\n",
    "world = world.set_index('Year')\n",
    "world.columns = ['Temperature Change']\n",
    "world = world.loc[1961:2014]"
   ]
  },
  {
   "cell_type": "code",
   "execution_count": 52,
   "metadata": {},
   "outputs": [
    {
     "data": {
      "text/html": [
       "<div>\n",
       "<style scoped>\n",
       "    .dataframe tbody tr th:only-of-type {\n",
       "        vertical-align: middle;\n",
       "    }\n",
       "\n",
       "    .dataframe tbody tr th {\n",
       "        vertical-align: top;\n",
       "    }\n",
       "\n",
       "    .dataframe thead th {\n",
       "        text-align: right;\n",
       "    }\n",
       "</style>\n",
       "<table border=\"1\" class=\"dataframe\">\n",
       "  <thead>\n",
       "    <tr style=\"text-align: right;\">\n",
       "      <th></th>\n",
       "      <th>Temperature Change</th>\n",
       "    </tr>\n",
       "    <tr>\n",
       "      <th>Year</th>\n",
       "      <th></th>\n",
       "    </tr>\n",
       "  </thead>\n",
       "  <tbody>\n",
       "    <tr>\n",
       "      <td>1961</td>\n",
       "      <td>0.230</td>\n",
       "    </tr>\n",
       "    <tr>\n",
       "      <td>1962</td>\n",
       "      <td>0.055</td>\n",
       "    </tr>\n",
       "    <tr>\n",
       "      <td>1963</td>\n",
       "      <td>0.165</td>\n",
       "    </tr>\n",
       "    <tr>\n",
       "      <td>1964</td>\n",
       "      <td>-0.252</td>\n",
       "    </tr>\n",
       "    <tr>\n",
       "      <td>1965</td>\n",
       "      <td>-0.215</td>\n",
       "    </tr>\n",
       "  </tbody>\n",
       "</table>\n",
       "</div>"
      ],
      "text/plain": [
       "      Temperature Change\n",
       "Year                    \n",
       "1961               0.230\n",
       "1962               0.055\n",
       "1963               0.165\n",
       "1964              -0.252\n",
       "1965              -0.215"
      ]
     },
     "execution_count": 52,
     "metadata": {},
     "output_type": "execute_result"
    }
   ],
   "source": [
    "world.head()"
   ]
  },
  {
   "cell_type": "markdown",
   "metadata": {},
   "source": [
    "We now build a unique dataframe to collect both time series."
   ]
  },
  {
   "cell_type": "code",
   "execution_count": 55,
   "metadata": {},
   "outputs": [],
   "source": [
    "# Create dataframe\n",
    "df = pd.DataFrame(world['Temperature Change'])\n",
    "df['CO2 Emissions'] = emissions_per_capita['CO2 Emissions']"
   ]
  },
  {
   "cell_type": "markdown",
   "metadata": {},
   "source": [
    "From the plot below, we can easily notice how both lines slightly grew in the last 50 years: however this is just an intuition, and is clearly not enough to prove that emissions cause or are even related to climate change."
   ]
  },
  {
   "cell_type": "code",
   "execution_count": 56,
   "metadata": {},
   "outputs": [
    {
     "data": {
      "text/plain": [
       "Text(0, 0.5, '°C above baseline / CO2 tonnes per capita')"
      ]
     },
     "execution_count": 56,
     "metadata": {},
     "output_type": "execute_result"
    },
    {
     "data": {
      "image/png": "[encoded data removed]",
      "text/plain": [
       "<Figure size 864x576 with 1 Axes>"
      ]
     },
     "metadata": {
      "needs_background": "light"
     },
     "output_type": "display_data"
    }
   ],
   "source": [
    "# Plot\n",
    "fig, ax = plt.subplots(figsize=(12,8))\n",
    "df.plot(ax=ax)\n",
    "ax.set_ylabel('°C above baseline / CO2 tonnes per capita')"
   ]
  },
  {
   "cell_type": "markdown",
   "metadata": {},
   "source": [
    "In order to analyze a possible **Causuality**, we are going to use [**Granger Casuality test**](http://www.scholarpedia.org/article/Granger_causality)\n",
    "\n",
    "Granger causality is a way to investigate causality between two time series. It is an hypotesis test in which the\n",
    "null hypothesis is that $TimeSeries_{1}$ do not explain the variation in $TimeSeries_{2}$.\n",
    "\n",
    "In our cause $TimeSeries_{1}$ is the times serie about *CO2 Emissions* and  $TimeSeries_{2}$ is the one about *Temperature Change*.\n",
    "\n",
    "We use the library `statsmodels` to perform the test: outputs are the p-values of four different tests. The functions also repeats the test for several lags, so we are able to know if there is casuality or not among time series in different time ranges.\n",
    "For example Climate Change related to this year could be connected to the emission of the last year but not to emissions of three years ago.\n",
    "\n",
    "In this test, we deciced to reject the null hypotesis if all the p-values from the different tests are less or equal than $\\alpha$, with $\\alpha$ = 0.05."
   ]
  },
  {
   "cell_type": "code",
   "execution_count": 57,
   "metadata": {},
   "outputs": [
    {
     "name": "stdout",
     "output_type": "stream",
     "text": [
      "\n",
      "Granger Causality\n",
      "number of lags (no zero) 1\n",
      "ssr based F test:         F=4.7996  , p=0.0332  , df_denom=50, df_num=1\n",
      "ssr based chi2 test:   chi2=5.0876  , p=0.0241  , df=1\n",
      "likelihood ratio test: chi2=4.8580  , p=0.0275  , df=1\n",
      "parameter F test:         F=4.7996  , p=0.0332  , df_denom=50, df_num=1\n",
      "\n",
      "Granger Causality\n",
      "number of lags (no zero) 2\n",
      "ssr based F test:         F=1.1294  , p=0.3318  , df_denom=47, df_num=2\n",
      "ssr based chi2 test:   chi2=2.4992  , p=0.2866  , df=2\n",
      "likelihood ratio test: chi2=2.4410  , p=0.2951  , df=2\n",
      "parameter F test:         F=1.1294  , p=0.3318  , df_denom=47, df_num=2\n",
      "\n",
      "Granger Causality\n",
      "number of lags (no zero) 3\n",
      "ssr based F test:         F=0.7650  , p=0.5198  , df_denom=44, df_num=3\n",
      "ssr based chi2 test:   chi2=2.6602  , p=0.4470  , df=3\n",
      "likelihood ratio test: chi2=2.5932  , p=0.4587  , df=3\n",
      "parameter F test:         F=0.7650  , p=0.5198  , df_denom=44, df_num=3\n",
      "\n",
      "Granger Causality\n",
      "number of lags (no zero) 4\n",
      "ssr based F test:         F=0.4390  , p=0.7797  , df_denom=41, df_num=4\n",
      "ssr based chi2 test:   chi2=2.1415  , p=0.7098  , df=4\n",
      "likelihood ratio test: chi2=2.0969  , p=0.7179  , df=4\n",
      "parameter F test:         F=0.4390  , p=0.7797  , df_denom=41, df_num=4\n",
      "\n",
      "Granger Causality\n",
      "number of lags (no zero) 5\n",
      "ssr based F test:         F=0.5366  , p=0.7473  , df_denom=38, df_num=5\n",
      "ssr based chi2 test:   chi2=3.4594  , p=0.6295  , df=5\n",
      "likelihood ratio test: chi2=3.3428  , p=0.6473  , df=5\n",
      "parameter F test:         F=0.5366  , p=0.7473  , df_denom=38, df_num=5\n",
      "\n",
      "Granger Causality\n",
      "number of lags (no zero) 6\n",
      "ssr based F test:         F=1.7770  , p=0.1325  , df_denom=35, df_num=6\n",
      "ssr based chi2 test:   chi2=14.6222 , p=0.0234  , df=6\n",
      "likelihood ratio test: chi2=12.7641 , p=0.0469  , df=6\n",
      "parameter F test:         F=1.7770  , p=0.1325  , df_denom=35, df_num=6\n",
      "\n",
      "Granger Causality\n",
      "number of lags (no zero) 7\n",
      "ssr based F test:         F=2.5268  , p=0.0345  , df_denom=32, df_num=7\n",
      "ssr based chi2 test:   chi2=25.9783 , p=0.0005  , df=7\n",
      "likelihood ratio test: chi2=20.6807 , p=0.0043  , df=7\n",
      "parameter F test:         F=2.5268  , p=0.0345  , df_denom=32, df_num=7\n",
      "\n",
      "Granger Causality\n",
      "number of lags (no zero) 8\n",
      "ssr based F test:         F=2.9932  , p=0.0142  , df_denom=29, df_num=8\n",
      "ssr based chi2 test:   chi2=37.9826 , p=0.0000  , df=8\n",
      "likelihood ratio test: chi2=27.6905 , p=0.0005  , df=8\n",
      "parameter F test:         F=2.9932  , p=0.0142  , df_denom=29, df_num=8\n"
     ]
    },
    {
     "data": {
      "text/plain": [
       "<function dict.keys>"
      ]
     },
     "execution_count": 57,
     "metadata": {},
     "output_type": "execute_result"
    }
   ],
   "source": [
    "grangercausalitytests(df.values,maxlag=8).keys"
   ]
  },
  {
   "cell_type": "markdown",
   "metadata": {},
   "source": [
    "From the test results displayed above, we can see how CO2 emissions have a relation of causuality with **Climate Change**, but only after some years, so that the emission of this year are important for Climate Change in five years from now. In particular, the output of the tests tell us that the **causuality appears after 5 years**."
   ]
  },
  {
   "cell_type": "markdown",
   "metadata": {},
   "source": [
    "This test has its limitations, and obviously it cannot really detect causality, which is a far more complex phenomenon and does not involve temporal consequence only (the famous *hoc, ergo propter hoc* fallacy). However, it could be seen as a first clue about possible relations in the data (and not only in scientific studies) between CO2 emissions and temperature increases in recent years."
   ]
  }
 ],
 "metadata": {
  "kernelspec": {
   "display_name": "Python 3",
   "language": "python",
   "name": "python3"
  },
  "language_info": {
   "codemirror_mode": {
    "name": "ipython",
    "version": 3
   },
   "file_extension": ".py",
   "mimetype": "text/x-python",
   "name": "python",
   "nbconvert_exporter": "python",
   "pygments_lexer": "ipython3",
   "version": "3.7.5"
  }
 },
 "nbformat": 4,
 "nbformat_minor": 4
}
