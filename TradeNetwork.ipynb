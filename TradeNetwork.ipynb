{
 "cells": [
  {
   "cell_type": "code",
   "execution_count": 5,
   "metadata": {},
   "outputs": [],
   "source": [
    "%matplotlib inline\n",
    "import pandas as pd\n",
    "import numpy as np\n",
    "import re\n",
    "from matplotlib.ticker import MaxNLocator\n",
    "import matplotlib.pyplot as plt\n",
    "import folium\n",
    "from sklearn import preprocessing\n",
    "import geopandas as gpd\n",
    "import matplotlib.colors as colors\n",
    "import matplotlib.colors as colors\n",
    "from ipywidgets import interact, interactive, fixed, interact_manual\n",
    "import ipywidgets as widgets\n",
    "from helpers import *\n",
    "from ipywidgets import SelectMultiple, RadioButtons, interact, Layout\n",
    "%load_ext autoreload\n",
    "%autoreload 2"
   ]
  },
  {
   "cell_type": "markdown",
   "metadata": {},
   "source": [
    "## Trade Network"
   ]
  },
  {
   "cell_type": "code",
   "execution_count": 6,
   "metadata": {},
   "outputs": [],
   "source": [
    "import networkx as nx"
   ]
  },
  {
   "cell_type": "code",
   "execution_count": 7,
   "metadata": {},
   "outputs": [],
   "source": [
    "# load trade matrix\n",
    "mat = pd.read_pickle(\"pickle/trade_matrix.pkl\")"
   ]
  },
  {
   "cell_type": "code",
   "execution_count": 8,
   "metadata": {},
   "outputs": [],
   "source": [
    "# nodes\n",
    "countries = set(mat.reset_index().From.values).union(mat.reset_index().To.values)"
   ]
  },
  {
   "cell_type": "markdown",
   "metadata": {},
   "source": [
    "### Graph 1: Raw weights"
   ]
  },
  {
   "cell_type": "code",
   "execution_count": 9,
   "metadata": {},
   "outputs": [],
   "source": [
    "G1 = nx.DiGraph()"
   ]
  },
  {
   "cell_type": "code",
   "execution_count": 10,
   "metadata": {},
   "outputs": [],
   "source": [
    "G1.add_nodes_from(countries)"
   ]
  },
  {
   "cell_type": "code",
   "execution_count": 11,
   "metadata": {},
   "outputs": [],
   "source": [
    "# weighted edges\n",
    "edges = mat.mean(axis=1)"
   ]
  },
  {
   "cell_type": "code",
   "execution_count": 12,
   "metadata": {},
   "outputs": [],
   "source": [
    "G1.add_weighted_edges_from(edges.reset_index().values)"
   ]
  },
  {
   "cell_type": "code",
   "execution_count": 13,
   "metadata": {},
   "outputs": [],
   "source": [
    "# compute eigenvector centrality\n",
    "eig1 = nx.eigenvector_centrality_numpy(G1,'weight')\n",
    "eig1 = pd.Series(eig1).sort_values(ascending=False)"
   ]
  },
  {
   "cell_type": "code",
   "execution_count": 14,
   "metadata": {},
   "outputs": [
    {
     "data": {
      "text/plain": [
       "United States of America    0.421350\n",
       "Germany                     0.380337\n",
       "Japan                       0.327307\n",
       "China                       0.282327\n",
       "France                      0.271977\n",
       "United Kingdom              0.264886\n",
       "Canada                      0.253817\n",
       "Netherlands                 0.242446\n",
       "Italy                       0.221345\n",
       "Mexico                      0.215367\n",
       "dtype: float64"
      ]
     },
     "execution_count": 14,
     "metadata": {},
     "output_type": "execute_result"
    }
   ],
   "source": [
    "eig1.head(10)"
   ]
  },
  {
   "cell_type": "markdown",
   "metadata": {},
   "source": [
    "### Graph 2: Normalized weigths"
   ]
  },
  {
   "cell_type": "code",
   "execution_count": 15,
   "metadata": {},
   "outputs": [],
   "source": [
    "# load production value\n",
    "prodC = pd.read_pickle(\"pickle/value_production_crops.pkl\")\n",
    "prodL = pd.read_pickle(\"pickle/value_production_livestock.pkl\")"
   ]
  },
  {
   "cell_type": "code",
   "execution_count": 16,
   "metadata": {},
   "outputs": [],
   "source": [
    "# total production in recent years\n",
    "years = ['Y'+str(2000+x) for x in range(0,17)]\n",
    "production = prodC[years]+prodL[years]\n",
    "prod_mean = production.mean(axis=1)"
   ]
  },
  {
   "cell_type": "code",
   "execution_count": 17,
   "metadata": {},
   "outputs": [],
   "source": [
    "production = production.join(mat.reset_index().set_index('From').To).reset_index()\n",
    "production = production.rename(columns={'index':'From'}).set_index(['From','To'])\n",
    "production = production.loc[mat.index,:]"
   ]
  },
  {
   "cell_type": "code",
   "execution_count": 18,
   "metadata": {},
   "outputs": [
    {
     "data": {
      "text/html": [
       "<div>\n",
       "<style scoped>\n",
       "    .dataframe tbody tr th:only-of-type {\n",
       "        vertical-align: middle;\n",
       "    }\n",
       "\n",
       "    .dataframe tbody tr th {\n",
       "        vertical-align: top;\n",
       "    }\n",
       "\n",
       "    .dataframe thead th {\n",
       "        text-align: right;\n",
       "    }\n",
       "</style>\n",
       "<table border=\"1\" class=\"dataframe\">\n",
       "  <thead>\n",
       "    <tr style=\"text-align: right;\">\n",
       "      <th></th>\n",
       "      <th></th>\n",
       "      <th>Y2000</th>\n",
       "      <th>Y2001</th>\n",
       "      <th>Y2002</th>\n",
       "      <th>Y2003</th>\n",
       "      <th>Y2004</th>\n",
       "      <th>Y2005</th>\n",
       "      <th>Y2006</th>\n",
       "      <th>Y2007</th>\n",
       "      <th>Y2008</th>\n",
       "      <th>Y2009</th>\n",
       "      <th>Y2010</th>\n",
       "      <th>Y2011</th>\n",
       "      <th>Y2012</th>\n",
       "      <th>Y2013</th>\n",
       "      <th>Y2014</th>\n",
       "      <th>Y2015</th>\n",
       "      <th>Y2016</th>\n",
       "    </tr>\n",
       "    <tr>\n",
       "      <th>From</th>\n",
       "      <th>To</th>\n",
       "      <th></th>\n",
       "      <th></th>\n",
       "      <th></th>\n",
       "      <th></th>\n",
       "      <th></th>\n",
       "      <th></th>\n",
       "      <th></th>\n",
       "      <th></th>\n",
       "      <th></th>\n",
       "      <th></th>\n",
       "      <th></th>\n",
       "      <th></th>\n",
       "      <th></th>\n",
       "      <th></th>\n",
       "      <th></th>\n",
       "      <th></th>\n",
       "      <th></th>\n",
       "    </tr>\n",
       "  </thead>\n",
       "  <tbody>\n",
       "    <tr>\n",
       "      <td rowspan=\"5\" valign=\"top\">Afghanistan</td>\n",
       "      <td>China</td>\n",
       "      <td>0.001052</td>\n",
       "      <td>0.000027</td>\n",
       "      <td>0.000014</td>\n",
       "      <td>0.000102</td>\n",
       "      <td>0.000158</td>\n",
       "      <td>0.000215</td>\n",
       "      <td>0.000005</td>\n",
       "      <td>0.000278</td>\n",
       "      <td>0.000379</td>\n",
       "      <td>0.000629</td>\n",
       "      <td>0.001879</td>\n",
       "      <td>0.001102</td>\n",
       "      <td>0.000391</td>\n",
       "      <td>0.001088</td>\n",
       "      <td>0.003774</td>\n",
       "      <td>0.001486</td>\n",
       "      <td>0.000140</td>\n",
       "    </tr>\n",
       "    <tr>\n",
       "      <td>Germany</td>\n",
       "      <td>0.000005</td>\n",
       "      <td>0.000044</td>\n",
       "      <td>0.000007</td>\n",
       "      <td>0.000056</td>\n",
       "      <td>0.000041</td>\n",
       "      <td>0.000113</td>\n",
       "      <td>0.000154</td>\n",
       "      <td>0.000692</td>\n",
       "      <td>0.000273</td>\n",
       "      <td>0.000581</td>\n",
       "      <td>0.002753</td>\n",
       "      <td>0.001340</td>\n",
       "      <td>0.000345</td>\n",
       "      <td>0.000798</td>\n",
       "      <td>0.002290</td>\n",
       "      <td>0.001009</td>\n",
       "      <td>0.000795</td>\n",
       "    </tr>\n",
       "    <tr>\n",
       "      <td>India</td>\n",
       "      <td>0.004965</td>\n",
       "      <td>0.003973</td>\n",
       "      <td>0.003074</td>\n",
       "      <td>0.005618</td>\n",
       "      <td>0.006237</td>\n",
       "      <td>0.007958</td>\n",
       "      <td>0.003244</td>\n",
       "      <td>0.012292</td>\n",
       "      <td>0.018754</td>\n",
       "      <td>0.024749</td>\n",
       "      <td>0.020296</td>\n",
       "      <td>0.023685</td>\n",
       "      <td>0.005593</td>\n",
       "      <td>0.024300</td>\n",
       "      <td>0.045046</td>\n",
       "      <td>0.065573</td>\n",
       "      <td>0.053363</td>\n",
       "    </tr>\n",
       "    <tr>\n",
       "      <td>Iran</td>\n",
       "      <td>0.000181</td>\n",
       "      <td>0.000025</td>\n",
       "      <td>0.000020</td>\n",
       "      <td>0.000129</td>\n",
       "      <td>0.000429</td>\n",
       "      <td>0.000550</td>\n",
       "      <td>0.000000</td>\n",
       "      <td>0.000000</td>\n",
       "      <td>0.000000</td>\n",
       "      <td>0.004755</td>\n",
       "      <td>0.005876</td>\n",
       "      <td>0.002492</td>\n",
       "      <td>0.000000</td>\n",
       "      <td>0.000000</td>\n",
       "      <td>0.003531</td>\n",
       "      <td>0.000000</td>\n",
       "      <td>0.004435</td>\n",
       "    </tr>\n",
       "    <tr>\n",
       "      <td>Pakistan</td>\n",
       "      <td>0.004941</td>\n",
       "      <td>0.003550</td>\n",
       "      <td>0.002952</td>\n",
       "      <td>0.003747</td>\n",
       "      <td>0.004649</td>\n",
       "      <td>0.001918</td>\n",
       "      <td>0.004090</td>\n",
       "      <td>0.007469</td>\n",
       "      <td>0.007269</td>\n",
       "      <td>0.024448</td>\n",
       "      <td>0.023368</td>\n",
       "      <td>0.020316</td>\n",
       "      <td>0.016391</td>\n",
       "      <td>0.026539</td>\n",
       "      <td>0.043628</td>\n",
       "      <td>0.070727</td>\n",
       "      <td>0.059137</td>\n",
       "    </tr>\n",
       "  </tbody>\n",
       "</table>\n",
       "</div>"
      ],
      "text/plain": [
       "                         Y2000     Y2001     Y2002     Y2003     Y2004  \\\n",
       "From        To                                                           \n",
       "Afghanistan China     0.001052  0.000027  0.000014  0.000102  0.000158   \n",
       "            Germany   0.000005  0.000044  0.000007  0.000056  0.000041   \n",
       "            India     0.004965  0.003973  0.003074  0.005618  0.006237   \n",
       "            Iran      0.000181  0.000025  0.000020  0.000129  0.000429   \n",
       "            Pakistan  0.004941  0.003550  0.002952  0.003747  0.004649   \n",
       "\n",
       "                         Y2005     Y2006     Y2007     Y2008     Y2009  \\\n",
       "From        To                                                           \n",
       "Afghanistan China     0.000215  0.000005  0.000278  0.000379  0.000629   \n",
       "            Germany   0.000113  0.000154  0.000692  0.000273  0.000581   \n",
       "            India     0.007958  0.003244  0.012292  0.018754  0.024749   \n",
       "            Iran      0.000550  0.000000  0.000000  0.000000  0.004755   \n",
       "            Pakistan  0.001918  0.004090  0.007469  0.007269  0.024448   \n",
       "\n",
       "                         Y2010     Y2011     Y2012     Y2013     Y2014  \\\n",
       "From        To                                                           \n",
       "Afghanistan China     0.001879  0.001102  0.000391  0.001088  0.003774   \n",
       "            Germany   0.002753  0.001340  0.000345  0.000798  0.002290   \n",
       "            India     0.020296  0.023685  0.005593  0.024300  0.045046   \n",
       "            Iran      0.005876  0.002492  0.000000  0.000000  0.003531   \n",
       "            Pakistan  0.023368  0.020316  0.016391  0.026539  0.043628   \n",
       "\n",
       "                         Y2015     Y2016  \n",
       "From        To                            \n",
       "Afghanistan China     0.001486  0.000140  \n",
       "            Germany   0.001009  0.000795  \n",
       "            India     0.065573  0.053363  \n",
       "            Iran      0.000000  0.004435  \n",
       "            Pakistan  0.070727  0.059137  "
      ]
     },
     "execution_count": 18,
     "metadata": {},
     "output_type": "execute_result"
    }
   ],
   "source": [
    "mat_norm = mat[years]/production\n",
    "mat_norm.head()"
   ]
  },
  {
   "cell_type": "code",
   "execution_count": 19,
   "metadata": {},
   "outputs": [],
   "source": [
    "mat_norm.to_pickle(\"pickle/trade_matrix_norm.pkl\")"
   ]
  },
  {
   "cell_type": "code",
   "execution_count": 20,
   "metadata": {},
   "outputs": [],
   "source": [
    "G2 = nx.DiGraph()"
   ]
  },
  {
   "cell_type": "code",
   "execution_count": 21,
   "metadata": {},
   "outputs": [],
   "source": [
    "G2.add_nodes_from(countries)"
   ]
  },
  {
   "cell_type": "code",
   "execution_count": 22,
   "metadata": {},
   "outputs": [],
   "source": [
    "# weighted edges\n",
    "edges = mat_norm.mean(axis=1)"
   ]
  },
  {
   "cell_type": "code",
   "execution_count": 23,
   "metadata": {},
   "outputs": [],
   "source": [
    "G2.add_weighted_edges_from(edges.reset_index().values)"
   ]
  },
  {
   "cell_type": "code",
   "execution_count": 24,
   "metadata": {},
   "outputs": [],
   "source": [
    "# compute eigenvector centrality\n",
    "eig2 = nx.eigenvector_centrality_numpy(G2,'weight')\n",
    "eig2 = pd.Series(eig2).sort_values(ascending=False)"
   ]
  },
  {
   "cell_type": "code",
   "execution_count": 25,
   "metadata": {},
   "outputs": [
    {
     "data": {
      "text/plain": [
       "Germany                     0.615902\n",
       "France                      0.424744\n",
       "United Kingdom              0.344476\n",
       "Netherlands                 0.289199\n",
       "Italy                       0.253267\n",
       "Belgium                     0.214993\n",
       "United States of America    0.185938\n",
       "Spain                       0.148625\n",
       "Austria                     0.088384\n",
       "Poland                      0.083301\n",
       "dtype: float64"
      ]
     },
     "execution_count": 25,
     "metadata": {},
     "output_type": "execute_result"
    }
   ],
   "source": [
    "eig2.head(10)"
   ]
  },
  {
   "cell_type": "code",
   "execution_count": 26,
   "metadata": {},
   "outputs": [
    {
     "data": {
      "text/plain": [
       "United States of America    4.269975e+07\n",
       "China                       2.832978e+07\n",
       "Germany                     2.192796e+07\n",
       "France                      1.773009e+07\n",
       "Italy                       8.007288e+06\n",
       "United Kingdom              6.161696e+06\n",
       "Spain                       4.900980e+06\n",
       "Netherlands                 3.735338e+06\n",
       "Russia                      3.665178e+06\n",
       "India                       1.840024e+06\n",
       "dtype: float64"
      ]
     },
     "execution_count": 26,
     "metadata": {},
     "output_type": "execute_result"
    }
   ],
   "source": [
    "pd.Series(eig2*prod_mean).sort_values(ascending=False).head(10)"
   ]
  }
 ],
 "metadata": {
  "kernelspec": {
   "display_name": "Python 3",
   "language": "python",
   "name": "python3"
  },
  "language_info": {
   "codemirror_mode": {
    "name": "ipython",
    "version": 3
   },
   "file_extension": ".py",
   "mimetype": "text/x-python",
   "name": "python",
   "nbconvert_exporter": "python",
   "pygments_lexer": "ipython3",
   "version": "3.7.5"
  }
 },
 "nbformat": 4,
 "nbformat_minor": 4
}
