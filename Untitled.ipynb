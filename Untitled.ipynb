{
 "cells": [
  {
   "cell_type": "code",
   "execution_count": null,
   "metadata": {},
   "outputs": [],
   "source": [
    "# Load dataset\n",
    "value_production = pd.read_csv('datasets/'+VALUE_PROD, encoding = \"ISO-8859-1\")"
   ]
  },
  {
   "cell_type": "code",
   "execution_count": null,
   "metadata": {},
   "outputs": [],
   "source": [
    "value_production.head()"
   ]
  },
  {
   "cell_type": "code",
   "execution_count": null,
   "metadata": {},
   "outputs": [],
   "source": [
    "drop_item = ['Agriculture (PIN) + (Total)', 'Agriculture (PIN) > (List)', 'Agriculture > (List)', 'Cereals,Total + (Total)'\n",
    "             'Cereals,Total > (List)', 'Crops (PIN) + (Total)', 'Crops (PIN) > (List)', 'Food (PIN) + (Total)',\n",
    "             'Food (PIN) > (List)', 'Livestock (PIN) + (Total)', 'Livestock (PIN) > (List)', 'Non Food (PIN) + (Total)',\n",
    "             'Non Food (PIN) > (List)']\n",
    "value_production = value_production[~value_production.Item.isin(drop_item)]"
   ]
  },
  {
   "cell_type": "code",
   "execution_count": null,
   "metadata": {},
   "outputs": [],
   "source": [
    "value_production = value_production[value_production.Element == 'Gross Production Value (current million US$)']"
   ]
  },
  {
   "cell_type": "code",
   "execution_count": null,
   "metadata": {},
   "outputs": [],
   "source": [
    "value_production = value_production.groupby('Area').sum()"
   ]
  },
  {
   "cell_type": "code",
   "execution_count": null,
   "metadata": {},
   "outputs": [],
   "source": [
    "value_production = clean_df(value_production,years,to_drop,changes)"
   ]
  },
  {
   "cell_type": "code",
   "execution_count": null,
   "metadata": {},
   "outputs": [],
   "source": [
    "value_production.to_pickle(\"pickle/value_production.pkl\")"
   ]
  }
 ],
 "metadata": {
  "kernelspec": {
   "display_name": "Python 3",
   "language": "python",
   "name": "python3"
  },
  "language_info": {
   "codemirror_mode": {
    "name": "ipython",
    "version": 3
   },
   "file_extension": ".py",
   "mimetype": "text/x-python",
   "name": "python",
   "nbconvert_exporter": "python",
   "pygments_lexer": "ipython3",
   "version": "3.7.3"
  }
 },
 "nbformat": 4,
 "nbformat_minor": 2
}
