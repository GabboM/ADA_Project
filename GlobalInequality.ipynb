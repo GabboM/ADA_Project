{
 "cells": [
  {
   "cell_type": "code",
   "execution_count": 1,
   "metadata": {},
   "outputs": [],
   "source": [
    "%matplotlib inline\n",
    "import pandas as pd\n",
    "import numpy as np\n",
    "import matplotlib.pyplot as plt\n",
    "import folium\n",
    "from sklearn import preprocessing\n",
    "import tslearn.utils\n",
    "from tslearn.clustering import TimeSeriesKMeans\n",
    "import geopandas as gpd\n",
    "import ipywidgets as widgets\n",
    "from ipywidgets import interact, interactive, fixed, interact_manual, SelectMultiple, RadioButtons, interact, Layout\n",
    "import matplotlib.colors as colors\n",
    "import plotly\n",
    "import plotly.express as px"
   ]
  },
  {
   "cell_type": "code",
   "execution_count": 2,
   "metadata": {},
   "outputs": [],
   "source": [
    "# World countries names from geopandas\n",
    "world_df = gpd.read_file(gpd.datasets.get_path('naturalearth_lowres'))\n",
    "countries_world = set(world_df['name'])"
   ]
  },
  {
   "cell_type": "markdown",
   "metadata": {},
   "source": [
    "# Global income inequality"
   ]
  },
  {
   "cell_type": "markdown",
   "metadata": {},
   "source": [
    "## Are resources produced by a country equally distributed among citizens?"
   ]
  },
  {
   "cell_type": "markdown",
   "metadata": {},
   "source": [
    "In order to dig inside this question, we decide to study how income is distributed in the different countries.\n",
    "\n",
    "Indeed, in previous analyses, we discovered how some countries are more responsible for the production in term of crops and livestock. Production causes emission of CO2, which is one of the main causes of Climate Change. \n",
    "\n",
    "Of course, we cannot target the production as *bad* a priori: indeed, production is important for the economy and overall wealth of a country. However, it could be important to analyze how income and wealth is distributed within each country among its inhabitants, i.e. inspect how economic resources earned by productive activities are split.\n",
    "\n",
    "A quite common phenomenon that can be detected in many countries all over the world is the so called **Matthew Effect**, which can be summarized in the sentence *the rich gets richer and the poor gets poorer*."
   ]
  },
  {
   "cell_type": "markdown",
   "metadata": {},
   "source": [
    "In FAO dataset, there were no information about this aspect: thus we need to retrieve some data from the World Inequality Database ([here](https://wid.world/data/)).\n",
    "\n",
    "The WID aims to provide open and convenient access to the most extensive available database on the historical evolution of the world distribution of income and wealth, both within countries and between countries.\n",
    "We have already cleaned this dataset during data cleaning phase: below, you can find an example on how it look like."
   ]
  },
  {
   "cell_type": "code",
   "execution_count": 3,
   "metadata": {},
   "outputs": [
    {
     "data": {
      "text/html": [
       "<div>\n",
       "<style scoped>\n",
       "    .dataframe tbody tr th:only-of-type {\n",
       "        vertical-align: middle;\n",
       "    }\n",
       "\n",
       "    .dataframe tbody tr th {\n",
       "        vertical-align: top;\n",
       "    }\n",
       "\n",
       "    .dataframe thead th {\n",
       "        text-align: right;\n",
       "    }\n",
       "</style>\n",
       "<table border=\"1\" class=\"dataframe\">\n",
       "  <thead>\n",
       "    <tr style=\"text-align: right;\">\n",
       "      <th></th>\n",
       "      <th>Poor50</th>\n",
       "      <th>Top1</th>\n",
       "    </tr>\n",
       "    <tr>\n",
       "      <th>Year</th>\n",
       "      <th></th>\n",
       "      <th></th>\n",
       "    </tr>\n",
       "  </thead>\n",
       "  <tbody>\n",
       "    <tr>\n",
       "      <td>2013</td>\n",
       "      <td>0.1450</td>\n",
       "      <td>0.1381</td>\n",
       "    </tr>\n",
       "    <tr>\n",
       "      <td>2014</td>\n",
       "      <td>0.1486</td>\n",
       "      <td>0.1366</td>\n",
       "    </tr>\n",
       "    <tr>\n",
       "      <td>2015</td>\n",
       "      <td>0.1483</td>\n",
       "      <td>0.1392</td>\n",
       "    </tr>\n",
       "    <tr>\n",
       "      <td>2016</td>\n",
       "      <td>0.0000</td>\n",
       "      <td>0.0000</td>\n",
       "    </tr>\n",
       "    <tr>\n",
       "      <td>2017</td>\n",
       "      <td>0.0000</td>\n",
       "      <td>0.0000</td>\n",
       "    </tr>\n",
       "  </tbody>\n",
       "</table>\n",
       "</div>"
      ],
      "text/plain": [
       "      Poor50    Top1\n",
       "Year                \n",
       "2013  0.1450  0.1381\n",
       "2014  0.1486  0.1366\n",
       "2015  0.1483  0.1392\n",
       "2016  0.0000  0.0000\n",
       "2017  0.0000  0.0000"
      ]
     },
     "execution_count": 3,
     "metadata": {},
     "output_type": "execute_result"
    }
   ],
   "source": [
    "# Read dataset\n",
    "inequality = pd.read_pickle(\"pickle/inequality_ref.pkl\")\n",
    "inequality.loc['China'][['Poor50','Top1']].tail()"
   ]
  },
  {
   "cell_type": "markdown",
   "metadata": {},
   "source": [
    "The DataFrame showed above it's divided by country and reports which percentage of the total amount of income is earned by the *Bottom 50% percent* (the poorests) and by the *Top 1%* (the richests) of the population of a given country."
   ]
  },
  {
   "cell_type": "markdown",
   "metadata": {},
   "source": [
    "We first define an utility function, which helps us dealing with NaN values."
   ]
  },
  {
   "cell_type": "code",
   "execution_count": 4,
   "metadata": {},
   "outputs": [],
   "source": [
    "def set_nan(x):\n",
    "    if x == 0:\n",
    "        return np.nan\n",
    "    else:\n",
    "        return x"
   ]
  },
  {
   "cell_type": "code",
   "execution_count": 5,
   "metadata": {},
   "outputs": [],
   "source": [
    "inequality = inequality.applymap(set_nan)"
   ]
  },
  {
   "cell_type": "markdown",
   "metadata": {},
   "source": [
    "In order to give a visual example of the **Matthew Effect** we plot 6 countries, from different continents; these plots could help to understand the phenomenon we are talking about. We try to show 6 different situations: we will dig into similarities and differences among countries later."
   ]
  },
  {
   "cell_type": "code",
   "execution_count": 6,
   "metadata": {},
   "outputs": [],
   "source": [
    "# Selected countries\n",
    "countries = ['France','United States of America','Botswana','China','Russia','India']"
   ]
  },
  {
   "cell_type": "code",
   "execution_count": 7,
   "metadata": {},
   "outputs": [
    {
     "data": {
      "image/png": "[encoded data removed]",
      "text/plain": [
       "<Figure size 864x432 with 6 Axes>"
      ]
     },
     "metadata": {
      "needs_background": "light"
     },
     "output_type": "display_data"
    }
   ],
   "source": [
    "f,a = plt.subplots(2,3 ,figsize=(12,6))\n",
    "a = a.ravel()\n",
    "for idx,ax in enumerate(a):\n",
    "    df = inequality.drop('Top10',axis=1)\n",
    "    df = df.reset_index().set_index(['Area'])\n",
    "    df = df.loc[countries[idx],].set_index('Year')\n",
    "    ax.plot(df)\n",
    "    ax.set_title(countries[idx])\n",
    "    ax.set_xlabel('Year')\n",
    "    ax.set_ylabel('Percentage of total income')\n",
    "    ax.set_ylim(0,0.4)\n",
    "    ax.legend(['Poor50','Top1'])\n",
    "plt.tight_layout()"
   ]
  },
  {
   "cell_type": "markdown",
   "metadata": {},
   "source": [
    "These plots well explain the effect we were describing above, which is evolving faster and faster in recent years. While in European countries (that have France as a representative country) managed to contain the phenomenon, developing countries like China or India are having great issues in controlling it. Interestingly enough, United States have a situation nearer to developing countries than to big economies like European ones: the gap between the rich and the poor part of the population is becoming more and more wide in recent years. Finally, Russian situation clearly describes what happened after the end of URRS."
   ]
  },
  {
   "cell_type": "markdown",
   "metadata": {},
   "source": [
    "## Before we start... Feature engineering"
   ]
  },
  {
   "cell_type": "markdown",
   "metadata": {},
   "source": [
    "Before further analyzing the whole set of countries, we have to fix some issue which prevent us from effectively exploit `tslearn` package for time series analysis.\n",
    "\n",
    "The first problem is that a consistent fraction of countries does not have data at all about the distribution of the income of the poorest part of the popualtion, i.e. `Poor50` column: to deal with this issue, we artificially build that time series by observing that, given the distribution for the richest part (`Top1` column), the distribution of the poorest part is usually a constant fraction of the remaining percentage of wealth, and thus we can reconstruct the `Poor50` time series on the basis of the `Top1` column."
   ]
  },
  {
   "cell_type": "code",
   "execution_count": 8,
   "metadata": {},
   "outputs": [],
   "source": [
    "# Define fraction\n",
    "interp = inequality.reset_index().groupby('Year').mean()\n",
    "interp = interp.Poor50/(1-interp.Top1)"
   ]
  },
  {
   "cell_type": "code",
   "execution_count": 9,
   "metadata": {},
   "outputs": [
    {
     "data": {
      "text/plain": [
       "(0.2297367956350025, 0.03241036226410951)"
      ]
     },
     "execution_count": 9,
     "metadata": {},
     "output_type": "execute_result"
    }
   ],
   "source": [
    "np.mean(interp), np.std(interp)"
   ]
  },
  {
   "cell_type": "markdown",
   "metadata": {},
   "source": [
    "From this data, we can infer that about 23% of income not earned by the richest 1% of the population is earned by the poorest 50% (with a reasonable standard deviation): we will use this ratio to articifically construct missing time series."
   ]
  },
  {
   "cell_type": "code",
   "execution_count": 10,
   "metadata": {},
   "outputs": [],
   "source": [
    "# Utility function\n",
    "alpha = np.mean(interp)\n",
    "def completePoor50(ts):\n",
    "    ts['Poor50'] = (1-ts['Top1'])*alpha\n",
    "    return ts"
   ]
  },
  {
   "cell_type": "code",
   "execution_count": 11,
   "metadata": {},
   "outputs": [],
   "source": [
    "# Select Poor50 and Top1\n",
    "inequality = inequality[['Poor50','Top1']]"
   ]
  },
  {
   "cell_type": "code",
   "execution_count": 12,
   "metadata": {},
   "outputs": [
    {
     "data": {
      "text/html": [
       "<div>\n",
       "<style scoped>\n",
       "    .dataframe tbody tr th:only-of-type {\n",
       "        vertical-align: middle;\n",
       "    }\n",
       "\n",
       "    .dataframe tbody tr th {\n",
       "        vertical-align: top;\n",
       "    }\n",
       "\n",
       "    .dataframe thead th {\n",
       "        text-align: right;\n",
       "    }\n",
       "</style>\n",
       "<table border=\"1\" class=\"dataframe\">\n",
       "  <thead>\n",
       "    <tr style=\"text-align: right;\">\n",
       "      <th></th>\n",
       "      <th></th>\n",
       "      <th>Poor50</th>\n",
       "      <th>Top1</th>\n",
       "    </tr>\n",
       "    <tr>\n",
       "      <th>Area</th>\n",
       "      <th>Year</th>\n",
       "      <th></th>\n",
       "      <th></th>\n",
       "    </tr>\n",
       "  </thead>\n",
       "  <tbody>\n",
       "    <tr>\n",
       "      <td rowspan=\"5\" valign=\"top\">eSwatini</td>\n",
       "      <td>2013</td>\n",
       "      <td>0.095234</td>\n",
       "      <td>0.182021</td>\n",
       "    </tr>\n",
       "    <tr>\n",
       "      <td>2014</td>\n",
       "      <td>0.095234</td>\n",
       "      <td>0.182021</td>\n",
       "    </tr>\n",
       "    <tr>\n",
       "      <td>2015</td>\n",
       "      <td>0.095234</td>\n",
       "      <td>0.182021</td>\n",
       "    </tr>\n",
       "    <tr>\n",
       "      <td>2016</td>\n",
       "      <td>0.095234</td>\n",
       "      <td>0.182021</td>\n",
       "    </tr>\n",
       "    <tr>\n",
       "      <td>2017</td>\n",
       "      <td>0.095234</td>\n",
       "      <td>0.182021</td>\n",
       "    </tr>\n",
       "  </tbody>\n",
       "</table>\n",
       "</div>"
      ],
      "text/plain": [
       "                 Poor50      Top1\n",
       "Area     Year                    \n",
       "eSwatini 2013  0.095234  0.182021\n",
       "         2014  0.095234  0.182021\n",
       "         2015  0.095234  0.182021\n",
       "         2016  0.095234  0.182021\n",
       "         2017  0.095234  0.182021"
      ]
     },
     "execution_count": 12,
     "metadata": {},
     "output_type": "execute_result"
    }
   ],
   "source": [
    "inequality.tail()"
   ]
  },
  {
   "cell_type": "markdown",
   "metadata": {},
   "source": [
    "## Clustering countries: which areas show similar patterns?"
   ]
  },
  {
   "cell_type": "markdown",
   "metadata": {},
   "source": [
    "Our idea is to perform clustering with world countries, in order to show if, exploiting this unsupervised learning technique, we are able to define groups based on the features of the times series."
   ]
  },
  {
   "cell_type": "markdown",
   "metadata": {},
   "source": [
    "Thanks to features engineering, we managed to have, for each country, the time series from 1980 to 2017. Unfortunately, some countries are not in the original dataset, and thus data are not available."
   ]
  },
  {
   "cell_type": "markdown",
   "metadata": {},
   "source": [
    "We start with an analysis and clustering based on the whole time series. We use the **k-means** algorithm for clustering."
   ]
  },
  {
   "cell_type": "code",
   "execution_count": 13,
   "metadata": {},
   "outputs": [],
   "source": [
    "# Define variables\n",
    "ts_dataset = list()\n",
    "years = range(1980,2018)\n",
    "countries = inequality.reset_index().Area.unique()\n",
    "countries_cluster = []\n",
    "counter = 0;"
   ]
  },
  {
   "cell_type": "code",
   "execution_count": 14,
   "metadata": {},
   "outputs": [],
   "source": [
    "# Build time series\n",
    "for c in countries:\n",
    "    ts = inequality.reset_index().set_index(['Area'])\n",
    "    ts = ts.loc[c,].set_index('Year')\n",
    "    ts = ts.loc[years,].fillna(method='ffill').fillna(method='bfill')\n",
    "    if ts.isna().values.any() == True:\n",
    "        counter = counter + 1\n",
    "        ts = completePoor50(ts)\n",
    "        if ts.isna().values.any() == True:\n",
    "            continue\n",
    "    countries_cluster = countries_cluster + [c]\n",
    "    ts_dataset.append(ts.values)"
   ]
  },
  {
   "cell_type": "code",
   "execution_count": 15,
   "metadata": {},
   "outputs": [
    {
     "data": {
      "text/plain": [
       "(115, 11)"
      ]
     },
     "execution_count": 15,
     "metadata": {},
     "output_type": "execute_result"
    }
   ],
   "source": [
    "# Check for the use of artificial time series\n",
    "len(countries), counter"
   ]
  },
  {
   "cell_type": "markdown",
   "metadata": {},
   "source": [
    "Note that the time series for `Poor50` was artificially build in 11 countries only (less that 10% of the total)."
   ]
  },
  {
   "cell_type": "code",
   "execution_count": 16,
   "metadata": {},
   "outputs": [
    {
     "data": {
      "text/plain": [
       "set()"
      ]
     },
     "execution_count": 16,
     "metadata": {},
     "output_type": "execute_result"
    }
   ],
   "source": [
    "# Check for missing countries\n",
    "set(countries).difference(countries_cluster)"
   ]
  },
  {
   "cell_type": "markdown",
   "metadata": {},
   "source": [
    "Therefore, no other problem appeared in data, since all time series were correctly added to the dataset (which mean that they do not contain missing values)."
   ]
  },
  {
   "cell_type": "code",
   "execution_count": 17,
   "metadata": {},
   "outputs": [],
   "source": [
    "# Create time series dataset\n",
    "ts_dataset = tslearn.utils.to_time_series_dataset(ts_dataset)"
   ]
  },
  {
   "cell_type": "code",
   "execution_count": 18,
   "metadata": {},
   "outputs": [],
   "source": [
    "# Compute k-means clustering for different k values\n",
    "mse = []\n",
    "for i in range(2,7):\n",
    "    kmeans = tslearn.clustering.TimeSeriesKMeans(metric='dtw',n_clusters=i,max_iter=100, random_state=1111)\n",
    "    clusters = kmeans.fit_predict(ts_dataset)\n",
    "    mse.append(kmeans.inertia_)"
   ]
  },
  {
   "cell_type": "markdown",
   "metadata": {},
   "source": [
    "Clustering task is performed using the function provided with the `tslearn` package, `tslearn.clustering.TimeSeriesKMeans`. The distance function used to compute pairwise distances among time series is the **Dynamic Time Warping**: a general introduction and more information on pros and cons of this measure can be found [here](https://medium.com/datadriveninvestor/dynamic-time-warping-dtw-d51d1a1e4afc)."
   ]
  },
  {
   "cell_type": "markdown",
   "metadata": {},
   "source": [
    "Let's first have a look at the behaviour of the mean squared error."
   ]
  },
  {
   "cell_type": "code",
   "execution_count": 19,
   "metadata": {},
   "outputs": [
    {
     "data": {
      "text/plain": [
       "Text(0, 0.5, 'MSE')"
      ]
     },
     "execution_count": 19,
     "metadata": {},
     "output_type": "execute_result"
    },
    {
     "data": {
      "image/png": "[encoded data removed]",
      "text/plain": [
       "<Figure size 504x360 with 1 Axes>"
      ]
     },
     "metadata": {
      "needs_background": "light"
     },
     "output_type": "display_data"
    }
   ],
   "source": [
    "# Mean squared errors for different k\n",
    "fig, ax = plt.subplots(figsize=(7,5))\n",
    "ax.plot(range(2,7),mse)\n",
    "ax.set_title('Mean Squared Error')\n",
    "ax.set_xlabel('k')\n",
    "ax.set_ylabel('MSE')"
   ]
  },
  {
   "cell_type": "markdown",
   "metadata": {},
   "source": [
    "For the clustering on the whole time series, we will use 4 clusters."
   ]
  },
  {
   "cell_type": "code",
   "execution_count": 20,
   "metadata": {},
   "outputs": [],
   "source": [
    "# Recompute clusters labels with k = 4\n",
    "kmeans = tslearn.clustering.TimeSeriesKMeans(metric='dtw',n_clusters=4,max_iter=100, random_state=1111)\n",
    "clusters = kmeans.fit_predict(ts_dataset)\n",
    "clusters = pd.Series(clusters).rename('Clusters')\n",
    "clusters.index = countries_cluster\n",
    "clusters.name = 'Cluster'"
   ]
  },
  {
   "cell_type": "code",
   "execution_count": 21,
   "metadata": {},
   "outputs": [
    {
     "data": {
      "text/plain": [
       "Index(['Albania', 'Australia', 'Austria', 'Belgium', 'Bosnia and Herz.',\n",
       "       'Bulgaria', 'Croatia', 'Cyprus', 'Czechia', 'Denmark', 'Estonia',\n",
       "       'Finland', 'France', 'Germany', 'Greece', 'Hungary', 'Iceland',\n",
       "       'Indonesia', 'Ireland', 'Italy', 'Japan', 'Latvia', 'Lithuania',\n",
       "       'Luxembourg', 'Macedonia', 'Moldova', 'Montenegro', 'Netherlands',\n",
       "       'New Zealand', 'Norway', 'Poland', 'Portugal', 'Romania', 'Serbia',\n",
       "       'Slovakia', 'Slovenia', 'South Korea', 'Spain', 'Sweden', 'Switzerland',\n",
       "       'Taiwan', 'United Kingdom'],\n",
       "      dtype='object')"
      ]
     },
     "execution_count": 21,
     "metadata": {},
     "output_type": "execute_result"
    }
   ],
   "source": [
    "# Example: have a look at cluster 1 (European countries, mainly)\n",
    "clusters[clusters==1].index"
   ]
  },
  {
   "cell_type": "markdown",
   "metadata": {},
   "source": [
    "We now try to use k-means algorithm to analyze our data in three different periods in time. \n",
    "\n",
    "The function below helps us to build the clustering model, in a way similar to what we have done before using the complete time series from 1980 to 2017.\n",
    "In particular, we split each time series into the following three time periods:\n",
    "* 1980-1990\n",
    "* 1991-2002\n",
    "* 2003-2017\n",
    "\n",
    "Given that data for each clustering algorithm are fewer with respect to the single time period, and optimizing the number of clusters for each time period is not consistent with our purpouse, we decide to create 3 clusters only, to avoid bad clustering phenomena (such as a cluster containing just few countries)."
   ]
  },
  {
   "cell_type": "code",
   "execution_count": 22,
   "metadata": {},
   "outputs": [],
   "source": [
    "def build_clusters(years_):\n",
    "    \n",
    "    # Define variables\n",
    "    ts_dataset = list()\n",
    "    years = range(years_[0],years_[1])\n",
    "    countries = inequality.reset_index().Area.unique()\n",
    "    countries_cluster = []\n",
    "    \n",
    "    # Build time series\n",
    "    for c in countries:\n",
    "        ts = inequality.reset_index().set_index(['Area'])\n",
    "        ts = ts.loc[c,].set_index('Year')\n",
    "        ts = ts.loc[years,].fillna(method='ffill').fillna(method='bfill')\n",
    "        if ts.isna().values.any() == True:\n",
    "            ts = completePoor50(ts)\n",
    "            if ts.isna().values.any() == True:\n",
    "                continue\n",
    "        countries_cluster = countries_cluster + [c]\n",
    "        ts_dataset.append(ts.values)\n",
    "        \n",
    "    # Create time series dataset\n",
    "    ts_dataset = tslearn.utils.to_time_series_dataset(ts_dataset)\n",
    "    \n",
    "    # Compute k-means clustering\n",
    "    kmeans = tslearn.clustering.TimeSeriesKMeans(metric='dtw',n_clusters=3,max_iter=100,random_state=1111)\n",
    "    clusters = kmeans.fit_predict(ts_dataset)\n",
    "    clusters = pd.Series(clusters).rename('Clusters')\n",
    "    clusters.index = countries_cluster\n",
    "    \n",
    "    # Redefine clusters fixing some countries\n",
    "    chi = clusters['China']\n",
    "    clusters = clusters.replace(chi, 'CH')\n",
    "    fra = clusters['France']\n",
    "    clusters = clusters.replace(fra, 'FR')\n",
    "    bot = clusters['Botswana']\n",
    "    clusters = clusters.replace(bot, 'BW')\n",
    "\n",
    "    return clusters"
   ]
  },
  {
   "cell_type": "code",
   "execution_count": 23,
   "metadata": {},
   "outputs": [],
   "source": [
    "# Apply function in different time periods\n",
    "clustersT = pd.DataFrame(index=countries)\n",
    "yearsT = [(1980,1990),(1990,2003),(2003,2018)]\n",
    "for y in yearsT:\n",
    "     clustersT[str(y[0])+'-'+str(y[1])] = build_clusters(y)"
   ]
  },
  {
   "cell_type": "markdown",
   "metadata": {},
   "source": [
    "The last part of the function deals with the following problem: in order to have a nice visualization of the evolution in time of the different clusters, it is useful to have sort of continuity among the labeling of the clusters themself. \n",
    "\n",
    "Indeed, while some countries could be grouped together in each period, the actual cluster label (number) may be different, depending on how the algorithm arbitrarly labeled them. For example, Scandinavian countries were grouped together in all the time periods, but were labeled each time with a different cluster number (eg : 1980-1990: Cluster 2, 1991-2003: Cluster 3).\n",
    "\n",
    "In order to solve this issue, we decide to fix the cluster label for some specific countries (which never happen to be grouped together), namely *China* (Cluster 1), *France* (Cluster 2) and *Botswana* (Cluster 3).\n",
    "\n",
    "Let's have a quick look at the income distribution pattern for these countries."
   ]
  },
  {
   "cell_type": "code",
   "execution_count": 24,
   "metadata": {},
   "outputs": [],
   "source": [
    "# Selected countries\n",
    "countries = ['China','France','Botswana']\n",
    "titles = ['Cluster1 : China-like','Cluster2 : France-like','Cluster3 : Botswana-like']"
   ]
  },
  {
   "cell_type": "code",
   "execution_count": 25,
   "metadata": {},
   "outputs": [
    {
     "data": {
      "image/png": "[encoded data removed]",
      "text/plain": [
       "<Figure size 864x216 with 3 Axes>"
      ]
     },
     "metadata": {
      "needs_background": "light"
     },
     "output_type": "display_data"
    }
   ],
   "source": [
    "# Plots\n",
    "f,a = plt.subplots(1,3 ,figsize=(12,3))\n",
    "a = a.ravel()\n",
    "for idx, ax in enumerate(a):\n",
    "    df = inequality.reset_index().set_index(['Area'])\n",
    "    df = df.loc[countries[idx],].set_index('Year')\n",
    "    ax.plot(df)\n",
    "    ax.set_title(titles[idx])\n",
    "    ax.set_xlabel('Year')\n",
    "    ax.set_ylabel('Percentage of total income')\n",
    "    ax.legend(['Poor50','Top1'])\n",
    "plt.tight_layout()"
   ]
  },
  {
   "cell_type": "code",
   "execution_count": 26,
   "metadata": {},
   "outputs": [],
   "source": [
    "# Function to relabel clusters\n",
    "def substitute(x):\n",
    "    if x=='CH':\n",
    "        return 1\n",
    "    if x=='FR':\n",
    "        return 2\n",
    "    if x=='BW':\n",
    "        return 3"
   ]
  },
  {
   "cell_type": "code",
   "execution_count": 27,
   "metadata": {},
   "outputs": [],
   "source": [
    "# Apply function to dataset\n",
    "clustersT = clustersT.applymap(substitute)"
   ]
  },
  {
   "cell_type": "code",
   "execution_count": 28,
   "metadata": {},
   "outputs": [
    {
     "data": {
      "text/html": [
       "<div>\n",
       "<style scoped>\n",
       "    .dataframe tbody tr th:only-of-type {\n",
       "        vertical-align: middle;\n",
       "    }\n",
       "\n",
       "    .dataframe tbody tr th {\n",
       "        vertical-align: top;\n",
       "    }\n",
       "\n",
       "    .dataframe thead th {\n",
       "        text-align: right;\n",
       "    }\n",
       "</style>\n",
       "<table border=\"1\" class=\"dataframe\">\n",
       "  <thead>\n",
       "    <tr style=\"text-align: right;\">\n",
       "      <th></th>\n",
       "      <th>1980-1990</th>\n",
       "      <th>1990-2003</th>\n",
       "      <th>2003-2018</th>\n",
       "    </tr>\n",
       "  </thead>\n",
       "  <tbody>\n",
       "    <tr>\n",
       "      <td>Albania</td>\n",
       "      <td>NaN</td>\n",
       "      <td>2.0</td>\n",
       "      <td>2</td>\n",
       "    </tr>\n",
       "    <tr>\n",
       "      <td>Algeria</td>\n",
       "      <td>3.0</td>\n",
       "      <td>NaN</td>\n",
       "      <td>2</td>\n",
       "    </tr>\n",
       "    <tr>\n",
       "      <td>Angola</td>\n",
       "      <td>NaN</td>\n",
       "      <td>NaN</td>\n",
       "      <td>1</td>\n",
       "    </tr>\n",
       "    <tr>\n",
       "      <td>Argentina</td>\n",
       "      <td>NaN</td>\n",
       "      <td>NaN</td>\n",
       "      <td>1</td>\n",
       "    </tr>\n",
       "    <tr>\n",
       "      <td>Australia</td>\n",
       "      <td>2.0</td>\n",
       "      <td>2.0</td>\n",
       "      <td>2</td>\n",
       "    </tr>\n",
       "  </tbody>\n",
       "</table>\n",
       "</div>"
      ],
      "text/plain": [
       "           1980-1990  1990-2003  2003-2018\n",
       "Albania          NaN        2.0          2\n",
       "Algeria          3.0        NaN          2\n",
       "Angola           NaN        NaN          1\n",
       "Argentina        NaN        NaN          1\n",
       "Australia        2.0        2.0          2"
      ]
     },
     "execution_count": 28,
     "metadata": {},
     "output_type": "execute_result"
    }
   ],
   "source": [
    "clustersT.head()"
   ]
  },
  {
   "cell_type": "markdown",
   "metadata": {},
   "source": [
    "As mentioned before we have no data for some countries: we group all of them together, assigning cluster number 0."
   ]
  },
  {
   "cell_type": "code",
   "execution_count": 29,
   "metadata": {},
   "outputs": [],
   "source": [
    "# Fill missing information\n",
    "clustersT = clustersT.fillna(0)\n",
    "missing = countries_world.difference(clustersT.index)\n",
    "zero = [0, 0, 0]\n",
    "for i in missing:\n",
    "    clustersT.loc[i] = zero"
   ]
  },
  {
   "cell_type": "markdown",
   "metadata": {},
   "source": [
    "Now, we simply need to reformat and clean the new dataset."
   ]
  },
  {
   "cell_type": "code",
   "execution_count": 30,
   "metadata": {},
   "outputs": [],
   "source": [
    "# Reformat and clean\n",
    "clustersT = pd.DataFrame(clustersT).stack().reset_index()\n",
    "clustersT = clustersT.rename(columns={'level_0':'Country','level_1':'Years',0:'Cluster'})\n",
    "clustersT = clustersT.set_index('Country')"
   ]
  },
  {
   "cell_type": "code",
   "execution_count": 31,
   "metadata": {},
   "outputs": [],
   "source": [
    "# Build Choroplet map DataFrame\n",
    "merged = world_df.set_index('name').join(clustersT)\n",
    "merged = merged.dropna(subset=['Cluster'])\n",
    "merged = merged.reset_index().rename(columns={'index':'Country'})"
   ]
  },
  {
   "cell_type": "code",
   "execution_count": 32,
   "metadata": {},
   "outputs": [],
   "source": [
    "# Fix map problems\n",
    "merged.loc[merged['Country'] =='France', 'iso_a3'] = 'FRA'\n",
    "merged.loc[merged['Country'] =='Norway', 'iso_a3'] = 'NOR'"
   ]
  },
  {
   "cell_type": "code",
   "execution_count": null,
   "metadata": {},
   "outputs": [],
   "source": [
    "# Show map\n",
    "fig = px.choropleth(merged, locations=\"iso_a3\", color=\"Cluster\", hover_name=\"Country\", animation_frame=\"Years\",\n",
    "                    color_continuous_scale='Temps', color_continuous_midpoint=1, range_color=[0,3])\n",
    "fig.show()"
   ]
  },
  {
   "cell_type": "markdown",
   "metadata": {},
   "source": [
    "### Comments"
   ]
  },
  {
   "cell_type": "markdown",
   "metadata": {},
   "source": [
    "The choropleth map helps us with the visualization of the clusters. We can easily see how the European countries were clustered together, such as most of the developing countries like Brazil or India. \n",
    "\n",
    "We were interested on the behaviour of those countries which are involved the most in the production of CO2. From the map and from the plots below, we can see how they suffer of the **Matthew Effect**.\n",
    "\n",
    "This leads to consider these countries as top level not only in terms of agriculture and livestock prodcution, but also in terms of income inequality. \n",
    "\n",
    "In order to dig more carefully into this problem, we should consider how all the earnings of different branches (Industry, Agriculture, Turism, Services, etc.), are related to income inequality: however, we would need additional data (which are hardly to obtain) and much more work to provide insights about this issue."
   ]
  }
 ],
 "metadata": {
  "kernelspec": {
   "display_name": "Python 3",
   "language": "python",
   "name": "python3"
  },
  "language_info": {
   "codemirror_mode": {
    "name": "ipython",
    "version": 3
   },
   "file_extension": ".py",
   "mimetype": "text/x-python",
   "name": "python",
   "nbconvert_exporter": "python",
   "pygments_lexer": "ipython3",
   "version": "3.7.5"
  }
 },
 "nbformat": 4,
 "nbformat_minor": 4
}
